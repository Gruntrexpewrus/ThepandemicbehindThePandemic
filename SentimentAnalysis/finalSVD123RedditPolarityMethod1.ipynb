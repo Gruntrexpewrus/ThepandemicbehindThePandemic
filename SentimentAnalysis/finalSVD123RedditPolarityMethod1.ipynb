{
  "nbformat": 4,
  "nbformat_minor": 0,
  "metadata": {
    "colab": {
      "name": "finalSVD123RedditPolarityMethod1.ipynb",
      "provenance": [],
      "collapsed_sections": [
        "xxLp10GRoUmu",
        "2tcOj20Xobfe",
        "FOdYeMVKowME",
        "ob5_2Nd0ppTQ",
        "AjVb5JBZpyBJ",
        "KXxjLN60qAPb",
        "E7H098QYrn0F",
        "NAQHTznDsNja",
        "EvS6ybvBsrmB",
        "Gh4QJyqNAI9O",
        "htYyVFehw9Xo",
        "gApRcitlxAva",
        "U9zmxXgQxQcE",
        "F9fBDuO9x8Su",
        "QDeMWMywtGlN",
        "m6X9URJpARUO"
      ]
    },
    "kernelspec": {
      "name": "python3",
      "display_name": "Python 3"
    }
  },
  "cells": [
    {
      "cell_type": "markdown",
      "metadata": {
        "id": "xxLp10GRoUmu",
        "colab_type": "text"
      },
      "source": [
        "# Function to do PreProcessing\n"
      ]
    },
    {
      "cell_type": "code",
      "metadata": {
        "id": "WyD2FiBmVd15",
        "colab_type": "code",
        "colab": {
          "base_uri": "https://localhost:8080/",
          "height": 68
        },
        "outputId": "4adba8d6-64b7-4d94-b3ba-85e23de31d6f"
      },
      "source": [
        "from nltk.stem.snowball import ItalianStemmer\n",
        "from nltk import RegexpTokenizer\n",
        "import nltk\n",
        "nltk.download(\"stopwords\")"
      ],
      "execution_count": 1,
      "outputs": [
        {
          "output_type": "stream",
          "text": [
            "[nltk_data] Downloading package stopwords to /root/nltk_data...\n",
            "[nltk_data]   Unzipping corpora/stopwords.zip.\n"
          ],
          "name": "stdout"
        },
        {
          "output_type": "execute_result",
          "data": {
            "text/plain": [
              "True"
            ]
          },
          "metadata": {
            "tags": []
          },
          "execution_count": 1
        }
      ]
    },
    {
      "cell_type": "code",
      "metadata": {
        "id": "ymwVRjARXBao",
        "colab_type": "code",
        "colab": {}
      },
      "source": [
        "stopwords = nltk.corpus.stopwords.words(\"italian\")\n",
        "def process_text(text):\n",
        "  to_return = [ItalianStemmer().stem(x) for x in RegexpTokenizer(r\"\\w+\").tokenize(text) if not x in stopwords]\n",
        "  #return (\" \".join(to_return))\n",
        "  return to_return"
      ],
      "execution_count": 2,
      "outputs": []
    },
    {
      "cell_type": "code",
      "metadata": {
        "id": "zw6VcKIMXE49",
        "colab_type": "code",
        "colab": {
          "base_uri": "https://localhost:8080/",
          "height": 34
        },
        "outputId": "ff964ce3-bb46-46a6-ea07-3c7fa337cbc5"
      },
      "source": [
        "process_text('La Connessione di Nina fa schifo.')"
      ],
      "execution_count": 3,
      "outputs": [
        {
          "output_type": "execute_result",
          "data": {
            "text/plain": [
              "['la', 'connession', 'nin', 'fa', 'schif']"
            ]
          },
          "metadata": {
            "tags": []
          },
          "execution_count": 3
        }
      ]
    },
    {
      "cell_type": "code",
      "metadata": {
        "id": "6tMNL1eKX3Op",
        "colab_type": "code",
        "colab": {}
      },
      "source": [
        "import pandas as pd"
      ],
      "execution_count": 4,
      "outputs": []
    },
    {
      "cell_type": "markdown",
      "metadata": {
        "id": "2tcOj20Xobfe",
        "colab_type": "text"
      },
      "source": [
        "#Wiki Pages data"
      ]
    },
    {
      "cell_type": "code",
      "metadata": {
        "id": "cB58IlhgXMDM",
        "colab_type": "code",
        "colab": {}
      },
      "source": [
        "wikineutral = pd.read_csv('/content/drive/My Drive/Topic detection/wiki_topics.csv', index_col = 0 , sep = \"\\t\", encoding = \"utf-8\")"
      ],
      "execution_count": null,
      "outputs": []
    },
    {
      "cell_type": "code",
      "metadata": {
        "id": "1HffG3dcY-bn",
        "colab_type": "code",
        "colab": {
          "base_uri": "https://localhost:8080/",
          "height": 35
        },
        "outputId": "ef9806ab-5b5b-47cf-cebc-1e83c5c7a287"
      },
      "source": [
        "wikineutral.shape"
      ],
      "execution_count": null,
      "outputs": [
        {
          "output_type": "execute_result",
          "data": {
            "text/plain": [
              "(354, 2)"
            ]
          },
          "metadata": {
            "tags": []
          },
          "execution_count": 8
        }
      ]
    },
    {
      "cell_type": "code",
      "metadata": {
        "id": "zBvYaTSbX5ME",
        "colab_type": "code",
        "colab": {}
      },
      "source": [
        "wikineutral.drop(wikineutral.tail(200).index, inplace = True)"
      ],
      "execution_count": null,
      "outputs": []
    },
    {
      "cell_type": "code",
      "metadata": {
        "id": "KSi-tC0cZOzu",
        "colab_type": "code",
        "colab": {
          "base_uri": "https://localhost:8080/",
          "height": 35
        },
        "outputId": "38d91961-72ca-4aa2-dae3-e983018d1567"
      },
      "source": [
        "wikineutral.shape"
      ],
      "execution_count": null,
      "outputs": [
        {
          "output_type": "execute_result",
          "data": {
            "text/plain": [
              "(154, 2)"
            ]
          },
          "metadata": {
            "tags": []
          },
          "execution_count": 10
        }
      ]
    },
    {
      "cell_type": "code",
      "metadata": {
        "id": "YdlVQiN4ZSrw",
        "colab_type": "code",
        "colab": {
          "base_uri": "https://localhost:8080/",
          "height": 35
        },
        "outputId": "6529e3c9-237d-4650-b92e-dccf8202d112"
      },
      "source": [
        "wikineutral.shape"
      ],
      "execution_count": null,
      "outputs": [
        {
          "output_type": "execute_result",
          "data": {
            "text/plain": [
              "(154, 2)"
            ]
          },
          "metadata": {
            "tags": []
          },
          "execution_count": 11
        }
      ]
    },
    {
      "cell_type": "code",
      "metadata": {
        "id": "njiW0kkGZVQJ",
        "colab_type": "code",
        "colab": {
          "base_uri": "https://localhost:8080/",
          "height": 198
        },
        "outputId": "b5ae71ad-93c2-4d92-8381-6dcf6768e3a9"
      },
      "source": [
        "wikineutral.head()"
      ],
      "execution_count": null,
      "outputs": [
        {
          "output_type": "execute_result",
          "data": {
            "text/html": [
              "<div>\n",
              "<style scoped>\n",
              "    .dataframe tbody tr th:only-of-type {\n",
              "        vertical-align: middle;\n",
              "    }\n",
              "\n",
              "    .dataframe tbody tr th {\n",
              "        vertical-align: top;\n",
              "    }\n",
              "\n",
              "    .dataframe thead th {\n",
              "        text-align: right;\n",
              "    }\n",
              "</style>\n",
              "<table border=\"1\" class=\"dataframe\">\n",
              "  <thead>\n",
              "    <tr style=\"text-align: right;\">\n",
              "      <th></th>\n",
              "      <th>Topic</th>\n",
              "      <th>Text</th>\n",
              "    </tr>\n",
              "  </thead>\n",
              "  <tbody>\n",
              "    <tr>\n",
              "      <th>0</th>\n",
              "      <td>Arte e cultura</td>\n",
              "      <td>Coordinate: 45°22′02.71″N 10°13′15.84″E﻿ / ﻿45...</td>\n",
              "    </tr>\n",
              "    <tr>\n",
              "      <th>1</th>\n",
              "      <td>Arte e cultura</td>\n",
              "      <td>Coordinate: 43°34′38.28″N 11°14′51″E﻿ / ﻿43.57...</td>\n",
              "    </tr>\n",
              "    <tr>\n",
              "      <th>2</th>\n",
              "      <td>Arte e cultura</td>\n",
              "      <td>Voci principali: Architettura del Settecento, ...</td>\n",
              "    </tr>\n",
              "    <tr>\n",
              "      <th>3</th>\n",
              "      <td>Arte e cultura</td>\n",
              "      <td>Coordinate: 45°26′24.29″N 10°59′19.71″E﻿ / ﻿45...</td>\n",
              "    </tr>\n",
              "    <tr>\n",
              "      <th>4</th>\n",
              "      <td>Arte e cultura</td>\n",
              "      <td>Coordinate: 45°26′20″N 10°59′40″E﻿ / ﻿45.43888...</td>\n",
              "    </tr>\n",
              "  </tbody>\n",
              "</table>\n",
              "</div>"
            ],
            "text/plain": [
              "            Topic                                               Text\n",
              "0  Arte e cultura  Coordinate: 45°22′02.71″N 10°13′15.84″E﻿ / ﻿45...\n",
              "1  Arte e cultura  Coordinate: 43°34′38.28″N 11°14′51″E﻿ / ﻿43.57...\n",
              "2  Arte e cultura  Voci principali: Architettura del Settecento, ...\n",
              "3  Arte e cultura  Coordinate: 45°26′24.29″N 10°59′19.71″E﻿ / ﻿45...\n",
              "4  Arte e cultura  Coordinate: 45°26′20″N 10°59′40″E﻿ / ﻿45.43888..."
            ]
          },
          "metadata": {
            "tags": []
          },
          "execution_count": 12
        }
      ]
    },
    {
      "cell_type": "code",
      "metadata": {
        "id": "FK7x8LLoZW6i",
        "colab_type": "code",
        "colab": {}
      },
      "source": [
        "wikineutral.drop(['Topic'], axis = 1,  inplace = True)\n",
        "wikineutral['Sentiment'] = 'neutral'\n",
        "\n",
        "wikineutral.to_csv('/content/drive/My Drive/Topic detection/Wikineutral.csv')"
      ],
      "execution_count": null,
      "outputs": []
    },
    {
      "cell_type": "code",
      "metadata": {
        "id": "3R5MVUT3Z32E",
        "colab_type": "code",
        "colab": {
          "base_uri": "https://localhost:8080/",
          "height": 0
        },
        "outputId": "4333a204-e71f-4986-c13c-7cae2295191c"
      },
      "source": [
        "wikineutral = pd.read_csv('/content/drive/My Drive/Topic detection/Wikineutral.csv', index_col = 0)\n",
        "wikineutral.head()"
      ],
      "execution_count": 5,
      "outputs": [
        {
          "output_type": "execute_result",
          "data": {
            "text/html": [
              "<div>\n",
              "<style scoped>\n",
              "    .dataframe tbody tr th:only-of-type {\n",
              "        vertical-align: middle;\n",
              "    }\n",
              "\n",
              "    .dataframe tbody tr th {\n",
              "        vertical-align: top;\n",
              "    }\n",
              "\n",
              "    .dataframe thead th {\n",
              "        text-align: right;\n",
              "    }\n",
              "</style>\n",
              "<table border=\"1\" class=\"dataframe\">\n",
              "  <thead>\n",
              "    <tr style=\"text-align: right;\">\n",
              "      <th></th>\n",
              "      <th>Text</th>\n",
              "      <th>Sentiment</th>\n",
              "    </tr>\n",
              "  </thead>\n",
              "  <tbody>\n",
              "    <tr>\n",
              "      <th>0</th>\n",
              "      <td>Coordinate: 45°22′02.71″N 10°13′15.84″E﻿ / ﻿45...</td>\n",
              "      <td>neutral</td>\n",
              "    </tr>\n",
              "    <tr>\n",
              "      <th>1</th>\n",
              "      <td>Coordinate: 43°34′38.28″N 11°14′51″E﻿ / ﻿43.57...</td>\n",
              "      <td>neutral</td>\n",
              "    </tr>\n",
              "    <tr>\n",
              "      <th>2</th>\n",
              "      <td>Voci principali: Architettura del Settecento, ...</td>\n",
              "      <td>neutral</td>\n",
              "    </tr>\n",
              "    <tr>\n",
              "      <th>3</th>\n",
              "      <td>Coordinate: 45°26′24.29″N 10°59′19.71″E﻿ / ﻿45...</td>\n",
              "      <td>neutral</td>\n",
              "    </tr>\n",
              "    <tr>\n",
              "      <th>4</th>\n",
              "      <td>Coordinate: 45°26′20″N 10°59′40″E﻿ / ﻿45.43888...</td>\n",
              "      <td>neutral</td>\n",
              "    </tr>\n",
              "  </tbody>\n",
              "</table>\n",
              "</div>"
            ],
            "text/plain": [
              "                                                Text Sentiment\n",
              "0  Coordinate: 45°22′02.71″N 10°13′15.84″E﻿ / ﻿45...   neutral\n",
              "1  Coordinate: 43°34′38.28″N 11°14′51″E﻿ / ﻿43.57...   neutral\n",
              "2  Voci principali: Architettura del Settecento, ...   neutral\n",
              "3  Coordinate: 45°26′24.29″N 10°59′19.71″E﻿ / ﻿45...   neutral\n",
              "4  Coordinate: 45°26′20″N 10°59′40″E﻿ / ﻿45.43888...   neutral"
            ]
          },
          "metadata": {
            "tags": []
          },
          "execution_count": 5
        }
      ]
    },
    {
      "cell_type": "markdown",
      "metadata": {
        "id": "FOdYeMVKowME",
        "colab_type": "text"
      },
      "source": [
        "# Amazon Data and processing of their sentiment"
      ]
    },
    {
      "cell_type": "code",
      "metadata": {
        "id": "3ze8raciaC84",
        "colab_type": "code",
        "colab": {
          "base_uri": "https://localhost:8080/",
          "height": 0
        },
        "outputId": "60189f73-b8eb-4613-ddcc-dddc68bb9738"
      },
      "source": [
        "Amazonrewiews = pd.read_csv('/content/drive/My Drive/Topic detection/TrainDataSentiment.csv', index_col = 0 )\n",
        "Amazonrewiews.head()"
      ],
      "execution_count": 10,
      "outputs": [
        {
          "output_type": "execute_result",
          "data": {
            "text/html": [
              "<div>\n",
              "<style scoped>\n",
              "    .dataframe tbody tr th:only-of-type {\n",
              "        vertical-align: middle;\n",
              "    }\n",
              "\n",
              "    .dataframe tbody tr th {\n",
              "        vertical-align: top;\n",
              "    }\n",
              "\n",
              "    .dataframe thead th {\n",
              "        text-align: right;\n",
              "    }\n",
              "</style>\n",
              "<table border=\"1\" class=\"dataframe\">\n",
              "  <thead>\n",
              "    <tr style=\"text-align: right;\">\n",
              "      <th></th>\n",
              "      <th>content</th>\n",
              "      <th>rating</th>\n",
              "    </tr>\n",
              "  </thead>\n",
              "  <tbody>\n",
              "    <tr>\n",
              "      <th>0</th>\n",
              "      <td>Ho acquistato questa confezione di mascherine ...</td>\n",
              "      <td>4</td>\n",
              "    </tr>\n",
              "    <tr>\n",
              "      <th>1</th>\n",
              "      <td>Attenzione, ha un ferretto nasale in plastica ...</td>\n",
              "      <td>1</td>\n",
              "    </tr>\n",
              "    <tr>\n",
              "      <th>2</th>\n",
              "      <td>La confezione di cartone era già aperta, appen...</td>\n",
              "      <td>1</td>\n",
              "    </tr>\n",
              "    <tr>\n",
              "      <th>3</th>\n",
              "      <td>Mascherine vendute come \"Maschera Chirurgica 3...</td>\n",
              "      <td>1</td>\n",
              "    </tr>\n",
              "    <tr>\n",
              "      <th>4</th>\n",
              "      <td>ARRIVATO APERTO PESSIMO PRODOTTO</td>\n",
              "      <td>1</td>\n",
              "    </tr>\n",
              "  </tbody>\n",
              "</table>\n",
              "</div>"
            ],
            "text/plain": [
              "                                             content  rating\n",
              "0  Ho acquistato questa confezione di mascherine ...       4\n",
              "1  Attenzione, ha un ferretto nasale in plastica ...       1\n",
              "2  La confezione di cartone era già aperta, appen...       1\n",
              "3  Mascherine vendute come \"Maschera Chirurgica 3...       1\n",
              "4                   ARRIVATO APERTO PESSIMO PRODOTTO       1"
            ]
          },
          "metadata": {
            "tags": []
          },
          "execution_count": 10
        }
      ]
    },
    {
      "cell_type": "code",
      "metadata": {
        "id": "XD3f6vaFbQI1",
        "colab_type": "code",
        "colab": {
          "base_uri": "https://localhost:8080/",
          "height": 0
        },
        "outputId": "7aa83001-8462-4e4e-a5fd-ee5c0ab94a1e"
      },
      "source": [
        "Amazonrewiews['rating'] = Amazonrewiews['rating'].map({5: 'positive', 4: 'positive', 1:'negative', 2:'negative',3:'negative' })\n",
        "Ama = Amazonrewiews.rename(columns={'content': 'Text', 'rating': 'Sentiment' })\n",
        "Ama.head()\n"
      ],
      "execution_count": 11,
      "outputs": [
        {
          "output_type": "execute_result",
          "data": {
            "text/html": [
              "<div>\n",
              "<style scoped>\n",
              "    .dataframe tbody tr th:only-of-type {\n",
              "        vertical-align: middle;\n",
              "    }\n",
              "\n",
              "    .dataframe tbody tr th {\n",
              "        vertical-align: top;\n",
              "    }\n",
              "\n",
              "    .dataframe thead th {\n",
              "        text-align: right;\n",
              "    }\n",
              "</style>\n",
              "<table border=\"1\" class=\"dataframe\">\n",
              "  <thead>\n",
              "    <tr style=\"text-align: right;\">\n",
              "      <th></th>\n",
              "      <th>Text</th>\n",
              "      <th>Sentiment</th>\n",
              "    </tr>\n",
              "  </thead>\n",
              "  <tbody>\n",
              "    <tr>\n",
              "      <th>0</th>\n",
              "      <td>Ho acquistato questa confezione di mascherine ...</td>\n",
              "      <td>positive</td>\n",
              "    </tr>\n",
              "    <tr>\n",
              "      <th>1</th>\n",
              "      <td>Attenzione, ha un ferretto nasale in plastica ...</td>\n",
              "      <td>negative</td>\n",
              "    </tr>\n",
              "    <tr>\n",
              "      <th>2</th>\n",
              "      <td>La confezione di cartone era già aperta, appen...</td>\n",
              "      <td>negative</td>\n",
              "    </tr>\n",
              "    <tr>\n",
              "      <th>3</th>\n",
              "      <td>Mascherine vendute come \"Maschera Chirurgica 3...</td>\n",
              "      <td>negative</td>\n",
              "    </tr>\n",
              "    <tr>\n",
              "      <th>4</th>\n",
              "      <td>ARRIVATO APERTO PESSIMO PRODOTTO</td>\n",
              "      <td>negative</td>\n",
              "    </tr>\n",
              "  </tbody>\n",
              "</table>\n",
              "</div>"
            ],
            "text/plain": [
              "                                                Text Sentiment\n",
              "0  Ho acquistato questa confezione di mascherine ...  positive\n",
              "1  Attenzione, ha un ferretto nasale in plastica ...  negative\n",
              "2  La confezione di cartone era già aperta, appen...  negative\n",
              "3  Mascherine vendute come \"Maschera Chirurgica 3...  negative\n",
              "4                   ARRIVATO APERTO PESSIMO PRODOTTO  negative"
            ]
          },
          "metadata": {
            "tags": []
          },
          "execution_count": 11
        }
      ]
    },
    {
      "cell_type": "code",
      "metadata": {
        "id": "EcPmtvy4iDcQ",
        "colab_type": "code",
        "colab": {
          "base_uri": "https://localhost:8080/",
          "height": 0
        },
        "outputId": "ce056662-78b1-4680-cfcd-baf04ddb130e"
      },
      "source": [
        "Ama.to_csv('/content/drive/My Drive/Topic detection/AmaSentimented.csv')\n",
        "Ama = pd.read_csv('/content/drive/My Drive/Topic detection/AmaSentimented.csv', index_col =0)\n",
        "Ama.head()"
      ],
      "execution_count": 12,
      "outputs": [
        {
          "output_type": "execute_result",
          "data": {
            "text/html": [
              "<div>\n",
              "<style scoped>\n",
              "    .dataframe tbody tr th:only-of-type {\n",
              "        vertical-align: middle;\n",
              "    }\n",
              "\n",
              "    .dataframe tbody tr th {\n",
              "        vertical-align: top;\n",
              "    }\n",
              "\n",
              "    .dataframe thead th {\n",
              "        text-align: right;\n",
              "    }\n",
              "</style>\n",
              "<table border=\"1\" class=\"dataframe\">\n",
              "  <thead>\n",
              "    <tr style=\"text-align: right;\">\n",
              "      <th></th>\n",
              "      <th>Text</th>\n",
              "      <th>Sentiment</th>\n",
              "    </tr>\n",
              "  </thead>\n",
              "  <tbody>\n",
              "    <tr>\n",
              "      <th>0</th>\n",
              "      <td>Ho acquistato questa confezione di mascherine ...</td>\n",
              "      <td>positive</td>\n",
              "    </tr>\n",
              "    <tr>\n",
              "      <th>1</th>\n",
              "      <td>Attenzione, ha un ferretto nasale in plastica ...</td>\n",
              "      <td>negative</td>\n",
              "    </tr>\n",
              "    <tr>\n",
              "      <th>2</th>\n",
              "      <td>La confezione di cartone era già aperta, appen...</td>\n",
              "      <td>negative</td>\n",
              "    </tr>\n",
              "    <tr>\n",
              "      <th>3</th>\n",
              "      <td>Mascherine vendute come \"Maschera Chirurgica 3...</td>\n",
              "      <td>negative</td>\n",
              "    </tr>\n",
              "    <tr>\n",
              "      <th>4</th>\n",
              "      <td>ARRIVATO APERTO PESSIMO PRODOTTO</td>\n",
              "      <td>negative</td>\n",
              "    </tr>\n",
              "  </tbody>\n",
              "</table>\n",
              "</div>"
            ],
            "text/plain": [
              "                                                Text Sentiment\n",
              "0  Ho acquistato questa confezione di mascherine ...  positive\n",
              "1  Attenzione, ha un ferretto nasale in plastica ...  negative\n",
              "2  La confezione di cartone era già aperta, appen...  negative\n",
              "3  Mascherine vendute come \"Maschera Chirurgica 3...  negative\n",
              "4                   ARRIVATO APERTO PESSIMO PRODOTTO  negative"
            ]
          },
          "metadata": {
            "tags": []
          },
          "execution_count": 12
        }
      ]
    },
    {
      "cell_type": "code",
      "metadata": {
        "id": "Vt6uIND8iQlY",
        "colab_type": "code",
        "colab": {
          "base_uri": "https://localhost:8080/",
          "height": 0
        },
        "outputId": "3d091f61-8431-4bb8-aa73-60bc723b8a16"
      },
      "source": [
        "Ama['Sentiment'][0]"
      ],
      "execution_count": 13,
      "outputs": [
        {
          "output_type": "execute_result",
          "data": {
            "application/vnd.google.colaboratory.intrinsic+json": {
              "type": "string"
            },
            "text/plain": [
              "'positive'"
            ]
          },
          "metadata": {
            "tags": []
          },
          "execution_count": 13
        }
      ]
    },
    {
      "cell_type": "code",
      "metadata": {
        "id": "dd-owvtgiVFP",
        "colab_type": "code",
        "colab": {
          "base_uri": "https://localhost:8080/",
          "height": 0
        },
        "outputId": "51359a9b-8e65-482c-f7d8-f55c7ee50c23"
      },
      "source": [
        "wikineutral['Sentiment'][0]"
      ],
      "execution_count": 14,
      "outputs": [
        {
          "output_type": "execute_result",
          "data": {
            "application/vnd.google.colaboratory.intrinsic+json": {
              "type": "string"
            },
            "text/plain": [
              "'neutral'"
            ]
          },
          "metadata": {
            "tags": []
          },
          "execution_count": 14
        }
      ]
    },
    {
      "cell_type": "code",
      "metadata": {
        "id": "FZUBFN0siENu",
        "colab_type": "code",
        "colab": {
          "base_uri": "https://localhost:8080/",
          "height": 0
        },
        "outputId": "f968e504-2c1a-4f71-fc70-0a99229ca54a"
      },
      "source": [
        "wikineutral.head()"
      ],
      "execution_count": 15,
      "outputs": [
        {
          "output_type": "execute_result",
          "data": {
            "text/html": [
              "<div>\n",
              "<style scoped>\n",
              "    .dataframe tbody tr th:only-of-type {\n",
              "        vertical-align: middle;\n",
              "    }\n",
              "\n",
              "    .dataframe tbody tr th {\n",
              "        vertical-align: top;\n",
              "    }\n",
              "\n",
              "    .dataframe thead th {\n",
              "        text-align: right;\n",
              "    }\n",
              "</style>\n",
              "<table border=\"1\" class=\"dataframe\">\n",
              "  <thead>\n",
              "    <tr style=\"text-align: right;\">\n",
              "      <th></th>\n",
              "      <th>Text</th>\n",
              "      <th>Sentiment</th>\n",
              "    </tr>\n",
              "  </thead>\n",
              "  <tbody>\n",
              "    <tr>\n",
              "      <th>0</th>\n",
              "      <td>Coordinate: 45°22′02.71″N 10°13′15.84″E﻿ / ﻿45...</td>\n",
              "      <td>neutral</td>\n",
              "    </tr>\n",
              "    <tr>\n",
              "      <th>1</th>\n",
              "      <td>Coordinate: 43°34′38.28″N 11°14′51″E﻿ / ﻿43.57...</td>\n",
              "      <td>neutral</td>\n",
              "    </tr>\n",
              "    <tr>\n",
              "      <th>2</th>\n",
              "      <td>Voci principali: Architettura del Settecento, ...</td>\n",
              "      <td>neutral</td>\n",
              "    </tr>\n",
              "    <tr>\n",
              "      <th>3</th>\n",
              "      <td>Coordinate: 45°26′24.29″N 10°59′19.71″E﻿ / ﻿45...</td>\n",
              "      <td>neutral</td>\n",
              "    </tr>\n",
              "    <tr>\n",
              "      <th>4</th>\n",
              "      <td>Coordinate: 45°26′20″N 10°59′40″E﻿ / ﻿45.43888...</td>\n",
              "      <td>neutral</td>\n",
              "    </tr>\n",
              "  </tbody>\n",
              "</table>\n",
              "</div>"
            ],
            "text/plain": [
              "                                                Text Sentiment\n",
              "0  Coordinate: 45°22′02.71″N 10°13′15.84″E﻿ / ﻿45...   neutral\n",
              "1  Coordinate: 43°34′38.28″N 11°14′51″E﻿ / ﻿43.57...   neutral\n",
              "2  Voci principali: Architettura del Settecento, ...   neutral\n",
              "3  Coordinate: 45°26′24.29″N 10°59′19.71″E﻿ / ﻿45...   neutral\n",
              "4  Coordinate: 45°26′20″N 10°59′40″E﻿ / ﻿45.43888...   neutral"
            ]
          },
          "metadata": {
            "tags": []
          },
          "execution_count": 15
        }
      ]
    },
    {
      "cell_type": "code",
      "metadata": {
        "id": "Po42rWt5iEQQ",
        "colab_type": "code",
        "colab": {
          "base_uri": "https://localhost:8080/",
          "height": 35
        },
        "outputId": "0acf2546-31b4-478f-a4a0-80e5aad860c3"
      },
      "source": [
        "Ama.shape"
      ],
      "execution_count": null,
      "outputs": [
        {
          "output_type": "execute_result",
          "data": {
            "text/plain": [
              "(460, 2)"
            ]
          },
          "metadata": {
            "tags": []
          },
          "execution_count": 21
        }
      ]
    },
    {
      "cell_type": "code",
      "metadata": {
        "id": "0xMojTW_iESr",
        "colab_type": "code",
        "colab": {
          "base_uri": "https://localhost:8080/",
          "height": 0
        },
        "outputId": "5ab2060b-5e2e-4511-ebf2-5fa88c2a285c"
      },
      "source": [
        "wikineutral.shape"
      ],
      "execution_count": 22,
      "outputs": [
        {
          "output_type": "execute_result",
          "data": {
            "text/plain": [
              "(154, 2)"
            ]
          },
          "metadata": {
            "tags": []
          },
          "execution_count": 22
        }
      ]
    },
    {
      "cell_type": "markdown",
      "metadata": {
        "id": "ob5_2Nd0ppTQ",
        "colab_type": "text"
      },
      "source": [
        "# Reddit Data"
      ]
    },
    {
      "cell_type": "code",
      "metadata": {
        "id": "qRbOAyF-iEU2",
        "colab_type": "code",
        "colab": {
          "base_uri": "https://localhost:8080/",
          "height": 0
        },
        "outputId": "477386ba-08e4-4471-eaf8-fcc345f0ba00"
      },
      "source": [
        "reddit_data1 = pd.read_csv(\"/content/drive/My Drive/Topic detection/AMANOREDDIT.csv\", index_col = 0).dropna()[[\"Text\", \"Sentiment\"]]\n",
        "reddit_data = reddit_data1.drop_duplicates()\n",
        "reddit_data.head()"
      ],
      "execution_count": 21,
      "outputs": [
        {
          "output_type": "execute_result",
          "data": {
            "text/html": [
              "<div>\n",
              "<style scoped>\n",
              "    .dataframe tbody tr th:only-of-type {\n",
              "        vertical-align: middle;\n",
              "    }\n",
              "\n",
              "    .dataframe tbody tr th {\n",
              "        vertical-align: top;\n",
              "    }\n",
              "\n",
              "    .dataframe thead th {\n",
              "        text-align: right;\n",
              "    }\n",
              "</style>\n",
              "<table border=\"1\" class=\"dataframe\">\n",
              "  <thead>\n",
              "    <tr style=\"text-align: right;\">\n",
              "      <th></th>\n",
              "      <th>Text</th>\n",
              "      <th>Sentiment</th>\n",
              "    </tr>\n",
              "  </thead>\n",
              "  <tbody>\n",
              "    <tr>\n",
              "      <th>0</th>\n",
              "      <td>Chiudo il thread, andate su quello nuovo\\n\\n/r...</td>\n",
              "      <td>neutral</td>\n",
              "    </tr>\n",
              "    <tr>\n",
              "      <th>1</th>\n",
              "      <td>&gt;Ore 19.30 - Il presunto «paziente 0» negativo...</td>\n",
              "      <td>negative</td>\n",
              "    </tr>\n",
              "    <tr>\n",
              "      <th>2</th>\n",
              "      <td>&gt; Si allontana da Codogno e torna ad Avellino:...</td>\n",
              "      <td>neutral</td>\n",
              "    </tr>\n",
              "    <tr>\n",
              "      <th>3</th>\n",
              "      <td>Dogana slovenia/croazia. Il poliziotto croato ...</td>\n",
              "      <td>negative</td>\n",
              "    </tr>\n",
              "    <tr>\n",
              "      <th>4</th>\n",
              "      <td>ho dato una veloce occhiata sui social \\n\\nNor...</td>\n",
              "      <td>negative</td>\n",
              "    </tr>\n",
              "  </tbody>\n",
              "</table>\n",
              "</div>"
            ],
            "text/plain": [
              "                                                Text Sentiment\n",
              "0  Chiudo il thread, andate su quello nuovo\\n\\n/r...   neutral\n",
              "1  >Ore 19.30 - Il presunto «paziente 0» negativo...  negative\n",
              "2  > Si allontana da Codogno e torna ad Avellino:...   neutral\n",
              "3  Dogana slovenia/croazia. Il poliziotto croato ...  negative\n",
              "4  ho dato una veloce occhiata sui social \\n\\nNor...  negative"
            ]
          },
          "metadata": {
            "tags": []
          },
          "execution_count": 21
        }
      ]
    },
    {
      "cell_type": "code",
      "metadata": {
        "id": "uXacXFvepdB0",
        "colab_type": "code",
        "colab": {
          "base_uri": "https://localhost:8080/",
          "height": 0
        },
        "outputId": "b7d577d9-1764-4485-c1ba-944e432bde4d"
      },
      "source": [
        "reddit_data.shape"
      ],
      "execution_count": 27,
      "outputs": [
        {
          "output_type": "execute_result",
          "data": {
            "text/plain": [
              "(587, 2)"
            ]
          },
          "metadata": {
            "tags": []
          },
          "execution_count": 27
        }
      ]
    },
    {
      "cell_type": "markdown",
      "metadata": {
        "id": "AjVb5JBZpyBJ",
        "colab_type": "text"
      },
      "source": [
        "# Merge the data into a unique dataset"
      ]
    },
    {
      "cell_type": "code",
      "metadata": {
        "id": "kmW7NNCLaQTP",
        "colab_type": "code",
        "colab": {}
      },
      "source": [
        "TrainData = pd.concat([Ama, wikineutral], ignore_index = True)\n",
        "TrainData = pd.concat([TrainData, reddit_data], ignore_index = True)"
      ],
      "execution_count": 25,
      "outputs": []
    },
    {
      "cell_type": "code",
      "metadata": {
        "id": "9mYwXStWcZZw",
        "colab_type": "code",
        "colab": {
          "base_uri": "https://localhost:8080/",
          "height": 0
        },
        "outputId": "fbcbb8b3-1f2d-4e22-a050-3160838764f0"
      },
      "source": [
        "TrainData.head()"
      ],
      "execution_count": 28,
      "outputs": [
        {
          "output_type": "execute_result",
          "data": {
            "text/html": [
              "<div>\n",
              "<style scoped>\n",
              "    .dataframe tbody tr th:only-of-type {\n",
              "        vertical-align: middle;\n",
              "    }\n",
              "\n",
              "    .dataframe tbody tr th {\n",
              "        vertical-align: top;\n",
              "    }\n",
              "\n",
              "    .dataframe thead th {\n",
              "        text-align: right;\n",
              "    }\n",
              "</style>\n",
              "<table border=\"1\" class=\"dataframe\">\n",
              "  <thead>\n",
              "    <tr style=\"text-align: right;\">\n",
              "      <th></th>\n",
              "      <th>Text</th>\n",
              "      <th>Sentiment</th>\n",
              "    </tr>\n",
              "  </thead>\n",
              "  <tbody>\n",
              "    <tr>\n",
              "      <th>0</th>\n",
              "      <td>Ho acquistato questa confezione di mascherine ...</td>\n",
              "      <td>positive</td>\n",
              "    </tr>\n",
              "    <tr>\n",
              "      <th>1</th>\n",
              "      <td>Attenzione, ha un ferretto nasale in plastica ...</td>\n",
              "      <td>negative</td>\n",
              "    </tr>\n",
              "    <tr>\n",
              "      <th>2</th>\n",
              "      <td>La confezione di cartone era già aperta, appen...</td>\n",
              "      <td>negative</td>\n",
              "    </tr>\n",
              "    <tr>\n",
              "      <th>3</th>\n",
              "      <td>Mascherine vendute come \"Maschera Chirurgica 3...</td>\n",
              "      <td>negative</td>\n",
              "    </tr>\n",
              "    <tr>\n",
              "      <th>4</th>\n",
              "      <td>ARRIVATO APERTO PESSIMO PRODOTTO</td>\n",
              "      <td>negative</td>\n",
              "    </tr>\n",
              "  </tbody>\n",
              "</table>\n",
              "</div>"
            ],
            "text/plain": [
              "                                                Text Sentiment\n",
              "0  Ho acquistato questa confezione di mascherine ...  positive\n",
              "1  Attenzione, ha un ferretto nasale in plastica ...  negative\n",
              "2  La confezione di cartone era già aperta, appen...  negative\n",
              "3  Mascherine vendute come \"Maschera Chirurgica 3...  negative\n",
              "4                   ARRIVATO APERTO PESSIMO PRODOTTO  negative"
            ]
          },
          "metadata": {
            "tags": []
          },
          "execution_count": 28
        }
      ]
    },
    {
      "cell_type": "code",
      "metadata": {
        "id": "LCDvNHkecpdK",
        "colab_type": "code",
        "colab": {
          "base_uri": "https://localhost:8080/",
          "height": 0
        },
        "outputId": "e43aba67-0092-48cb-83bb-95e53b2fe13a"
      },
      "source": [
        "TrainData.shape"
      ],
      "execution_count": 29,
      "outputs": [
        {
          "output_type": "execute_result",
          "data": {
            "text/plain": [
              "(1201, 2)"
            ]
          },
          "metadata": {
            "tags": []
          },
          "execution_count": 29
        }
      ]
    },
    {
      "cell_type": "code",
      "metadata": {
        "id": "Y97xw_SpcrsW",
        "colab_type": "code",
        "colab": {}
      },
      "source": [
        "TrainData.to_csv('/content/drive/My Drive/Topic detection/TrainData3DB.csv')"
      ],
      "execution_count": 30,
      "outputs": []
    },
    {
      "cell_type": "code",
      "metadata": {
        "id": "megW-DfFc1zY",
        "colab_type": "code",
        "colab": {
          "base_uri": "https://localhost:8080/",
          "height": 0
        },
        "outputId": "53aff342-f986-458a-d447-b33b6f6776ef"
      },
      "source": [
        "TrainData = pd.read_csv('/content/drive/My Drive/Topic detection/TrainData3DB.csv', index_col = 0 )\n",
        "TrainData.head()"
      ],
      "execution_count": 31,
      "outputs": [
        {
          "output_type": "execute_result",
          "data": {
            "text/html": [
              "<div>\n",
              "<style scoped>\n",
              "    .dataframe tbody tr th:only-of-type {\n",
              "        vertical-align: middle;\n",
              "    }\n",
              "\n",
              "    .dataframe tbody tr th {\n",
              "        vertical-align: top;\n",
              "    }\n",
              "\n",
              "    .dataframe thead th {\n",
              "        text-align: right;\n",
              "    }\n",
              "</style>\n",
              "<table border=\"1\" class=\"dataframe\">\n",
              "  <thead>\n",
              "    <tr style=\"text-align: right;\">\n",
              "      <th></th>\n",
              "      <th>Text</th>\n",
              "      <th>Sentiment</th>\n",
              "    </tr>\n",
              "  </thead>\n",
              "  <tbody>\n",
              "    <tr>\n",
              "      <th>0</th>\n",
              "      <td>Ho acquistato questa confezione di mascherine ...</td>\n",
              "      <td>positive</td>\n",
              "    </tr>\n",
              "    <tr>\n",
              "      <th>1</th>\n",
              "      <td>Attenzione, ha un ferretto nasale in plastica ...</td>\n",
              "      <td>negative</td>\n",
              "    </tr>\n",
              "    <tr>\n",
              "      <th>2</th>\n",
              "      <td>La confezione di cartone era già aperta, appen...</td>\n",
              "      <td>negative</td>\n",
              "    </tr>\n",
              "    <tr>\n",
              "      <th>3</th>\n",
              "      <td>Mascherine vendute come \"Maschera Chirurgica 3...</td>\n",
              "      <td>negative</td>\n",
              "    </tr>\n",
              "    <tr>\n",
              "      <th>4</th>\n",
              "      <td>ARRIVATO APERTO PESSIMO PRODOTTO</td>\n",
              "      <td>negative</td>\n",
              "    </tr>\n",
              "  </tbody>\n",
              "</table>\n",
              "</div>"
            ],
            "text/plain": [
              "                                                Text Sentiment\n",
              "0  Ho acquistato questa confezione di mascherine ...  positive\n",
              "1  Attenzione, ha un ferretto nasale in plastica ...  negative\n",
              "2  La confezione di cartone era già aperta, appen...  negative\n",
              "3  Mascherine vendute come \"Maschera Chirurgica 3...  negative\n",
              "4                   ARRIVATO APERTO PESSIMO PRODOTTO  negative"
            ]
          },
          "metadata": {
            "tags": []
          },
          "execution_count": 31
        }
      ]
    },
    {
      "cell_type": "markdown",
      "metadata": {
        "id": "KXxjLN60qAPb",
        "colab_type": "text"
      },
      "source": [
        "#Process the texts in TrainData and adding col 'Processed Text'"
      ]
    },
    {
      "cell_type": "code",
      "metadata": {
        "id": "GVhqLLP7mNI8",
        "colab_type": "code",
        "colab": {
          "base_uri": "https://localhost:8080/",
          "height": 34
        },
        "outputId": "dff58bca-cfa7-4c46-9a46-35854c6855c3"
      },
      "source": [
        "TrainData = TrainData.dropna()\n",
        "tokenized_data = []\n",
        "from tqdm import tqdm \n",
        "for index in tqdm(range(len(TrainData))):\n",
        "  tokenized_data.append(\" \".join(process_text(TrainData.iloc[index][\"Text\"])))"
      ],
      "execution_count": 32,
      "outputs": [
        {
          "output_type": "stream",
          "text": [
            "100%|██████████| 1200/1200 [00:20<00:00, 57.24it/s]\n"
          ],
          "name": "stderr"
        }
      ]
    },
    {
      "cell_type": "code",
      "metadata": {
        "id": "XwjoRO_7po63",
        "colab_type": "code",
        "colab": {}
      },
      "source": [
        "TrainData[\"Processed Text\"] = tokenized_data"
      ],
      "execution_count": 33,
      "outputs": []
    },
    {
      "cell_type": "code",
      "metadata": {
        "id": "zsv2ar2kp9LC",
        "colab_type": "code",
        "colab": {
          "base_uri": "https://localhost:8080/",
          "height": 204
        },
        "outputId": "eb00d7d1-1b23-4f15-cdbe-6d5ded85c7d3"
      },
      "source": [
        "TrainData.head()"
      ],
      "execution_count": 34,
      "outputs": [
        {
          "output_type": "execute_result",
          "data": {
            "text/html": [
              "<div>\n",
              "<style scoped>\n",
              "    .dataframe tbody tr th:only-of-type {\n",
              "        vertical-align: middle;\n",
              "    }\n",
              "\n",
              "    .dataframe tbody tr th {\n",
              "        vertical-align: top;\n",
              "    }\n",
              "\n",
              "    .dataframe thead th {\n",
              "        text-align: right;\n",
              "    }\n",
              "</style>\n",
              "<table border=\"1\" class=\"dataframe\">\n",
              "  <thead>\n",
              "    <tr style=\"text-align: right;\">\n",
              "      <th></th>\n",
              "      <th>Text</th>\n",
              "      <th>Sentiment</th>\n",
              "      <th>Processed Text</th>\n",
              "    </tr>\n",
              "  </thead>\n",
              "  <tbody>\n",
              "    <tr>\n",
              "      <th>0</th>\n",
              "      <td>Ho acquistato questa confezione di mascherine ...</td>\n",
              "      <td>positive</td>\n",
              "      <td>ho acquist confezion mascherin 19 99 quind 40 ...</td>\n",
              "    </tr>\n",
              "    <tr>\n",
              "      <th>1</th>\n",
              "      <td>Attenzione, ha un ferretto nasale in plastica ...</td>\n",
              "      <td>negative</td>\n",
              "      <td>attenzion ferrett nasal plastic permett far ad...</td>\n",
              "    </tr>\n",
              "    <tr>\n",
              "      <th>2</th>\n",
              "      <td>La confezione di cartone era già aperta, appen...</td>\n",
              "      <td>negative</td>\n",
              "      <td>la confezion carton già apert appen pres lat t...</td>\n",
              "    </tr>\n",
              "    <tr>\n",
              "      <th>3</th>\n",
              "      <td>Mascherine vendute come \"Maschera Chirurgica 3...</td>\n",
              "      <td>negative</td>\n",
              "      <td>mascherin vend mascher chirurg 3p tip iir conf...</td>\n",
              "    </tr>\n",
              "    <tr>\n",
              "      <th>4</th>\n",
              "      <td>ARRIVATO APERTO PESSIMO PRODOTTO</td>\n",
              "      <td>negative</td>\n",
              "      <td>arriv apert pessim prodott</td>\n",
              "    </tr>\n",
              "  </tbody>\n",
              "</table>\n",
              "</div>"
            ],
            "text/plain": [
              "                                                Text  ...                                     Processed Text\n",
              "0  Ho acquistato questa confezione di mascherine ...  ...  ho acquist confezion mascherin 19 99 quind 40 ...\n",
              "1  Attenzione, ha un ferretto nasale in plastica ...  ...  attenzion ferrett nasal plastic permett far ad...\n",
              "2  La confezione di cartone era già aperta, appen...  ...  la confezion carton già apert appen pres lat t...\n",
              "3  Mascherine vendute come \"Maschera Chirurgica 3...  ...  mascherin vend mascher chirurg 3p tip iir conf...\n",
              "4                   ARRIVATO APERTO PESSIMO PRODOTTO  ...                         arriv apert pessim prodott\n",
              "\n",
              "[5 rows x 3 columns]"
            ]
          },
          "metadata": {
            "tags": []
          },
          "execution_count": 34
        }
      ]
    },
    {
      "cell_type": "code",
      "metadata": {
        "id": "fRwPGmCLq21Y",
        "colab_type": "code",
        "colab": {}
      },
      "source": [
        "TrainData.to_csv('/content/drive/My Drive/Topic detection/ProcessedTrainData3DB.csv')\n"
      ],
      "execution_count": 35,
      "outputs": []
    },
    {
      "cell_type": "code",
      "metadata": {
        "id": "LJwqlUe5qsnn",
        "colab_type": "code",
        "colab": {}
      },
      "source": [
        ""
      ],
      "execution_count": null,
      "outputs": []
    },
    {
      "cell_type": "markdown",
      "metadata": {
        "id": "-9tRxudbrlMg",
        "colab_type": "text"
      },
      "source": [
        ""
      ]
    },
    {
      "cell_type": "markdown",
      "metadata": {
        "id": "E7H098QYrn0F",
        "colab_type": "text"
      },
      "source": [
        "## Creation tftidf model from Processed Text\n",
        "\n",
        "---\n",
        "\n"
      ]
    },
    {
      "cell_type": "code",
      "metadata": {
        "id": "L79g86mS5XWT",
        "colab_type": "code",
        "colab": {}
      },
      "source": [
        "TrainData = pd.read_csv('/content/drive/My Drive/Topic detection/ProcessedTrainData3DB.csv', index_col = 0 )\n",
        "TrainData.dropna(inplace = True)"
      ],
      "execution_count": 57,
      "outputs": []
    },
    {
      "cell_type": "code",
      "metadata": {
        "id": "o90sCSU8wawh",
        "colab_type": "code",
        "colab": {
          "base_uri": "https://localhost:8080/",
          "height": 0
        },
        "outputId": "7acc1cc7-8fea-4639-f8f0-3ae89339ada1"
      },
      "source": [
        "TrainData.head()"
      ],
      "execution_count": 58,
      "outputs": [
        {
          "output_type": "execute_result",
          "data": {
            "text/html": [
              "<div>\n",
              "<style scoped>\n",
              "    .dataframe tbody tr th:only-of-type {\n",
              "        vertical-align: middle;\n",
              "    }\n",
              "\n",
              "    .dataframe tbody tr th {\n",
              "        vertical-align: top;\n",
              "    }\n",
              "\n",
              "    .dataframe thead th {\n",
              "        text-align: right;\n",
              "    }\n",
              "</style>\n",
              "<table border=\"1\" class=\"dataframe\">\n",
              "  <thead>\n",
              "    <tr style=\"text-align: right;\">\n",
              "      <th></th>\n",
              "      <th>Text</th>\n",
              "      <th>Sentiment</th>\n",
              "      <th>Processed Text</th>\n",
              "    </tr>\n",
              "  </thead>\n",
              "  <tbody>\n",
              "    <tr>\n",
              "      <th>0</th>\n",
              "      <td>Ho acquistato questa confezione di mascherine ...</td>\n",
              "      <td>positive</td>\n",
              "      <td>ho acquist confezion mascherin 19 99 quind 40 ...</td>\n",
              "    </tr>\n",
              "    <tr>\n",
              "      <th>1</th>\n",
              "      <td>Attenzione, ha un ferretto nasale in plastica ...</td>\n",
              "      <td>negative</td>\n",
              "      <td>attenzion ferrett nasal plastic permett far ad...</td>\n",
              "    </tr>\n",
              "    <tr>\n",
              "      <th>2</th>\n",
              "      <td>La confezione di cartone era già aperta, appen...</td>\n",
              "      <td>negative</td>\n",
              "      <td>la confezion carton già apert appen pres lat t...</td>\n",
              "    </tr>\n",
              "    <tr>\n",
              "      <th>3</th>\n",
              "      <td>Mascherine vendute come \"Maschera Chirurgica 3...</td>\n",
              "      <td>negative</td>\n",
              "      <td>mascherin vend mascher chirurg 3p tip iir conf...</td>\n",
              "    </tr>\n",
              "    <tr>\n",
              "      <th>4</th>\n",
              "      <td>ARRIVATO APERTO PESSIMO PRODOTTO</td>\n",
              "      <td>negative</td>\n",
              "      <td>arriv apert pessim prodott</td>\n",
              "    </tr>\n",
              "  </tbody>\n",
              "</table>\n",
              "</div>"
            ],
            "text/plain": [
              "                                                Text  ...                                     Processed Text\n",
              "0  Ho acquistato questa confezione di mascherine ...  ...  ho acquist confezion mascherin 19 99 quind 40 ...\n",
              "1  Attenzione, ha un ferretto nasale in plastica ...  ...  attenzion ferrett nasal plastic permett far ad...\n",
              "2  La confezione di cartone era già aperta, appen...  ...  la confezion carton già apert appen pres lat t...\n",
              "3  Mascherine vendute come \"Maschera Chirurgica 3...  ...  mascherin vend mascher chirurg 3p tip iir conf...\n",
              "4                   ARRIVATO APERTO PESSIMO PRODOTTO  ...                         arriv apert pessim prodott\n",
              "\n",
              "[5 rows x 3 columns]"
            ]
          },
          "metadata": {
            "tags": []
          },
          "execution_count": 58
        }
      ]
    },
    {
      "cell_type": "code",
      "metadata": {
        "id": "uAKV_wxRxbk0",
        "colab_type": "code",
        "colab": {}
      },
      "source": [
        "TrainList = TrainData['Processed Text'].tolist()"
      ],
      "execution_count": 59,
      "outputs": []
    },
    {
      "cell_type": "code",
      "metadata": {
        "id": "Vto3x_hb4E0y",
        "colab_type": "code",
        "colab": {
          "base_uri": "https://localhost:8080/",
          "height": 0
        },
        "outputId": "133c0819-f230-47ea-e813-0f8e0aaa45e1"
      },
      "source": [
        "TrainList[0]"
      ],
      "execution_count": 60,
      "outputs": [
        {
          "output_type": "execute_result",
          "data": {
            "application/vnd.google.colaboratory.intrinsic+json": {
              "type": "string"
            },
            "text/plain": [
              "'ho acquist confezion mascherin 19 99 quind 40 centesim mascherin prezz somm onest la qualit mascherin avvis discret prov altre consistt indubb maggior risult tatt morbid spess nell confezion present certific cines attest tipolog iir gli elast manteng molt ben già utilizz 5 senz nessun problem ven difett essenzial due 1 mascherin chius scatol senz imball isol nessun plastic protezion 2 ferrett string nas sembr esser metall quind pieg ben senz raggiung chiusur massim'"
            ]
          },
          "metadata": {
            "tags": []
          },
          "execution_count": 60
        }
      ]
    },
    {
      "cell_type": "code",
      "metadata": {
        "id": "isuDEc8vrtI5",
        "colab_type": "code",
        "colab": {
          "base_uri": "https://localhost:8080/",
          "height": 0
        },
        "outputId": "a351740e-f773-47a8-eed1-6df761aef78a"
      },
      "source": [
        "TrainData['Processed Text'].isnull().values.any()"
      ],
      "execution_count": 61,
      "outputs": [
        {
          "output_type": "execute_result",
          "data": {
            "text/plain": [
              "False"
            ]
          },
          "metadata": {
            "tags": []
          },
          "execution_count": 61
        }
      ]
    },
    {
      "cell_type": "code",
      "metadata": {
        "id": "BxCNCMILxkun",
        "colab_type": "code",
        "colab": {
          "base_uri": "https://localhost:8080/",
          "height": 0
        },
        "outputId": "4541b791-515b-42a8-fb2d-93b77168b25d"
      },
      "source": [
        "from sklearn.feature_extraction.text import TfidfVectorizer\n",
        "vectorizer = TfidfVectorizer()\n",
        "X = vectorizer.fit_transform(TrainList)\n",
        "X #Matrix with each row TfIdf"
      ],
      "execution_count": 62,
      "outputs": [
        {
          "output_type": "execute_result",
          "data": {
            "text/plain": [
              "<1198x38878 sparse matrix of type '<class 'numpy.float64'>'\n",
              "\twith 279581 stored elements in Compressed Sparse Row format>"
            ]
          },
          "metadata": {
            "tags": []
          },
          "execution_count": 62
        }
      ]
    },
    {
      "cell_type": "markdown",
      "metadata": {
        "id": "NAQHTznDsNja",
        "colab_type": "text"
      },
      "source": [
        "# Processing the text and performing SVD with 100-200-300 components\n"
      ]
    },
    {
      "cell_type": "code",
      "metadata": {
        "id": "rtaowPYY3cW_",
        "colab_type": "code",
        "colab": {}
      },
      "source": [
        "import joblib\n",
        "joblib.dump( vectorizer, '/content/drive/My Drive/Topic detection/Vectorizer.pkl')\n",
        "\n",
        "vectorizer_loaded = joblib.load('/content/drive/My Drive/Topic detection/Vectorizer.pkl')"
      ],
      "execution_count": 63,
      "outputs": []
    },
    {
      "cell_type": "code",
      "metadata": {
        "id": "DTVa9N202EZm",
        "colab_type": "code",
        "colab": {}
      },
      "source": [
        "# SVD in 100/200/300 components"
      ],
      "execution_count": 64,
      "outputs": []
    },
    {
      "cell_type": "code",
      "metadata": {
        "id": "tVYNVo3czSYH",
        "colab_type": "code",
        "colab": {}
      },
      "source": [
        "from sklearn.decomposition import TruncatedSVD\n",
        "from scipy.sparse import random as sparse_random\n",
        "from sklearn.random_projection import sparse_random_matrix\n",
        "import joblib\n",
        "comps = [100, 200, 300]\n",
        "def Svd(comps):\n",
        "  SVDMatrices = []\n",
        "  for i in comps:\n",
        "    svd = TruncatedSVD(n_components=i, n_iter=7, random_state=42)\n",
        "    a = svd.fit_transform(X)\n",
        "    SVDMatrices.append(a)\n",
        "    joblib.dump( svd, '/content/drive/My Drive/Topic detection/SVD'+str(i)+'.pkl')\n",
        "    print(comps, svd.explained_variance_ratio_.sum())\n",
        "  return (SVDMatrices)\n",
        "#print(svd.explained_variance_ratio_)\n",
        "\n",
        "\n",
        "\n",
        "#print(svd.singular_values_) A = USV^t S singular matrix (x0000000\n",
        "                                                      #      0y00000000000000000)\n"
      ],
      "execution_count": 65,
      "outputs": []
    },
    {
      "cell_type": "code",
      "metadata": {
        "id": "ECk2j9l663Cc",
        "colab_type": "code",
        "colab": {
          "base_uri": "https://localhost:8080/",
          "height": 0
        },
        "outputId": "aa3c75e8-beee-4020-fc16-afb98f55d01f"
      },
      "source": [
        "SVDMatrices = Svd(comps)"
      ],
      "execution_count": 66,
      "outputs": [
        {
          "output_type": "stream",
          "text": [
            "[100, 200, 300] 0.3858069663463686\n",
            "[100, 200, 300] 0.5511866267659707\n",
            "[100, 200, 300] 0.6638118360370318\n"
          ],
          "name": "stdout"
        }
      ]
    },
    {
      "cell_type": "code",
      "metadata": {
        "id": "m8aOUO4X7zxi",
        "colab_type": "code",
        "colab": {
          "base_uri": "https://localhost:8080/",
          "height": 0
        },
        "outputId": "b75f7eab-8939-43e5-fdc3-84f094288a3d"
      },
      "source": [
        "#len(SVDMatrices[0][0][612])\n",
        "len(SVDMatrices[0])"
      ],
      "execution_count": 67,
      "outputs": [
        {
          "output_type": "execute_result",
          "data": {
            "text/plain": [
              "1198"
            ]
          },
          "metadata": {
            "tags": []
          },
          "execution_count": 67
        }
      ]
    },
    {
      "cell_type": "code",
      "metadata": {
        "id": "gOf_TrRrzSkT",
        "colab_type": "code",
        "colab": {}
      },
      "source": [
        "def namescreator(matrices = SVDMatrices, rws = 1198):\n",
        "  names = []\n",
        " # print(len(names))\n",
        "  for j in range(0,len(matrices)):\n",
        "      names.append([])\n",
        "  for i in range(len(matrices)):\n",
        "   #   print(i)\n",
        "     # print(len(matrices[i]))\n",
        "      ln = len(matrices[i][0])\n",
        "     # print(ln)\n",
        "     # print(names)\n",
        "      temp = []\n",
        "      for j in range(0,len(matrices[i][0])):\n",
        "         temp.append([])\n",
        "      print(len(temp))\n",
        "      for position in range(len(matrices[i][0])):\n",
        "       # print(position)\n",
        "        for row in range(rws):\n",
        "       #  print(a[position][col])\n",
        "        # print(range(ln-1))\n",
        "         temp[position].append(matrices[i][row][position])\n",
        "      for k in temp:\n",
        "       names[i].append(k)\n",
        "\n",
        "  return names\n",
        "#print(len(a[0]))"
      ],
      "execution_count": 68,
      "outputs": []
    },
    {
      "cell_type": "code",
      "metadata": {
        "id": "lFPxxCeDYolR",
        "colab_type": "code",
        "colab": {
          "base_uri": "https://localhost:8080/",
          "height": 0
        },
        "outputId": "03c347ef-2e39-4beb-f14e-05997f8f2faa"
      },
      "source": [
        "ttry = namescreator([SVDMatrices[1]])\n",
        "len(ttry[0])"
      ],
      "execution_count": 69,
      "outputs": [
        {
          "output_type": "stream",
          "text": [
            "200\n"
          ],
          "name": "stdout"
        },
        {
          "output_type": "execute_result",
          "data": {
            "text/plain": [
              "200"
            ]
          },
          "metadata": {
            "tags": []
          },
          "execution_count": 69
        }
      ]
    },
    {
      "cell_type": "code",
      "metadata": {
        "id": "HqsdeGz5_BWv",
        "colab_type": "code",
        "colab": {
          "base_uri": "https://localhost:8080/",
          "height": 0
        },
        "outputId": "f5c4e90c-3111-4415-b23e-09fcb02f5399"
      },
      "source": [
        "len(ttry)"
      ],
      "execution_count": 70,
      "outputs": [
        {
          "output_type": "execute_result",
          "data": {
            "text/plain": [
              "1"
            ]
          },
          "metadata": {
            "tags": []
          },
          "execution_count": 70
        }
      ]
    },
    {
      "cell_type": "code",
      "metadata": {
        "id": "Qlon5LhcY7zl",
        "colab_type": "code",
        "colab": {}
      },
      "source": [
        "l = []\n",
        "#names of columns for svd dataframes\n",
        "for i in range(3):\n",
        "  l.append([])\n",
        "for i in range(1,101):\n",
        "    l[0].append('feat'+str(i))\n",
        "for i in range(1,201):\n",
        "    l[1].append('feat'+str(i))\n",
        "for i in range(1,301):\n",
        "    l[2].append('feat'+str(i))"
      ],
      "execution_count": 72,
      "outputs": []
    },
    {
      "cell_type": "code",
      "metadata": {
        "id": "gpCIruC0Y72L",
        "colab_type": "code",
        "colab": {
          "base_uri": "https://localhost:8080/",
          "height": 0
        },
        "outputId": "df1a6456-c313-435b-c723-9c2af9ab731f"
      },
      "source": [
        "len(l[2])"
      ],
      "execution_count": 73,
      "outputs": [
        {
          "output_type": "execute_result",
          "data": {
            "text/plain": [
              "300"
            ]
          },
          "metadata": {
            "tags": []
          },
          "execution_count": 73
        }
      ]
    },
    {
      "cell_type": "code",
      "metadata": {
        "id": "q_hsfzxMY74W",
        "colab_type": "code",
        "colab": {}
      },
      "source": [
        "#I have a list with 3 components and in every one 100/200/300 columns\n",
        "#I have a set of names\n",
        "df100 = TrainData.copy()\n",
        "df200 = TrainData.copy()\n",
        "df300 = TrainData.copy()"
      ],
      "execution_count": 74,
      "outputs": []
    },
    {
      "cell_type": "code",
      "metadata": {
        "id": "zYPIIg2HF5jM",
        "colab_type": "code",
        "colab": {}
      },
      "source": [
        "def datafinal(l, a2, df):\n",
        "  j = 0\n",
        "  for i in l:\n",
        "  #  print(len(a2[j]))\n",
        "    df[i]= a2[j]\n",
        "    j = j+1\n",
        "  return df"
      ],
      "execution_count": 75,
      "outputs": []
    },
    {
      "cell_type": "code",
      "metadata": {
        "id": "OiaB94ohzbbG",
        "colab_type": "code",
        "colab": {
          "base_uri": "https://localhost:8080/",
          "height": 0
        },
        "outputId": "fa761c5f-93b9-4538-d9d8-682bdec2320c"
      },
      "source": [
        "df300.head()"
      ],
      "execution_count": 76,
      "outputs": [
        {
          "output_type": "execute_result",
          "data": {
            "text/html": [
              "<div>\n",
              "<style scoped>\n",
              "    .dataframe tbody tr th:only-of-type {\n",
              "        vertical-align: middle;\n",
              "    }\n",
              "\n",
              "    .dataframe tbody tr th {\n",
              "        vertical-align: top;\n",
              "    }\n",
              "\n",
              "    .dataframe thead th {\n",
              "        text-align: right;\n",
              "    }\n",
              "</style>\n",
              "<table border=\"1\" class=\"dataframe\">\n",
              "  <thead>\n",
              "    <tr style=\"text-align: right;\">\n",
              "      <th></th>\n",
              "      <th>Text</th>\n",
              "      <th>Sentiment</th>\n",
              "      <th>Processed Text</th>\n",
              "    </tr>\n",
              "  </thead>\n",
              "  <tbody>\n",
              "    <tr>\n",
              "      <th>0</th>\n",
              "      <td>Ho acquistato questa confezione di mascherine ...</td>\n",
              "      <td>positive</td>\n",
              "      <td>ho acquist confezion mascherin 19 99 quind 40 ...</td>\n",
              "    </tr>\n",
              "    <tr>\n",
              "      <th>1</th>\n",
              "      <td>Attenzione, ha un ferretto nasale in plastica ...</td>\n",
              "      <td>negative</td>\n",
              "      <td>attenzion ferrett nasal plastic permett far ad...</td>\n",
              "    </tr>\n",
              "    <tr>\n",
              "      <th>2</th>\n",
              "      <td>La confezione di cartone era già aperta, appen...</td>\n",
              "      <td>negative</td>\n",
              "      <td>la confezion carton già apert appen pres lat t...</td>\n",
              "    </tr>\n",
              "    <tr>\n",
              "      <th>3</th>\n",
              "      <td>Mascherine vendute come \"Maschera Chirurgica 3...</td>\n",
              "      <td>negative</td>\n",
              "      <td>mascherin vend mascher chirurg 3p tip iir conf...</td>\n",
              "    </tr>\n",
              "    <tr>\n",
              "      <th>4</th>\n",
              "      <td>ARRIVATO APERTO PESSIMO PRODOTTO</td>\n",
              "      <td>negative</td>\n",
              "      <td>arriv apert pessim prodott</td>\n",
              "    </tr>\n",
              "  </tbody>\n",
              "</table>\n",
              "</div>"
            ],
            "text/plain": [
              "                                                Text  ...                                     Processed Text\n",
              "0  Ho acquistato questa confezione di mascherine ...  ...  ho acquist confezion mascherin 19 99 quind 40 ...\n",
              "1  Attenzione, ha un ferretto nasale in plastica ...  ...  attenzion ferrett nasal plastic permett far ad...\n",
              "2  La confezione di cartone era già aperta, appen...  ...  la confezion carton già apert appen pres lat t...\n",
              "3  Mascherine vendute come \"Maschera Chirurgica 3...  ...  mascherin vend mascher chirurg 3p tip iir conf...\n",
              "4                   ARRIVATO APERTO PESSIMO PRODOTTO  ...                         arriv apert pessim prodott\n",
              "\n",
              "[5 rows x 3 columns]"
            ]
          },
          "metadata": {
            "tags": []
          },
          "execution_count": 76
        }
      ]
    },
    {
      "cell_type": "markdown",
      "metadata": {
        "id": "EvS6ybvBsrmB",
        "colab_type": "text"
      },
      "source": [
        "# We have 3 df in respect at the different svd!\n"
      ]
    },
    {
      "cell_type": "code",
      "metadata": {
        "id": "ZSCEeXheGMA2",
        "colab_type": "code",
        "colab": {
          "base_uri": "https://localhost:8080/",
          "height": 0
        },
        "outputId": "a1e7fc70-748f-46db-d4e4-6f9eba01f360"
      },
      "source": [
        "df100 = datafinal(l[0], namescreator([SVDMatrices[0]])[0], df100 )\n",
        "df200 = datafinal(l[1], namescreator([SVDMatrices[1]])[0], df200 )\n",
        "df300 = datafinal(l[2], namescreator([SVDMatrices[2]])[0], df300 )\n",
        "\n",
        "df100.to_csv('/content/drive/My Drive/Topic detection/Df100.csv')\n",
        "df200.to_csv('/content/drive/My Drive/Topic detection/Df200.csv')\n",
        "df300.to_csv('/content/drive/My Drive/Topic detection/Df300.csv')\n",
        "df100.head()\n"
      ],
      "execution_count": 77,
      "outputs": [
        {
          "output_type": "stream",
          "text": [
            "100\n",
            "200\n",
            "300\n"
          ],
          "name": "stdout"
        },
        {
          "output_type": "execute_result",
          "data": {
            "text/html": [
              "<div>\n",
              "<style scoped>\n",
              "    .dataframe tbody tr th:only-of-type {\n",
              "        vertical-align: middle;\n",
              "    }\n",
              "\n",
              "    .dataframe tbody tr th {\n",
              "        vertical-align: top;\n",
              "    }\n",
              "\n",
              "    .dataframe thead th {\n",
              "        text-align: right;\n",
              "    }\n",
              "</style>\n",
              "<table border=\"1\" class=\"dataframe\">\n",
              "  <thead>\n",
              "    <tr style=\"text-align: right;\">\n",
              "      <th></th>\n",
              "      <th>Text</th>\n",
              "      <th>Sentiment</th>\n",
              "      <th>Processed Text</th>\n",
              "      <th>feat1</th>\n",
              "      <th>feat2</th>\n",
              "      <th>feat3</th>\n",
              "      <th>feat4</th>\n",
              "      <th>feat5</th>\n",
              "      <th>feat6</th>\n",
              "      <th>feat7</th>\n",
              "      <th>feat8</th>\n",
              "      <th>feat9</th>\n",
              "      <th>feat10</th>\n",
              "      <th>feat11</th>\n",
              "      <th>feat12</th>\n",
              "      <th>feat13</th>\n",
              "      <th>feat14</th>\n",
              "      <th>feat15</th>\n",
              "      <th>feat16</th>\n",
              "      <th>feat17</th>\n",
              "      <th>feat18</th>\n",
              "      <th>feat19</th>\n",
              "      <th>feat20</th>\n",
              "      <th>feat21</th>\n",
              "      <th>feat22</th>\n",
              "      <th>feat23</th>\n",
              "      <th>feat24</th>\n",
              "      <th>feat25</th>\n",
              "      <th>feat26</th>\n",
              "      <th>feat27</th>\n",
              "      <th>feat28</th>\n",
              "      <th>feat29</th>\n",
              "      <th>feat30</th>\n",
              "      <th>feat31</th>\n",
              "      <th>feat32</th>\n",
              "      <th>feat33</th>\n",
              "      <th>feat34</th>\n",
              "      <th>feat35</th>\n",
              "      <th>feat36</th>\n",
              "      <th>feat37</th>\n",
              "      <th>...</th>\n",
              "      <th>feat61</th>\n",
              "      <th>feat62</th>\n",
              "      <th>feat63</th>\n",
              "      <th>feat64</th>\n",
              "      <th>feat65</th>\n",
              "      <th>feat66</th>\n",
              "      <th>feat67</th>\n",
              "      <th>feat68</th>\n",
              "      <th>feat69</th>\n",
              "      <th>feat70</th>\n",
              "      <th>feat71</th>\n",
              "      <th>feat72</th>\n",
              "      <th>feat73</th>\n",
              "      <th>feat74</th>\n",
              "      <th>feat75</th>\n",
              "      <th>feat76</th>\n",
              "      <th>feat77</th>\n",
              "      <th>feat78</th>\n",
              "      <th>feat79</th>\n",
              "      <th>feat80</th>\n",
              "      <th>feat81</th>\n",
              "      <th>feat82</th>\n",
              "      <th>feat83</th>\n",
              "      <th>feat84</th>\n",
              "      <th>feat85</th>\n",
              "      <th>feat86</th>\n",
              "      <th>feat87</th>\n",
              "      <th>feat88</th>\n",
              "      <th>feat89</th>\n",
              "      <th>feat90</th>\n",
              "      <th>feat91</th>\n",
              "      <th>feat92</th>\n",
              "      <th>feat93</th>\n",
              "      <th>feat94</th>\n",
              "      <th>feat95</th>\n",
              "      <th>feat96</th>\n",
              "      <th>feat97</th>\n",
              "      <th>feat98</th>\n",
              "      <th>feat99</th>\n",
              "      <th>feat100</th>\n",
              "    </tr>\n",
              "  </thead>\n",
              "  <tbody>\n",
              "    <tr>\n",
              "      <th>0</th>\n",
              "      <td>Ho acquistato questa confezione di mascherine ...</td>\n",
              "      <td>positive</td>\n",
              "      <td>ho acquist confezion mascherin 19 99 quind 40 ...</td>\n",
              "      <td>0.237525</td>\n",
              "      <td>0.186174</td>\n",
              "      <td>-0.042134</td>\n",
              "      <td>-0.307716</td>\n",
              "      <td>-0.039920</td>\n",
              "      <td>-0.057559</td>\n",
              "      <td>-0.270343</td>\n",
              "      <td>-0.081552</td>\n",
              "      <td>-0.265144</td>\n",
              "      <td>0.046145</td>\n",
              "      <td>0.066505</td>\n",
              "      <td>-0.086436</td>\n",
              "      <td>0.001048</td>\n",
              "      <td>0.009102</td>\n",
              "      <td>-0.059475</td>\n",
              "      <td>-0.026938</td>\n",
              "      <td>-0.025138</td>\n",
              "      <td>-0.095071</td>\n",
              "      <td>-0.050526</td>\n",
              "      <td>-0.023517</td>\n",
              "      <td>-0.018024</td>\n",
              "      <td>0.004008</td>\n",
              "      <td>-0.002508</td>\n",
              "      <td>0.021256</td>\n",
              "      <td>0.074913</td>\n",
              "      <td>-0.017813</td>\n",
              "      <td>0.033904</td>\n",
              "      <td>-0.008413</td>\n",
              "      <td>-0.001874</td>\n",
              "      <td>0.061700</td>\n",
              "      <td>-0.096940</td>\n",
              "      <td>0.071748</td>\n",
              "      <td>-0.014023</td>\n",
              "      <td>-0.084563</td>\n",
              "      <td>-0.122355</td>\n",
              "      <td>0.059985</td>\n",
              "      <td>0.068754</td>\n",
              "      <td>...</td>\n",
              "      <td>-0.092236</td>\n",
              "      <td>0.088788</td>\n",
              "      <td>-0.087862</td>\n",
              "      <td>-0.010239</td>\n",
              "      <td>-0.010276</td>\n",
              "      <td>0.025596</td>\n",
              "      <td>0.003732</td>\n",
              "      <td>0.030253</td>\n",
              "      <td>0.036848</td>\n",
              "      <td>-0.077170</td>\n",
              "      <td>-0.074790</td>\n",
              "      <td>0.018263</td>\n",
              "      <td>0.070539</td>\n",
              "      <td>0.026700</td>\n",
              "      <td>-0.009885</td>\n",
              "      <td>-0.007642</td>\n",
              "      <td>-0.003279</td>\n",
              "      <td>-0.059962</td>\n",
              "      <td>0.085749</td>\n",
              "      <td>0.059945</td>\n",
              "      <td>0.039934</td>\n",
              "      <td>0.152166</td>\n",
              "      <td>0.035081</td>\n",
              "      <td>-0.016389</td>\n",
              "      <td>-0.082142</td>\n",
              "      <td>0.032486</td>\n",
              "      <td>-0.035875</td>\n",
              "      <td>-0.030404</td>\n",
              "      <td>0.082638</td>\n",
              "      <td>0.063863</td>\n",
              "      <td>0.051424</td>\n",
              "      <td>-0.040698</td>\n",
              "      <td>0.038521</td>\n",
              "      <td>-0.072529</td>\n",
              "      <td>0.093640</td>\n",
              "      <td>-0.052840</td>\n",
              "      <td>0.129903</td>\n",
              "      <td>-0.121401</td>\n",
              "      <td>0.036551</td>\n",
              "      <td>-0.107973</td>\n",
              "    </tr>\n",
              "    <tr>\n",
              "      <th>1</th>\n",
              "      <td>Attenzione, ha un ferretto nasale in plastica ...</td>\n",
              "      <td>negative</td>\n",
              "      <td>attenzion ferrett nasal plastic permett far ad...</td>\n",
              "      <td>0.094878</td>\n",
              "      <td>0.098567</td>\n",
              "      <td>-0.015177</td>\n",
              "      <td>-0.113873</td>\n",
              "      <td>-0.014900</td>\n",
              "      <td>-0.042024</td>\n",
              "      <td>-0.110594</td>\n",
              "      <td>0.036761</td>\n",
              "      <td>-0.113465</td>\n",
              "      <td>0.037856</td>\n",
              "      <td>-0.015567</td>\n",
              "      <td>0.041447</td>\n",
              "      <td>-0.009850</td>\n",
              "      <td>-0.033402</td>\n",
              "      <td>-0.044292</td>\n",
              "      <td>0.027818</td>\n",
              "      <td>0.004819</td>\n",
              "      <td>-0.074853</td>\n",
              "      <td>-0.047549</td>\n",
              "      <td>-0.054687</td>\n",
              "      <td>-0.082358</td>\n",
              "      <td>-0.040038</td>\n",
              "      <td>-0.049641</td>\n",
              "      <td>-0.004761</td>\n",
              "      <td>0.073944</td>\n",
              "      <td>-0.040081</td>\n",
              "      <td>0.103654</td>\n",
              "      <td>0.050143</td>\n",
              "      <td>0.060021</td>\n",
              "      <td>0.021929</td>\n",
              "      <td>-0.046362</td>\n",
              "      <td>0.043437</td>\n",
              "      <td>-0.059318</td>\n",
              "      <td>0.016802</td>\n",
              "      <td>-0.113835</td>\n",
              "      <td>0.043084</td>\n",
              "      <td>0.072828</td>\n",
              "      <td>...</td>\n",
              "      <td>-0.045752</td>\n",
              "      <td>-0.186179</td>\n",
              "      <td>-0.097450</td>\n",
              "      <td>0.023124</td>\n",
              "      <td>-0.167923</td>\n",
              "      <td>0.258791</td>\n",
              "      <td>0.116994</td>\n",
              "      <td>0.016127</td>\n",
              "      <td>0.154664</td>\n",
              "      <td>0.118805</td>\n",
              "      <td>-0.012316</td>\n",
              "      <td>0.029420</td>\n",
              "      <td>-0.149629</td>\n",
              "      <td>-0.040519</td>\n",
              "      <td>-0.056441</td>\n",
              "      <td>0.033240</td>\n",
              "      <td>0.008441</td>\n",
              "      <td>-0.040644</td>\n",
              "      <td>0.006369</td>\n",
              "      <td>-0.112969</td>\n",
              "      <td>-0.139285</td>\n",
              "      <td>0.121846</td>\n",
              "      <td>-0.000591</td>\n",
              "      <td>-0.019790</td>\n",
              "      <td>-0.055193</td>\n",
              "      <td>-0.028753</td>\n",
              "      <td>0.037911</td>\n",
              "      <td>0.000123</td>\n",
              "      <td>0.085700</td>\n",
              "      <td>-0.084037</td>\n",
              "      <td>0.031960</td>\n",
              "      <td>-0.098343</td>\n",
              "      <td>-0.064629</td>\n",
              "      <td>0.007573</td>\n",
              "      <td>-0.162069</td>\n",
              "      <td>-0.043240</td>\n",
              "      <td>0.043447</td>\n",
              "      <td>0.035360</td>\n",
              "      <td>0.071306</td>\n",
              "      <td>0.136631</td>\n",
              "    </tr>\n",
              "    <tr>\n",
              "      <th>2</th>\n",
              "      <td>La confezione di cartone era già aperta, appen...</td>\n",
              "      <td>negative</td>\n",
              "      <td>la confezion carton già apert appen pres lat t...</td>\n",
              "      <td>0.162965</td>\n",
              "      <td>0.093678</td>\n",
              "      <td>-0.019433</td>\n",
              "      <td>-0.201709</td>\n",
              "      <td>-0.029950</td>\n",
              "      <td>-0.015995</td>\n",
              "      <td>-0.068550</td>\n",
              "      <td>0.006098</td>\n",
              "      <td>-0.271014</td>\n",
              "      <td>-0.032085</td>\n",
              "      <td>0.002295</td>\n",
              "      <td>-0.072463</td>\n",
              "      <td>-0.055738</td>\n",
              "      <td>-0.089973</td>\n",
              "      <td>-0.007607</td>\n",
              "      <td>-0.059908</td>\n",
              "      <td>-0.153262</td>\n",
              "      <td>-0.074981</td>\n",
              "      <td>-0.059365</td>\n",
              "      <td>-0.079638</td>\n",
              "      <td>0.093943</td>\n",
              "      <td>0.170338</td>\n",
              "      <td>-0.003356</td>\n",
              "      <td>-0.075741</td>\n",
              "      <td>0.091447</td>\n",
              "      <td>-0.056587</td>\n",
              "      <td>-0.184904</td>\n",
              "      <td>-0.051191</td>\n",
              "      <td>-0.134832</td>\n",
              "      <td>-0.112471</td>\n",
              "      <td>0.099303</td>\n",
              "      <td>-0.060854</td>\n",
              "      <td>-0.017967</td>\n",
              "      <td>0.085138</td>\n",
              "      <td>0.325028</td>\n",
              "      <td>-0.065360</td>\n",
              "      <td>-0.043028</td>\n",
              "      <td>...</td>\n",
              "      <td>-0.030771</td>\n",
              "      <td>-0.027790</td>\n",
              "      <td>-0.195338</td>\n",
              "      <td>0.106073</td>\n",
              "      <td>-0.018574</td>\n",
              "      <td>0.055463</td>\n",
              "      <td>0.020434</td>\n",
              "      <td>0.030524</td>\n",
              "      <td>-0.014335</td>\n",
              "      <td>0.130054</td>\n",
              "      <td>-0.066820</td>\n",
              "      <td>0.005874</td>\n",
              "      <td>0.053310</td>\n",
              "      <td>0.126492</td>\n",
              "      <td>-0.042620</td>\n",
              "      <td>0.000886</td>\n",
              "      <td>-0.098327</td>\n",
              "      <td>0.000633</td>\n",
              "      <td>0.049396</td>\n",
              "      <td>0.034331</td>\n",
              "      <td>0.007252</td>\n",
              "      <td>-0.010391</td>\n",
              "      <td>0.045655</td>\n",
              "      <td>-0.124986</td>\n",
              "      <td>-0.015846</td>\n",
              "      <td>-0.076893</td>\n",
              "      <td>-0.016921</td>\n",
              "      <td>0.009529</td>\n",
              "      <td>0.126540</td>\n",
              "      <td>0.000750</td>\n",
              "      <td>-0.007345</td>\n",
              "      <td>-0.001081</td>\n",
              "      <td>0.131356</td>\n",
              "      <td>0.069228</td>\n",
              "      <td>0.075674</td>\n",
              "      <td>-0.025459</td>\n",
              "      <td>-0.066862</td>\n",
              "      <td>-0.054959</td>\n",
              "      <td>-0.050656</td>\n",
              "      <td>0.003170</td>\n",
              "    </tr>\n",
              "    <tr>\n",
              "      <th>3</th>\n",
              "      <td>Mascherine vendute come \"Maschera Chirurgica 3...</td>\n",
              "      <td>negative</td>\n",
              "      <td>mascherin vend mascher chirurg 3p tip iir conf...</td>\n",
              "      <td>0.069384</td>\n",
              "      <td>0.071847</td>\n",
              "      <td>-0.002920</td>\n",
              "      <td>-0.199985</td>\n",
              "      <td>-0.016010</td>\n",
              "      <td>-0.026385</td>\n",
              "      <td>-0.122217</td>\n",
              "      <td>-0.029475</td>\n",
              "      <td>-0.237982</td>\n",
              "      <td>0.028748</td>\n",
              "      <td>0.062018</td>\n",
              "      <td>-0.069628</td>\n",
              "      <td>-0.001497</td>\n",
              "      <td>0.039680</td>\n",
              "      <td>-0.050194</td>\n",
              "      <td>0.017277</td>\n",
              "      <td>-0.036255</td>\n",
              "      <td>-0.016196</td>\n",
              "      <td>0.042481</td>\n",
              "      <td>-0.028338</td>\n",
              "      <td>0.028542</td>\n",
              "      <td>-0.047982</td>\n",
              "      <td>-0.016719</td>\n",
              "      <td>-0.020457</td>\n",
              "      <td>-0.042219</td>\n",
              "      <td>-0.084338</td>\n",
              "      <td>0.052299</td>\n",
              "      <td>0.051006</td>\n",
              "      <td>0.012315</td>\n",
              "      <td>0.020010</td>\n",
              "      <td>-0.003622</td>\n",
              "      <td>0.037340</td>\n",
              "      <td>-0.021128</td>\n",
              "      <td>0.008079</td>\n",
              "      <td>-0.053026</td>\n",
              "      <td>0.007035</td>\n",
              "      <td>-0.071305</td>\n",
              "      <td>...</td>\n",
              "      <td>-0.042116</td>\n",
              "      <td>-0.167922</td>\n",
              "      <td>0.068418</td>\n",
              "      <td>0.154579</td>\n",
              "      <td>-0.110248</td>\n",
              "      <td>-0.061171</td>\n",
              "      <td>0.025960</td>\n",
              "      <td>-0.086812</td>\n",
              "      <td>0.085001</td>\n",
              "      <td>-0.004617</td>\n",
              "      <td>-0.261233</td>\n",
              "      <td>-0.033170</td>\n",
              "      <td>0.167712</td>\n",
              "      <td>-0.189209</td>\n",
              "      <td>-0.034449</td>\n",
              "      <td>-0.132206</td>\n",
              "      <td>0.156278</td>\n",
              "      <td>0.078964</td>\n",
              "      <td>-0.125804</td>\n",
              "      <td>0.064246</td>\n",
              "      <td>0.061706</td>\n",
              "      <td>0.122385</td>\n",
              "      <td>0.007935</td>\n",
              "      <td>0.080827</td>\n",
              "      <td>0.009288</td>\n",
              "      <td>-0.053876</td>\n",
              "      <td>-0.020460</td>\n",
              "      <td>0.036393</td>\n",
              "      <td>-0.156515</td>\n",
              "      <td>-0.035794</td>\n",
              "      <td>0.192974</td>\n",
              "      <td>0.153911</td>\n",
              "      <td>-0.022938</td>\n",
              "      <td>0.001533</td>\n",
              "      <td>0.168073</td>\n",
              "      <td>0.150877</td>\n",
              "      <td>0.087173</td>\n",
              "      <td>0.131101</td>\n",
              "      <td>-0.004544</td>\n",
              "      <td>0.005090</td>\n",
              "    </tr>\n",
              "    <tr>\n",
              "      <th>4</th>\n",
              "      <td>ARRIVATO APERTO PESSIMO PRODOTTO</td>\n",
              "      <td>negative</td>\n",
              "      <td>arriv apert pessim prodott</td>\n",
              "      <td>0.107246</td>\n",
              "      <td>0.148116</td>\n",
              "      <td>0.052636</td>\n",
              "      <td>-0.205544</td>\n",
              "      <td>-0.121972</td>\n",
              "      <td>-0.073963</td>\n",
              "      <td>0.328354</td>\n",
              "      <td>0.032703</td>\n",
              "      <td>-0.102323</td>\n",
              "      <td>-0.020348</td>\n",
              "      <td>0.057620</td>\n",
              "      <td>-0.061631</td>\n",
              "      <td>-0.004341</td>\n",
              "      <td>-0.080439</td>\n",
              "      <td>0.098635</td>\n",
              "      <td>-0.023518</td>\n",
              "      <td>-0.170302</td>\n",
              "      <td>-0.016743</td>\n",
              "      <td>-0.069147</td>\n",
              "      <td>-0.056852</td>\n",
              "      <td>0.011211</td>\n",
              "      <td>0.033572</td>\n",
              "      <td>-0.045410</td>\n",
              "      <td>-0.055162</td>\n",
              "      <td>0.110135</td>\n",
              "      <td>0.107618</td>\n",
              "      <td>-0.178849</td>\n",
              "      <td>0.105928</td>\n",
              "      <td>-0.016136</td>\n",
              "      <td>-0.166211</td>\n",
              "      <td>0.199928</td>\n",
              "      <td>-0.125420</td>\n",
              "      <td>0.028636</td>\n",
              "      <td>0.222432</td>\n",
              "      <td>0.296981</td>\n",
              "      <td>-0.121846</td>\n",
              "      <td>-0.020989</td>\n",
              "      <td>...</td>\n",
              "      <td>-0.061411</td>\n",
              "      <td>-0.029138</td>\n",
              "      <td>0.094300</td>\n",
              "      <td>0.011169</td>\n",
              "      <td>0.005959</td>\n",
              "      <td>0.012627</td>\n",
              "      <td>0.004467</td>\n",
              "      <td>-0.090164</td>\n",
              "      <td>0.051587</td>\n",
              "      <td>0.001206</td>\n",
              "      <td>-0.007334</td>\n",
              "      <td>-0.053322</td>\n",
              "      <td>-0.017234</td>\n",
              "      <td>-0.068042</td>\n",
              "      <td>0.031678</td>\n",
              "      <td>-0.028992</td>\n",
              "      <td>-0.032327</td>\n",
              "      <td>-0.015043</td>\n",
              "      <td>-0.012374</td>\n",
              "      <td>0.056953</td>\n",
              "      <td>-0.039972</td>\n",
              "      <td>0.033625</td>\n",
              "      <td>0.025847</td>\n",
              "      <td>0.037693</td>\n",
              "      <td>-0.013094</td>\n",
              "      <td>0.041841</td>\n",
              "      <td>0.025610</td>\n",
              "      <td>0.017760</td>\n",
              "      <td>-0.036495</td>\n",
              "      <td>-0.015132</td>\n",
              "      <td>0.026638</td>\n",
              "      <td>-0.031134</td>\n",
              "      <td>0.000912</td>\n",
              "      <td>0.012419</td>\n",
              "      <td>0.017820</td>\n",
              "      <td>-0.000848</td>\n",
              "      <td>0.035733</td>\n",
              "      <td>0.021974</td>\n",
              "      <td>0.007850</td>\n",
              "      <td>0.033338</td>\n",
              "    </tr>\n",
              "  </tbody>\n",
              "</table>\n",
              "<p>5 rows × 103 columns</p>\n",
              "</div>"
            ],
            "text/plain": [
              "                                                Text  ...   feat100\n",
              "0  Ho acquistato questa confezione di mascherine ...  ... -0.107973\n",
              "1  Attenzione, ha un ferretto nasale in plastica ...  ...  0.136631\n",
              "2  La confezione di cartone era già aperta, appen...  ...  0.003170\n",
              "3  Mascherine vendute come \"Maschera Chirurgica 3...  ...  0.005090\n",
              "4                   ARRIVATO APERTO PESSIMO PRODOTTO  ...  0.033338\n",
              "\n",
              "[5 rows x 103 columns]"
            ]
          },
          "metadata": {
            "tags": []
          },
          "execution_count": 77
        }
      ]
    },
    {
      "cell_type": "code",
      "metadata": {
        "id": "KU62kCZSIKtF",
        "colab_type": "code",
        "colab": {
          "base_uri": "https://localhost:8080/",
          "height": 35
        },
        "outputId": "45f2fcb8-96d6-4a8a-82b2-f1ebbfcf83b4"
      },
      "source": [
        "len(df300.columns)"
      ],
      "execution_count": null,
      "outputs": [
        {
          "output_type": "execute_result",
          "data": {
            "text/plain": [
              "303"
            ]
          },
          "metadata": {
            "tags": []
          },
          "execution_count": 272
        }
      ]
    },
    {
      "cell_type": "code",
      "metadata": {
        "id": "DrFG0pvOHwqW",
        "colab_type": "code",
        "colab": {
          "base_uri": "https://localhost:8080/",
          "height": 198
        },
        "outputId": "a8677224-f9b5-4aa6-f9dc-0e16fdcb02e5"
      },
      "source": [
        "df100.head()"
      ],
      "execution_count": null,
      "outputs": [
        {
          "output_type": "execute_result",
          "data": {
            "text/html": [
              "<div>\n",
              "<style scoped>\n",
              "    .dataframe tbody tr th:only-of-type {\n",
              "        vertical-align: middle;\n",
              "    }\n",
              "\n",
              "    .dataframe tbody tr th {\n",
              "        vertical-align: top;\n",
              "    }\n",
              "\n",
              "    .dataframe thead th {\n",
              "        text-align: right;\n",
              "    }\n",
              "</style>\n",
              "<table border=\"1\" class=\"dataframe\">\n",
              "  <thead>\n",
              "    <tr style=\"text-align: right;\">\n",
              "      <th></th>\n",
              "      <th>Text</th>\n",
              "      <th>Sentiment</th>\n",
              "      <th>Processed Text</th>\n",
              "    </tr>\n",
              "  </thead>\n",
              "  <tbody>\n",
              "    <tr>\n",
              "      <th>0</th>\n",
              "      <td>Ho acquistato questa confezione di mascherine ...</td>\n",
              "      <td>positive</td>\n",
              "      <td>ho acquist confezion mascherin 19 99 quind 40 ...</td>\n",
              "    </tr>\n",
              "    <tr>\n",
              "      <th>1</th>\n",
              "      <td>Attenzione, ha un ferretto nasale in plastica ...</td>\n",
              "      <td>negative</td>\n",
              "      <td>attenzion ferrett nasal plastic permett far ad...</td>\n",
              "    </tr>\n",
              "    <tr>\n",
              "      <th>2</th>\n",
              "      <td>La confezione di cartone era già aperta, appen...</td>\n",
              "      <td>negative</td>\n",
              "      <td>la confezion carton già apert appen pres lat t...</td>\n",
              "    </tr>\n",
              "    <tr>\n",
              "      <th>3</th>\n",
              "      <td>Mascherine vendute come \"Maschera Chirurgica 3...</td>\n",
              "      <td>negative</td>\n",
              "      <td>mascherin vend mascher chirurg 3p tip iir conf...</td>\n",
              "    </tr>\n",
              "    <tr>\n",
              "      <th>4</th>\n",
              "      <td>ARRIVATO APERTO PESSIMO PRODOTTO</td>\n",
              "      <td>negative</td>\n",
              "      <td>arriv apert pessim prodott</td>\n",
              "    </tr>\n",
              "  </tbody>\n",
              "</table>\n",
              "</div>"
            ],
            "text/plain": [
              "                                                Text  ...                                     Processed Text\n",
              "0  Ho acquistato questa confezione di mascherine ...  ...  ho acquist confezion mascherin 19 99 quind 40 ...\n",
              "1  Attenzione, ha un ferretto nasale in plastica ...  ...  attenzion ferrett nasal plastic permett far ad...\n",
              "2  La confezione di cartone era già aperta, appen...  ...  la confezion carton già apert appen pres lat t...\n",
              "3  Mascherine vendute come \"Maschera Chirurgica 3...  ...  mascherin vend mascher chirurg 3p tip iir conf...\n",
              "4                   ARRIVATO APERTO PESSIMO PRODOTTO  ...                         arriv apert pessim prodott\n",
              "\n",
              "[5 rows x 3 columns]"
            ]
          },
          "metadata": {
            "tags": []
          },
          "execution_count": 264
        }
      ]
    },
    {
      "cell_type": "code",
      "metadata": {
        "id": "_D0VmFQFGMDO",
        "colab_type": "code",
        "colab": {
          "base_uri": "https://localhost:8080/",
          "height": 54
        },
        "outputId": "7b0bc8fc-b682-47f6-896f-5c32e3beed1b"
      },
      "source": [
        "len(l[0])\n",
        "len(namescreator([SVDMatrices[0]])[0])"
      ],
      "execution_count": null,
      "outputs": [
        {
          "output_type": "stream",
          "text": [
            "100\n"
          ],
          "name": "stdout"
        },
        {
          "output_type": "execute_result",
          "data": {
            "text/plain": [
              "100"
            ]
          },
          "metadata": {
            "tags": []
          },
          "execution_count": 241
        }
      ]
    },
    {
      "cell_type": "markdown",
      "metadata": {
        "id": "tWVhONDE8sqq",
        "colab_type": "text"
      },
      "source": [
        "## SVM LAST STEP"
      ]
    },
    {
      "cell_type": "markdown",
      "metadata": {
        "id": "Gh4QJyqNAI9O",
        "colab_type": "text"
      },
      "source": [
        "#Df100 Tested on SVM\n"
      ]
    },
    {
      "cell_type": "code",
      "metadata": {
        "id": "K6twU4Tx0ILP",
        "colab_type": "code",
        "colab": {
          "base_uri": "https://localhost:8080/",
          "height": 679
        },
        "outputId": "4941a8da-07e4-43f1-a45b-8dbe8d888429"
      },
      "source": [
        "df100.head()"
      ],
      "execution_count": null,
      "outputs": [
        {
          "output_type": "execute_result",
          "data": {
            "text/html": [
              "<div>\n",
              "<style scoped>\n",
              "    .dataframe tbody tr th:only-of-type {\n",
              "        vertical-align: middle;\n",
              "    }\n",
              "\n",
              "    .dataframe tbody tr th {\n",
              "        vertical-align: top;\n",
              "    }\n",
              "\n",
              "    .dataframe thead th {\n",
              "        text-align: right;\n",
              "    }\n",
              "</style>\n",
              "<table border=\"1\" class=\"dataframe\">\n",
              "  <thead>\n",
              "    <tr style=\"text-align: right;\">\n",
              "      <th></th>\n",
              "      <th>Text</th>\n",
              "      <th>Sentiment</th>\n",
              "      <th>Processed Text</th>\n",
              "      <th>feat1</th>\n",
              "      <th>feat2</th>\n",
              "      <th>feat3</th>\n",
              "      <th>feat4</th>\n",
              "      <th>feat5</th>\n",
              "      <th>feat6</th>\n",
              "      <th>feat7</th>\n",
              "      <th>feat8</th>\n",
              "      <th>feat9</th>\n",
              "      <th>feat10</th>\n",
              "      <th>feat11</th>\n",
              "      <th>feat12</th>\n",
              "      <th>feat13</th>\n",
              "      <th>feat14</th>\n",
              "      <th>feat15</th>\n",
              "      <th>feat16</th>\n",
              "      <th>feat17</th>\n",
              "      <th>feat18</th>\n",
              "      <th>feat19</th>\n",
              "      <th>feat20</th>\n",
              "      <th>feat21</th>\n",
              "      <th>feat22</th>\n",
              "      <th>feat23</th>\n",
              "      <th>feat24</th>\n",
              "      <th>feat25</th>\n",
              "      <th>feat26</th>\n",
              "      <th>feat27</th>\n",
              "      <th>feat28</th>\n",
              "      <th>feat29</th>\n",
              "      <th>feat30</th>\n",
              "      <th>feat31</th>\n",
              "      <th>feat32</th>\n",
              "      <th>feat33</th>\n",
              "      <th>feat34</th>\n",
              "      <th>feat35</th>\n",
              "      <th>feat36</th>\n",
              "      <th>feat37</th>\n",
              "      <th>...</th>\n",
              "      <th>feat61</th>\n",
              "      <th>feat62</th>\n",
              "      <th>feat63</th>\n",
              "      <th>feat64</th>\n",
              "      <th>feat65</th>\n",
              "      <th>feat66</th>\n",
              "      <th>feat67</th>\n",
              "      <th>feat68</th>\n",
              "      <th>feat69</th>\n",
              "      <th>feat70</th>\n",
              "      <th>feat71</th>\n",
              "      <th>feat72</th>\n",
              "      <th>feat73</th>\n",
              "      <th>feat74</th>\n",
              "      <th>feat75</th>\n",
              "      <th>feat76</th>\n",
              "      <th>feat77</th>\n",
              "      <th>feat78</th>\n",
              "      <th>feat79</th>\n",
              "      <th>feat80</th>\n",
              "      <th>feat81</th>\n",
              "      <th>feat82</th>\n",
              "      <th>feat83</th>\n",
              "      <th>feat84</th>\n",
              "      <th>feat85</th>\n",
              "      <th>feat86</th>\n",
              "      <th>feat87</th>\n",
              "      <th>feat88</th>\n",
              "      <th>feat89</th>\n",
              "      <th>feat90</th>\n",
              "      <th>feat91</th>\n",
              "      <th>feat92</th>\n",
              "      <th>feat93</th>\n",
              "      <th>feat94</th>\n",
              "      <th>feat95</th>\n",
              "      <th>feat96</th>\n",
              "      <th>feat97</th>\n",
              "      <th>feat98</th>\n",
              "      <th>feat99</th>\n",
              "      <th>feat100</th>\n",
              "    </tr>\n",
              "  </thead>\n",
              "  <tbody>\n",
              "    <tr>\n",
              "      <th>0</th>\n",
              "      <td>Ho acquistato questa confezione di mascherine ...</td>\n",
              "      <td>positive</td>\n",
              "      <td>ho acquist confezion mascherin 19 99 quind 40 ...</td>\n",
              "      <td>0.238246</td>\n",
              "      <td>8.825177e-10</td>\n",
              "      <td>0.178404</td>\n",
              "      <td>-0.041178</td>\n",
              "      <td>-0.313534</td>\n",
              "      <td>0.020133</td>\n",
              "      <td>-0.225859</td>\n",
              "      <td>-0.165623</td>\n",
              "      <td>-0.017885</td>\n",
              "      <td>-6.068589e-07</td>\n",
              "      <td>-0.268911</td>\n",
              "      <td>0.075531</td>\n",
              "      <td>-0.099105</td>\n",
              "      <td>0.046731</td>\n",
              "      <td>-0.012090</td>\n",
              "      <td>-0.027722</td>\n",
              "      <td>-0.062605</td>\n",
              "      <td>-0.028871</td>\n",
              "      <td>0.072933</td>\n",
              "      <td>0.019589</td>\n",
              "      <td>-0.002882</td>\n",
              "      <td>-0.021902</td>\n",
              "      <td>-0.057109</td>\n",
              "      <td>-0.022627</td>\n",
              "      <td>0.072513</td>\n",
              "      <td>-0.003472</td>\n",
              "      <td>0.005458</td>\n",
              "      <td>-0.003079</td>\n",
              "      <td>0.040895</td>\n",
              "      <td>0.037248</td>\n",
              "      <td>0.037384</td>\n",
              "      <td>-0.089357</td>\n",
              "      <td>-0.139644</td>\n",
              "      <td>0.074910</td>\n",
              "      <td>0.021163</td>\n",
              "      <td>0.014838</td>\n",
              "      <td>0.045374</td>\n",
              "      <td>...</td>\n",
              "      <td>-0.048912</td>\n",
              "      <td>-0.070977</td>\n",
              "      <td>0.036694</td>\n",
              "      <td>0.017226</td>\n",
              "      <td>0.051237</td>\n",
              "      <td>-0.055084</td>\n",
              "      <td>-0.032498</td>\n",
              "      <td>-0.059212</td>\n",
              "      <td>0.009200</td>\n",
              "      <td>0.009407</td>\n",
              "      <td>-0.017299</td>\n",
              "      <td>-0.084107</td>\n",
              "      <td>-0.020935</td>\n",
              "      <td>-0.079054</td>\n",
              "      <td>-0.041154</td>\n",
              "      <td>0.038555</td>\n",
              "      <td>-0.040413</td>\n",
              "      <td>0.053252</td>\n",
              "      <td>-0.066572</td>\n",
              "      <td>0.012455</td>\n",
              "      <td>-0.092976</td>\n",
              "      <td>-0.049566</td>\n",
              "      <td>0.025117</td>\n",
              "      <td>0.045651</td>\n",
              "      <td>0.095083</td>\n",
              "      <td>0.026987</td>\n",
              "      <td>-0.131269</td>\n",
              "      <td>-0.023436</td>\n",
              "      <td>-0.078785</td>\n",
              "      <td>0.047547</td>\n",
              "      <td>-0.052551</td>\n",
              "      <td>0.147636</td>\n",
              "      <td>0.048822</td>\n",
              "      <td>-0.010379</td>\n",
              "      <td>0.187057</td>\n",
              "      <td>-0.052012</td>\n",
              "      <td>-0.012752</td>\n",
              "      <td>-0.064345</td>\n",
              "      <td>-0.048895</td>\n",
              "      <td>0.097730</td>\n",
              "    </tr>\n",
              "    <tr>\n",
              "      <th>1</th>\n",
              "      <td>Attenzione, ha un ferretto nasale in plastica ...</td>\n",
              "      <td>negative</td>\n",
              "      <td>attenzion ferrett nasal plastic permett far ad...</td>\n",
              "      <td>0.095045</td>\n",
              "      <td>1.107227e-09</td>\n",
              "      <td>0.093065</td>\n",
              "      <td>-0.014735</td>\n",
              "      <td>-0.118243</td>\n",
              "      <td>-0.006005</td>\n",
              "      <td>-0.104415</td>\n",
              "      <td>-0.047531</td>\n",
              "      <td>0.057156</td>\n",
              "      <td>6.112216e-06</td>\n",
              "      <td>-0.109709</td>\n",
              "      <td>0.030370</td>\n",
              "      <td>0.033809</td>\n",
              "      <td>-0.017994</td>\n",
              "      <td>0.025312</td>\n",
              "      <td>-0.054281</td>\n",
              "      <td>-0.009079</td>\n",
              "      <td>-0.000375</td>\n",
              "      <td>0.060793</td>\n",
              "      <td>0.012284</td>\n",
              "      <td>-0.044080</td>\n",
              "      <td>0.036211</td>\n",
              "      <td>-0.053689</td>\n",
              "      <td>-0.064960</td>\n",
              "      <td>0.137295</td>\n",
              "      <td>0.001415</td>\n",
              "      <td>0.041090</td>\n",
              "      <td>-0.038182</td>\n",
              "      <td>0.014348</td>\n",
              "      <td>0.080050</td>\n",
              "      <td>-0.044737</td>\n",
              "      <td>-0.038375</td>\n",
              "      <td>-0.148499</td>\n",
              "      <td>-0.009330</td>\n",
              "      <td>-0.004038</td>\n",
              "      <td>-0.005783</td>\n",
              "      <td>0.091994</td>\n",
              "      <td>...</td>\n",
              "      <td>-0.007261</td>\n",
              "      <td>-0.189629</td>\n",
              "      <td>0.112197</td>\n",
              "      <td>-0.156549</td>\n",
              "      <td>-0.217215</td>\n",
              "      <td>-0.008332</td>\n",
              "      <td>0.050269</td>\n",
              "      <td>0.018979</td>\n",
              "      <td>0.085919</td>\n",
              "      <td>-0.030698</td>\n",
              "      <td>-0.135350</td>\n",
              "      <td>-0.061089</td>\n",
              "      <td>0.027805</td>\n",
              "      <td>-0.143018</td>\n",
              "      <td>-0.059486</td>\n",
              "      <td>0.023533</td>\n",
              "      <td>-0.048461</td>\n",
              "      <td>-0.094309</td>\n",
              "      <td>-0.030354</td>\n",
              "      <td>-0.173928</td>\n",
              "      <td>-0.041810</td>\n",
              "      <td>-0.129781</td>\n",
              "      <td>-0.038327</td>\n",
              "      <td>0.033843</td>\n",
              "      <td>-0.049126</td>\n",
              "      <td>-0.062025</td>\n",
              "      <td>0.054460</td>\n",
              "      <td>0.031833</td>\n",
              "      <td>-0.089046</td>\n",
              "      <td>-0.081387</td>\n",
              "      <td>0.076771</td>\n",
              "      <td>-0.032085</td>\n",
              "      <td>-0.114188</td>\n",
              "      <td>0.018062</td>\n",
              "      <td>-0.115742</td>\n",
              "      <td>-0.009541</td>\n",
              "      <td>0.051120</td>\n",
              "      <td>0.030642</td>\n",
              "      <td>-0.068783</td>\n",
              "      <td>-0.142211</td>\n",
              "    </tr>\n",
              "    <tr>\n",
              "      <th>2</th>\n",
              "      <td>La confezione di cartone era già aperta, appen...</td>\n",
              "      <td>negative</td>\n",
              "      <td>la confezion carton già apert appen pres lat t...</td>\n",
              "      <td>0.163084</td>\n",
              "      <td>-1.407123e-09</td>\n",
              "      <td>0.091821</td>\n",
              "      <td>-0.019264</td>\n",
              "      <td>-0.208531</td>\n",
              "      <td>0.014746</td>\n",
              "      <td>-0.059161</td>\n",
              "      <td>-0.033872</td>\n",
              "      <td>0.034943</td>\n",
              "      <td>9.635783e-07</td>\n",
              "      <td>-0.272054</td>\n",
              "      <td>-0.011773</td>\n",
              "      <td>-0.082025</td>\n",
              "      <td>-0.025923</td>\n",
              "      <td>0.066096</td>\n",
              "      <td>-0.047855</td>\n",
              "      <td>-0.052059</td>\n",
              "      <td>-0.162233</td>\n",
              "      <td>0.091933</td>\n",
              "      <td>0.036114</td>\n",
              "      <td>-0.049963</td>\n",
              "      <td>-0.028205</td>\n",
              "      <td>-0.037757</td>\n",
              "      <td>0.158116</td>\n",
              "      <td>-0.062178</td>\n",
              "      <td>0.093082</td>\n",
              "      <td>0.037520</td>\n",
              "      <td>0.207503</td>\n",
              "      <td>-0.011711</td>\n",
              "      <td>-0.054151</td>\n",
              "      <td>-0.001192</td>\n",
              "      <td>0.127179</td>\n",
              "      <td>0.371399</td>\n",
              "      <td>-0.000976</td>\n",
              "      <td>-0.078559</td>\n",
              "      <td>0.065595</td>\n",
              "      <td>-0.057359</td>\n",
              "      <td>...</td>\n",
              "      <td>0.082417</td>\n",
              "      <td>-0.127794</td>\n",
              "      <td>0.203158</td>\n",
              "      <td>0.065038</td>\n",
              "      <td>-0.062194</td>\n",
              "      <td>-0.091523</td>\n",
              "      <td>-0.091836</td>\n",
              "      <td>-0.033999</td>\n",
              "      <td>0.080019</td>\n",
              "      <td>-0.061890</td>\n",
              "      <td>0.084083</td>\n",
              "      <td>-0.061507</td>\n",
              "      <td>0.009242</td>\n",
              "      <td>-0.027100</td>\n",
              "      <td>-0.119227</td>\n",
              "      <td>0.098158</td>\n",
              "      <td>-0.053617</td>\n",
              "      <td>0.042524</td>\n",
              "      <td>-0.120746</td>\n",
              "      <td>0.072037</td>\n",
              "      <td>-0.033197</td>\n",
              "      <td>-0.157151</td>\n",
              "      <td>0.049062</td>\n",
              "      <td>0.041934</td>\n",
              "      <td>-0.079438</td>\n",
              "      <td>0.021389</td>\n",
              "      <td>-0.040477</td>\n",
              "      <td>-0.039934</td>\n",
              "      <td>0.169996</td>\n",
              "      <td>-0.026901</td>\n",
              "      <td>-0.014792</td>\n",
              "      <td>-0.093733</td>\n",
              "      <td>0.014635</td>\n",
              "      <td>-0.048837</td>\n",
              "      <td>0.022378</td>\n",
              "      <td>0.101158</td>\n",
              "      <td>-0.050070</td>\n",
              "      <td>-0.008339</td>\n",
              "      <td>0.041828</td>\n",
              "      <td>0.043726</td>\n",
              "    </tr>\n",
              "    <tr>\n",
              "      <th>3</th>\n",
              "      <td>Mascherine vendute come \"Maschera Chirurgica 3...</td>\n",
              "      <td>negative</td>\n",
              "      <td>mascherin vend mascher chirurg 3p tip iir conf...</td>\n",
              "      <td>0.069452</td>\n",
              "      <td>-2.496952e-10</td>\n",
              "      <td>0.066956</td>\n",
              "      <td>-0.002720</td>\n",
              "      <td>-0.198572</td>\n",
              "      <td>0.016078</td>\n",
              "      <td>-0.108894</td>\n",
              "      <td>-0.058982</td>\n",
              "      <td>0.006410</td>\n",
              "      <td>-9.388165e-07</td>\n",
              "      <td>-0.235811</td>\n",
              "      <td>0.054168</td>\n",
              "      <td>-0.078592</td>\n",
              "      <td>0.039342</td>\n",
              "      <td>-0.042152</td>\n",
              "      <td>-0.019258</td>\n",
              "      <td>-0.036987</td>\n",
              "      <td>-0.026617</td>\n",
              "      <td>-0.033711</td>\n",
              "      <td>0.053164</td>\n",
              "      <td>-0.043350</td>\n",
              "      <td>-0.042735</td>\n",
              "      <td>0.003473</td>\n",
              "      <td>-0.020006</td>\n",
              "      <td>0.006860</td>\n",
              "      <td>-0.017519</td>\n",
              "      <td>0.082172</td>\n",
              "      <td>-0.059125</td>\n",
              "      <td>-0.031939</td>\n",
              "      <td>0.042712</td>\n",
              "      <td>-0.004552</td>\n",
              "      <td>-0.005859</td>\n",
              "      <td>-0.074225</td>\n",
              "      <td>-0.023698</td>\n",
              "      <td>-0.078332</td>\n",
              "      <td>-0.001830</td>\n",
              "      <td>0.014008</td>\n",
              "      <td>...</td>\n",
              "      <td>0.132944</td>\n",
              "      <td>-0.168067</td>\n",
              "      <td>0.000683</td>\n",
              "      <td>-0.161730</td>\n",
              "      <td>0.205908</td>\n",
              "      <td>-0.045753</td>\n",
              "      <td>-0.132154</td>\n",
              "      <td>0.088133</td>\n",
              "      <td>-0.177767</td>\n",
              "      <td>0.212424</td>\n",
              "      <td>-0.062530</td>\n",
              "      <td>0.022901</td>\n",
              "      <td>-0.040376</td>\n",
              "      <td>0.171489</td>\n",
              "      <td>0.107637</td>\n",
              "      <td>0.105145</td>\n",
              "      <td>0.015560</td>\n",
              "      <td>0.127510</td>\n",
              "      <td>0.116291</td>\n",
              "      <td>-0.074852</td>\n",
              "      <td>-0.048357</td>\n",
              "      <td>0.226565</td>\n",
              "      <td>0.002857</td>\n",
              "      <td>0.127264</td>\n",
              "      <td>0.073139</td>\n",
              "      <td>-0.138358</td>\n",
              "      <td>-0.162364</td>\n",
              "      <td>-0.084639</td>\n",
              "      <td>-0.068421</td>\n",
              "      <td>-0.012733</td>\n",
              "      <td>-0.077789</td>\n",
              "      <td>-0.153312</td>\n",
              "      <td>0.090421</td>\n",
              "      <td>-0.031712</td>\n",
              "      <td>-0.014584</td>\n",
              "      <td>-0.045756</td>\n",
              "      <td>-0.070525</td>\n",
              "      <td>0.112852</td>\n",
              "      <td>-0.022912</td>\n",
              "      <td>-0.051969</td>\n",
              "    </tr>\n",
              "    <tr>\n",
              "      <th>4</th>\n",
              "      <td>ARRIVATO APERTO PESSIMO PRODOTTO</td>\n",
              "      <td>negative</td>\n",
              "      <td>arriv apert pessim prodott</td>\n",
              "      <td>0.110703</td>\n",
              "      <td>1.097679e-10</td>\n",
              "      <td>0.140994</td>\n",
              "      <td>0.048112</td>\n",
              "      <td>-0.222573</td>\n",
              "      <td>-0.165096</td>\n",
              "      <td>0.234184</td>\n",
              "      <td>0.180428</td>\n",
              "      <td>0.004923</td>\n",
              "      <td>-1.776048e-07</td>\n",
              "      <td>-0.099912</td>\n",
              "      <td>0.012125</td>\n",
              "      <td>-0.066439</td>\n",
              "      <td>0.026877</td>\n",
              "      <td>0.068595</td>\n",
              "      <td>0.010636</td>\n",
              "      <td>0.028178</td>\n",
              "      <td>-0.194259</td>\n",
              "      <td>0.063368</td>\n",
              "      <td>-0.029305</td>\n",
              "      <td>-0.061443</td>\n",
              "      <td>0.027023</td>\n",
              "      <td>0.031290</td>\n",
              "      <td>0.062793</td>\n",
              "      <td>0.022631</td>\n",
              "      <td>0.111561</td>\n",
              "      <td>-0.125875</td>\n",
              "      <td>0.194903</td>\n",
              "      <td>-0.143023</td>\n",
              "      <td>-0.015626</td>\n",
              "      <td>-0.111352</td>\n",
              "      <td>0.232669</td>\n",
              "      <td>0.372887</td>\n",
              "      <td>-0.182035</td>\n",
              "      <td>0.014992</td>\n",
              "      <td>0.068329</td>\n",
              "      <td>-0.117198</td>\n",
              "      <td>...</td>\n",
              "      <td>-0.079061</td>\n",
              "      <td>0.009052</td>\n",
              "      <td>-0.030288</td>\n",
              "      <td>-0.047914</td>\n",
              "      <td>0.083684</td>\n",
              "      <td>0.091342</td>\n",
              "      <td>0.016263</td>\n",
              "      <td>0.042054</td>\n",
              "      <td>-0.047262</td>\n",
              "      <td>0.037752</td>\n",
              "      <td>0.046670</td>\n",
              "      <td>0.012530</td>\n",
              "      <td>-0.080064</td>\n",
              "      <td>0.026360</td>\n",
              "      <td>-0.012133</td>\n",
              "      <td>-0.002251</td>\n",
              "      <td>-0.000527</td>\n",
              "      <td>0.018752</td>\n",
              "      <td>0.019415</td>\n",
              "      <td>-0.059022</td>\n",
              "      <td>-0.013580</td>\n",
              "      <td>-0.032792</td>\n",
              "      <td>-0.029042</td>\n",
              "      <td>0.010395</td>\n",
              "      <td>0.018840</td>\n",
              "      <td>-0.024800</td>\n",
              "      <td>-0.025280</td>\n",
              "      <td>0.028609</td>\n",
              "      <td>-0.008738</td>\n",
              "      <td>0.011662</td>\n",
              "      <td>-0.035010</td>\n",
              "      <td>0.020491</td>\n",
              "      <td>-0.035467</td>\n",
              "      <td>-0.012169</td>\n",
              "      <td>-0.046553</td>\n",
              "      <td>-0.001141</td>\n",
              "      <td>0.021899</td>\n",
              "      <td>-0.019671</td>\n",
              "      <td>-0.015320</td>\n",
              "      <td>-0.002274</td>\n",
              "    </tr>\n",
              "  </tbody>\n",
              "</table>\n",
              "<p>5 rows × 103 columns</p>\n",
              "</div>"
            ],
            "text/plain": [
              "                                                Text  ...   feat100\n",
              "0  Ho acquistato questa confezione di mascherine ...  ...  0.097730\n",
              "1  Attenzione, ha un ferretto nasale in plastica ...  ... -0.142211\n",
              "2  La confezione di cartone era già aperta, appen...  ...  0.043726\n",
              "3  Mascherine vendute come \"Maschera Chirurgica 3...  ... -0.051969\n",
              "4                   ARRIVATO APERTO PESSIMO PRODOTTO  ... -0.002274\n",
              "\n",
              "[5 rows x 103 columns]"
            ]
          },
          "metadata": {
            "tags": []
          },
          "execution_count": 81
        }
      ]
    },
    {
      "cell_type": "code",
      "metadata": {
        "id": "_9F04Idw_VBm",
        "colab_type": "code",
        "colab": {
          "base_uri": "https://localhost:8080/",
          "height": 678
        },
        "outputId": "082b7499-19ef-4c62-80d4-0e793d85d9fb"
      },
      "source": [
        "import pandas as pd\n",
        "TrainData = pd.read_csv('/content/drive/My Drive/Topic detection/Df100.csv', index_col = 0 )\n",
        "TrainData.head()"
      ],
      "execution_count": 78,
      "outputs": [
        {
          "output_type": "execute_result",
          "data": {
            "text/html": [
              "<div>\n",
              "<style scoped>\n",
              "    .dataframe tbody tr th:only-of-type {\n",
              "        vertical-align: middle;\n",
              "    }\n",
              "\n",
              "    .dataframe tbody tr th {\n",
              "        vertical-align: top;\n",
              "    }\n",
              "\n",
              "    .dataframe thead th {\n",
              "        text-align: right;\n",
              "    }\n",
              "</style>\n",
              "<table border=\"1\" class=\"dataframe\">\n",
              "  <thead>\n",
              "    <tr style=\"text-align: right;\">\n",
              "      <th></th>\n",
              "      <th>Text</th>\n",
              "      <th>Sentiment</th>\n",
              "      <th>Processed Text</th>\n",
              "      <th>feat1</th>\n",
              "      <th>feat2</th>\n",
              "      <th>feat3</th>\n",
              "      <th>feat4</th>\n",
              "      <th>feat5</th>\n",
              "      <th>feat6</th>\n",
              "      <th>feat7</th>\n",
              "      <th>feat8</th>\n",
              "      <th>feat9</th>\n",
              "      <th>feat10</th>\n",
              "      <th>feat11</th>\n",
              "      <th>feat12</th>\n",
              "      <th>feat13</th>\n",
              "      <th>feat14</th>\n",
              "      <th>feat15</th>\n",
              "      <th>feat16</th>\n",
              "      <th>feat17</th>\n",
              "      <th>feat18</th>\n",
              "      <th>feat19</th>\n",
              "      <th>feat20</th>\n",
              "      <th>feat21</th>\n",
              "      <th>feat22</th>\n",
              "      <th>feat23</th>\n",
              "      <th>feat24</th>\n",
              "      <th>feat25</th>\n",
              "      <th>feat26</th>\n",
              "      <th>feat27</th>\n",
              "      <th>feat28</th>\n",
              "      <th>feat29</th>\n",
              "      <th>feat30</th>\n",
              "      <th>feat31</th>\n",
              "      <th>feat32</th>\n",
              "      <th>feat33</th>\n",
              "      <th>feat34</th>\n",
              "      <th>feat35</th>\n",
              "      <th>feat36</th>\n",
              "      <th>feat37</th>\n",
              "      <th>...</th>\n",
              "      <th>feat61</th>\n",
              "      <th>feat62</th>\n",
              "      <th>feat63</th>\n",
              "      <th>feat64</th>\n",
              "      <th>feat65</th>\n",
              "      <th>feat66</th>\n",
              "      <th>feat67</th>\n",
              "      <th>feat68</th>\n",
              "      <th>feat69</th>\n",
              "      <th>feat70</th>\n",
              "      <th>feat71</th>\n",
              "      <th>feat72</th>\n",
              "      <th>feat73</th>\n",
              "      <th>feat74</th>\n",
              "      <th>feat75</th>\n",
              "      <th>feat76</th>\n",
              "      <th>feat77</th>\n",
              "      <th>feat78</th>\n",
              "      <th>feat79</th>\n",
              "      <th>feat80</th>\n",
              "      <th>feat81</th>\n",
              "      <th>feat82</th>\n",
              "      <th>feat83</th>\n",
              "      <th>feat84</th>\n",
              "      <th>feat85</th>\n",
              "      <th>feat86</th>\n",
              "      <th>feat87</th>\n",
              "      <th>feat88</th>\n",
              "      <th>feat89</th>\n",
              "      <th>feat90</th>\n",
              "      <th>feat91</th>\n",
              "      <th>feat92</th>\n",
              "      <th>feat93</th>\n",
              "      <th>feat94</th>\n",
              "      <th>feat95</th>\n",
              "      <th>feat96</th>\n",
              "      <th>feat97</th>\n",
              "      <th>feat98</th>\n",
              "      <th>feat99</th>\n",
              "      <th>feat100</th>\n",
              "    </tr>\n",
              "  </thead>\n",
              "  <tbody>\n",
              "    <tr>\n",
              "      <th>0</th>\n",
              "      <td>Ho acquistato questa confezione di mascherine ...</td>\n",
              "      <td>positive</td>\n",
              "      <td>ho acquist confezion mascherin 19 99 quind 40 ...</td>\n",
              "      <td>0.237525</td>\n",
              "      <td>0.186174</td>\n",
              "      <td>-0.042134</td>\n",
              "      <td>-0.307716</td>\n",
              "      <td>-0.039920</td>\n",
              "      <td>-0.057559</td>\n",
              "      <td>-0.270343</td>\n",
              "      <td>-0.081552</td>\n",
              "      <td>-0.265144</td>\n",
              "      <td>0.046145</td>\n",
              "      <td>0.066505</td>\n",
              "      <td>-0.086436</td>\n",
              "      <td>0.001048</td>\n",
              "      <td>0.009102</td>\n",
              "      <td>-0.059475</td>\n",
              "      <td>-0.026938</td>\n",
              "      <td>-0.025138</td>\n",
              "      <td>-0.095071</td>\n",
              "      <td>-0.050526</td>\n",
              "      <td>-0.023517</td>\n",
              "      <td>-0.018024</td>\n",
              "      <td>0.004008</td>\n",
              "      <td>-0.002508</td>\n",
              "      <td>0.021256</td>\n",
              "      <td>0.074913</td>\n",
              "      <td>-0.017813</td>\n",
              "      <td>0.033904</td>\n",
              "      <td>-0.008413</td>\n",
              "      <td>-0.001874</td>\n",
              "      <td>0.061700</td>\n",
              "      <td>-0.096940</td>\n",
              "      <td>0.071748</td>\n",
              "      <td>-0.014023</td>\n",
              "      <td>-0.084563</td>\n",
              "      <td>-0.122355</td>\n",
              "      <td>0.059985</td>\n",
              "      <td>0.068754</td>\n",
              "      <td>...</td>\n",
              "      <td>-0.092236</td>\n",
              "      <td>0.088788</td>\n",
              "      <td>-0.087862</td>\n",
              "      <td>-0.010239</td>\n",
              "      <td>-0.010276</td>\n",
              "      <td>0.025596</td>\n",
              "      <td>0.003732</td>\n",
              "      <td>0.030253</td>\n",
              "      <td>0.036848</td>\n",
              "      <td>-0.077170</td>\n",
              "      <td>-0.074790</td>\n",
              "      <td>0.018263</td>\n",
              "      <td>0.070539</td>\n",
              "      <td>0.026700</td>\n",
              "      <td>-0.009885</td>\n",
              "      <td>-0.007642</td>\n",
              "      <td>-0.003279</td>\n",
              "      <td>-0.059962</td>\n",
              "      <td>0.085749</td>\n",
              "      <td>0.059945</td>\n",
              "      <td>0.039934</td>\n",
              "      <td>0.152166</td>\n",
              "      <td>0.035081</td>\n",
              "      <td>-0.016389</td>\n",
              "      <td>-0.082142</td>\n",
              "      <td>0.032486</td>\n",
              "      <td>-0.035875</td>\n",
              "      <td>-0.030404</td>\n",
              "      <td>0.082638</td>\n",
              "      <td>0.063863</td>\n",
              "      <td>0.051424</td>\n",
              "      <td>-0.040698</td>\n",
              "      <td>0.038521</td>\n",
              "      <td>-0.072529</td>\n",
              "      <td>0.093640</td>\n",
              "      <td>-0.052840</td>\n",
              "      <td>0.129903</td>\n",
              "      <td>-0.121401</td>\n",
              "      <td>0.036551</td>\n",
              "      <td>-0.107973</td>\n",
              "    </tr>\n",
              "    <tr>\n",
              "      <th>1</th>\n",
              "      <td>Attenzione, ha un ferretto nasale in plastica ...</td>\n",
              "      <td>negative</td>\n",
              "      <td>attenzion ferrett nasal plastic permett far ad...</td>\n",
              "      <td>0.094878</td>\n",
              "      <td>0.098567</td>\n",
              "      <td>-0.015177</td>\n",
              "      <td>-0.113873</td>\n",
              "      <td>-0.014900</td>\n",
              "      <td>-0.042024</td>\n",
              "      <td>-0.110594</td>\n",
              "      <td>0.036761</td>\n",
              "      <td>-0.113465</td>\n",
              "      <td>0.037856</td>\n",
              "      <td>-0.015567</td>\n",
              "      <td>0.041447</td>\n",
              "      <td>-0.009850</td>\n",
              "      <td>-0.033402</td>\n",
              "      <td>-0.044292</td>\n",
              "      <td>0.027818</td>\n",
              "      <td>0.004819</td>\n",
              "      <td>-0.074853</td>\n",
              "      <td>-0.047549</td>\n",
              "      <td>-0.054687</td>\n",
              "      <td>-0.082358</td>\n",
              "      <td>-0.040038</td>\n",
              "      <td>-0.049641</td>\n",
              "      <td>-0.004761</td>\n",
              "      <td>0.073944</td>\n",
              "      <td>-0.040081</td>\n",
              "      <td>0.103654</td>\n",
              "      <td>0.050143</td>\n",
              "      <td>0.060021</td>\n",
              "      <td>0.021929</td>\n",
              "      <td>-0.046362</td>\n",
              "      <td>0.043437</td>\n",
              "      <td>-0.059318</td>\n",
              "      <td>0.016802</td>\n",
              "      <td>-0.113835</td>\n",
              "      <td>0.043084</td>\n",
              "      <td>0.072828</td>\n",
              "      <td>...</td>\n",
              "      <td>-0.045752</td>\n",
              "      <td>-0.186179</td>\n",
              "      <td>-0.097450</td>\n",
              "      <td>0.023124</td>\n",
              "      <td>-0.167923</td>\n",
              "      <td>0.258791</td>\n",
              "      <td>0.116994</td>\n",
              "      <td>0.016127</td>\n",
              "      <td>0.154664</td>\n",
              "      <td>0.118805</td>\n",
              "      <td>-0.012316</td>\n",
              "      <td>0.029420</td>\n",
              "      <td>-0.149629</td>\n",
              "      <td>-0.040519</td>\n",
              "      <td>-0.056441</td>\n",
              "      <td>0.033240</td>\n",
              "      <td>0.008441</td>\n",
              "      <td>-0.040644</td>\n",
              "      <td>0.006369</td>\n",
              "      <td>-0.112969</td>\n",
              "      <td>-0.139285</td>\n",
              "      <td>0.121846</td>\n",
              "      <td>-0.000591</td>\n",
              "      <td>-0.019790</td>\n",
              "      <td>-0.055193</td>\n",
              "      <td>-0.028753</td>\n",
              "      <td>0.037911</td>\n",
              "      <td>0.000123</td>\n",
              "      <td>0.085700</td>\n",
              "      <td>-0.084037</td>\n",
              "      <td>0.031960</td>\n",
              "      <td>-0.098343</td>\n",
              "      <td>-0.064629</td>\n",
              "      <td>0.007573</td>\n",
              "      <td>-0.162069</td>\n",
              "      <td>-0.043240</td>\n",
              "      <td>0.043447</td>\n",
              "      <td>0.035360</td>\n",
              "      <td>0.071306</td>\n",
              "      <td>0.136631</td>\n",
              "    </tr>\n",
              "    <tr>\n",
              "      <th>2</th>\n",
              "      <td>La confezione di cartone era già aperta, appen...</td>\n",
              "      <td>negative</td>\n",
              "      <td>la confezion carton già apert appen pres lat t...</td>\n",
              "      <td>0.162965</td>\n",
              "      <td>0.093678</td>\n",
              "      <td>-0.019433</td>\n",
              "      <td>-0.201709</td>\n",
              "      <td>-0.029950</td>\n",
              "      <td>-0.015995</td>\n",
              "      <td>-0.068550</td>\n",
              "      <td>0.006098</td>\n",
              "      <td>-0.271014</td>\n",
              "      <td>-0.032085</td>\n",
              "      <td>0.002295</td>\n",
              "      <td>-0.072463</td>\n",
              "      <td>-0.055738</td>\n",
              "      <td>-0.089973</td>\n",
              "      <td>-0.007607</td>\n",
              "      <td>-0.059908</td>\n",
              "      <td>-0.153262</td>\n",
              "      <td>-0.074981</td>\n",
              "      <td>-0.059365</td>\n",
              "      <td>-0.079638</td>\n",
              "      <td>0.093943</td>\n",
              "      <td>0.170338</td>\n",
              "      <td>-0.003356</td>\n",
              "      <td>-0.075741</td>\n",
              "      <td>0.091447</td>\n",
              "      <td>-0.056587</td>\n",
              "      <td>-0.184904</td>\n",
              "      <td>-0.051191</td>\n",
              "      <td>-0.134832</td>\n",
              "      <td>-0.112471</td>\n",
              "      <td>0.099303</td>\n",
              "      <td>-0.060854</td>\n",
              "      <td>-0.017967</td>\n",
              "      <td>0.085138</td>\n",
              "      <td>0.325028</td>\n",
              "      <td>-0.065360</td>\n",
              "      <td>-0.043028</td>\n",
              "      <td>...</td>\n",
              "      <td>-0.030771</td>\n",
              "      <td>-0.027790</td>\n",
              "      <td>-0.195338</td>\n",
              "      <td>0.106073</td>\n",
              "      <td>-0.018574</td>\n",
              "      <td>0.055463</td>\n",
              "      <td>0.020434</td>\n",
              "      <td>0.030524</td>\n",
              "      <td>-0.014335</td>\n",
              "      <td>0.130054</td>\n",
              "      <td>-0.066820</td>\n",
              "      <td>0.005874</td>\n",
              "      <td>0.053310</td>\n",
              "      <td>0.126492</td>\n",
              "      <td>-0.042620</td>\n",
              "      <td>0.000886</td>\n",
              "      <td>-0.098327</td>\n",
              "      <td>0.000633</td>\n",
              "      <td>0.049396</td>\n",
              "      <td>0.034331</td>\n",
              "      <td>0.007252</td>\n",
              "      <td>-0.010391</td>\n",
              "      <td>0.045655</td>\n",
              "      <td>-0.124986</td>\n",
              "      <td>-0.015846</td>\n",
              "      <td>-0.076893</td>\n",
              "      <td>-0.016921</td>\n",
              "      <td>0.009529</td>\n",
              "      <td>0.126540</td>\n",
              "      <td>0.000750</td>\n",
              "      <td>-0.007345</td>\n",
              "      <td>-0.001081</td>\n",
              "      <td>0.131356</td>\n",
              "      <td>0.069228</td>\n",
              "      <td>0.075674</td>\n",
              "      <td>-0.025459</td>\n",
              "      <td>-0.066862</td>\n",
              "      <td>-0.054959</td>\n",
              "      <td>-0.050656</td>\n",
              "      <td>0.003170</td>\n",
              "    </tr>\n",
              "    <tr>\n",
              "      <th>3</th>\n",
              "      <td>Mascherine vendute come \"Maschera Chirurgica 3...</td>\n",
              "      <td>negative</td>\n",
              "      <td>mascherin vend mascher chirurg 3p tip iir conf...</td>\n",
              "      <td>0.069384</td>\n",
              "      <td>0.071847</td>\n",
              "      <td>-0.002920</td>\n",
              "      <td>-0.199985</td>\n",
              "      <td>-0.016010</td>\n",
              "      <td>-0.026385</td>\n",
              "      <td>-0.122217</td>\n",
              "      <td>-0.029475</td>\n",
              "      <td>-0.237982</td>\n",
              "      <td>0.028748</td>\n",
              "      <td>0.062018</td>\n",
              "      <td>-0.069628</td>\n",
              "      <td>-0.001497</td>\n",
              "      <td>0.039680</td>\n",
              "      <td>-0.050194</td>\n",
              "      <td>0.017277</td>\n",
              "      <td>-0.036255</td>\n",
              "      <td>-0.016196</td>\n",
              "      <td>0.042481</td>\n",
              "      <td>-0.028338</td>\n",
              "      <td>0.028542</td>\n",
              "      <td>-0.047982</td>\n",
              "      <td>-0.016719</td>\n",
              "      <td>-0.020457</td>\n",
              "      <td>-0.042219</td>\n",
              "      <td>-0.084338</td>\n",
              "      <td>0.052299</td>\n",
              "      <td>0.051006</td>\n",
              "      <td>0.012315</td>\n",
              "      <td>0.020010</td>\n",
              "      <td>-0.003622</td>\n",
              "      <td>0.037340</td>\n",
              "      <td>-0.021128</td>\n",
              "      <td>0.008079</td>\n",
              "      <td>-0.053026</td>\n",
              "      <td>0.007035</td>\n",
              "      <td>-0.071305</td>\n",
              "      <td>...</td>\n",
              "      <td>-0.042116</td>\n",
              "      <td>-0.167922</td>\n",
              "      <td>0.068418</td>\n",
              "      <td>0.154579</td>\n",
              "      <td>-0.110248</td>\n",
              "      <td>-0.061171</td>\n",
              "      <td>0.025960</td>\n",
              "      <td>-0.086812</td>\n",
              "      <td>0.085001</td>\n",
              "      <td>-0.004617</td>\n",
              "      <td>-0.261233</td>\n",
              "      <td>-0.033170</td>\n",
              "      <td>0.167712</td>\n",
              "      <td>-0.189209</td>\n",
              "      <td>-0.034449</td>\n",
              "      <td>-0.132206</td>\n",
              "      <td>0.156278</td>\n",
              "      <td>0.078964</td>\n",
              "      <td>-0.125804</td>\n",
              "      <td>0.064246</td>\n",
              "      <td>0.061706</td>\n",
              "      <td>0.122385</td>\n",
              "      <td>0.007935</td>\n",
              "      <td>0.080827</td>\n",
              "      <td>0.009288</td>\n",
              "      <td>-0.053876</td>\n",
              "      <td>-0.020460</td>\n",
              "      <td>0.036393</td>\n",
              "      <td>-0.156515</td>\n",
              "      <td>-0.035794</td>\n",
              "      <td>0.192974</td>\n",
              "      <td>0.153911</td>\n",
              "      <td>-0.022938</td>\n",
              "      <td>0.001533</td>\n",
              "      <td>0.168073</td>\n",
              "      <td>0.150877</td>\n",
              "      <td>0.087173</td>\n",
              "      <td>0.131101</td>\n",
              "      <td>-0.004544</td>\n",
              "      <td>0.005090</td>\n",
              "    </tr>\n",
              "    <tr>\n",
              "      <th>4</th>\n",
              "      <td>ARRIVATO APERTO PESSIMO PRODOTTO</td>\n",
              "      <td>negative</td>\n",
              "      <td>arriv apert pessim prodott</td>\n",
              "      <td>0.107246</td>\n",
              "      <td>0.148116</td>\n",
              "      <td>0.052636</td>\n",
              "      <td>-0.205544</td>\n",
              "      <td>-0.121972</td>\n",
              "      <td>-0.073963</td>\n",
              "      <td>0.328354</td>\n",
              "      <td>0.032703</td>\n",
              "      <td>-0.102323</td>\n",
              "      <td>-0.020348</td>\n",
              "      <td>0.057620</td>\n",
              "      <td>-0.061631</td>\n",
              "      <td>-0.004341</td>\n",
              "      <td>-0.080439</td>\n",
              "      <td>0.098635</td>\n",
              "      <td>-0.023518</td>\n",
              "      <td>-0.170302</td>\n",
              "      <td>-0.016743</td>\n",
              "      <td>-0.069147</td>\n",
              "      <td>-0.056852</td>\n",
              "      <td>0.011211</td>\n",
              "      <td>0.033572</td>\n",
              "      <td>-0.045410</td>\n",
              "      <td>-0.055162</td>\n",
              "      <td>0.110135</td>\n",
              "      <td>0.107618</td>\n",
              "      <td>-0.178849</td>\n",
              "      <td>0.105928</td>\n",
              "      <td>-0.016136</td>\n",
              "      <td>-0.166211</td>\n",
              "      <td>0.199928</td>\n",
              "      <td>-0.125420</td>\n",
              "      <td>0.028636</td>\n",
              "      <td>0.222432</td>\n",
              "      <td>0.296981</td>\n",
              "      <td>-0.121846</td>\n",
              "      <td>-0.020989</td>\n",
              "      <td>...</td>\n",
              "      <td>-0.061411</td>\n",
              "      <td>-0.029138</td>\n",
              "      <td>0.094300</td>\n",
              "      <td>0.011169</td>\n",
              "      <td>0.005959</td>\n",
              "      <td>0.012627</td>\n",
              "      <td>0.004467</td>\n",
              "      <td>-0.090164</td>\n",
              "      <td>0.051587</td>\n",
              "      <td>0.001206</td>\n",
              "      <td>-0.007334</td>\n",
              "      <td>-0.053322</td>\n",
              "      <td>-0.017234</td>\n",
              "      <td>-0.068042</td>\n",
              "      <td>0.031678</td>\n",
              "      <td>-0.028992</td>\n",
              "      <td>-0.032327</td>\n",
              "      <td>-0.015043</td>\n",
              "      <td>-0.012374</td>\n",
              "      <td>0.056953</td>\n",
              "      <td>-0.039972</td>\n",
              "      <td>0.033625</td>\n",
              "      <td>0.025847</td>\n",
              "      <td>0.037693</td>\n",
              "      <td>-0.013094</td>\n",
              "      <td>0.041841</td>\n",
              "      <td>0.025610</td>\n",
              "      <td>0.017760</td>\n",
              "      <td>-0.036495</td>\n",
              "      <td>-0.015132</td>\n",
              "      <td>0.026638</td>\n",
              "      <td>-0.031134</td>\n",
              "      <td>0.000912</td>\n",
              "      <td>0.012419</td>\n",
              "      <td>0.017820</td>\n",
              "      <td>-0.000848</td>\n",
              "      <td>0.035733</td>\n",
              "      <td>0.021974</td>\n",
              "      <td>0.007850</td>\n",
              "      <td>0.033338</td>\n",
              "    </tr>\n",
              "  </tbody>\n",
              "</table>\n",
              "<p>5 rows × 103 columns</p>\n",
              "</div>"
            ],
            "text/plain": [
              "                                                Text  ...   feat100\n",
              "0  Ho acquistato questa confezione di mascherine ...  ... -0.107973\n",
              "1  Attenzione, ha un ferretto nasale in plastica ...  ...  0.136631\n",
              "2  La confezione di cartone era già aperta, appen...  ...  0.003170\n",
              "3  Mascherine vendute come \"Maschera Chirurgica 3...  ...  0.005090\n",
              "4                   ARRIVATO APERTO PESSIMO PRODOTTO  ...  0.033338\n",
              "\n",
              "[5 rows x 103 columns]"
            ]
          },
          "metadata": {
            "tags": []
          },
          "execution_count": 78
        }
      ]
    },
    {
      "cell_type": "code",
      "metadata": {
        "id": "dViJ4440TzKv",
        "colab_type": "code",
        "colab": {}
      },
      "source": [
        "from sklearn.model_selection import train_test_split"
      ],
      "execution_count": 80,
      "outputs": []
    },
    {
      "cell_type": "code",
      "metadata": {
        "id": "HFxIXHDeTzNn",
        "colab_type": "code",
        "colab": {}
      },
      "source": [
        "X_train2, X_test2, y_train2, y_test2 = train_test_split( TrainData.drop(['Text', 'Sentiment', 'Processed Text'], axis = 1),\n",
        "TrainData['Sentiment'], test_size=0.3, random_state=42)"
      ],
      "execution_count": 81,
      "outputs": []
    },
    {
      "cell_type": "code",
      "metadata": {
        "id": "U5H3mkLHTzPh",
        "colab_type": "code",
        "colab": {}
      },
      "source": [
        "from sklearn import preprocessing\n",
        "encoder = preprocessing.LabelEncoder()\n",
        "\n",
        "# encoding train labels \n",
        "encoder.fit(y_train2)\n",
        "Y_train2 = encoder.transform(y_train2)\n",
        "\n",
        "encoder = preprocessing.LabelEncoder()\n",
        "\n",
        "# encoding y_test2 labels \n",
        "encoder.fit(y_test2)\n",
        "Y_test2 = encoder.transform(y_test2)\n",
        "\n",
        "from sklearn.preprocessing import StandardScaler\n",
        "scaler = StandardScaler()\n",
        "X_train_scaled2 = scaler.fit_transform(X_train2)\n",
        "\n",
        "scaler = StandardScaler()\n",
        "X_test_scaled2 = scaler.fit_transform(X_test2)\n"
      ],
      "execution_count": 82,
      "outputs": []
    },
    {
      "cell_type": "code",
      "metadata": {
        "id": "8c71Hr4TdAlb",
        "colab_type": "code",
        "colab": {
          "base_uri": "https://localhost:8080/",
          "height": 306
        },
        "outputId": "2309f3a1-1dd6-47c7-9f87-31194f67e671"
      },
      "source": [
        "Y_test2"
      ],
      "execution_count": 83,
      "outputs": [
        {
          "output_type": "execute_result",
          "data": {
            "text/plain": [
              "array([0, 1, 2, 0, 2, 1, 0, 0, 2, 0, 2, 2, 2, 1, 0, 0, 1, 1, 0, 0, 2, 1,\n",
              "       1, 2, 2, 2, 1, 1, 0, 1, 2, 2, 2, 1, 2, 1, 2, 2, 0, 1, 2, 0, 1, 2,\n",
              "       2, 2, 2, 0, 2, 0, 1, 0, 0, 0, 0, 2, 0, 1, 1, 0, 2, 2, 2, 2, 2, 1,\n",
              "       2, 2, 1, 1, 0, 0, 1, 0, 2, 2, 0, 2, 1, 0, 0, 2, 1, 0, 1, 0, 1, 2,\n",
              "       2, 1, 1, 1, 2, 2, 2, 2, 1, 0, 2, 0, 1, 0, 1, 2, 1, 1, 1, 0, 0, 0,\n",
              "       2, 1, 0, 1, 0, 1, 2, 2, 1, 0, 1, 1, 1, 0, 0, 0, 2, 0, 1, 0, 2, 1,\n",
              "       0, 0, 0, 1, 0, 1, 1, 2, 0, 0, 2, 0, 1, 1, 1, 1, 1, 1, 0, 0, 1, 0,\n",
              "       1, 0, 2, 2, 0, 2, 2, 0, 2, 2, 2, 2, 2, 1, 1, 2, 1, 0, 0, 0, 0, 1,\n",
              "       0, 1, 2, 1, 2, 0, 2, 1, 2, 0, 1, 0, 0, 1, 1, 0, 0, 1, 1, 2, 2, 1,\n",
              "       2, 2, 1, 0, 2, 0, 1, 0, 1, 2, 1, 2, 0, 2, 0, 1, 0, 2, 0, 2, 1, 1,\n",
              "       2, 0, 0, 1, 2, 1, 1, 2, 0, 2, 2, 2, 2, 1, 2, 2, 0, 1, 1, 0, 2, 0,\n",
              "       2, 1, 0, 1, 2, 2, 2, 0, 1, 0, 2, 2, 0, 2, 0, 1, 0, 0, 1, 2, 0, 0,\n",
              "       0, 2, 1, 1, 1, 1, 1, 1, 2, 0, 2, 2, 0, 2, 2, 0, 0, 0, 0, 0, 1, 0,\n",
              "       0, 0, 1, 2, 2, 0, 0, 1, 2, 0, 1, 0, 1, 2, 1, 2, 0, 1, 2, 0, 1, 2,\n",
              "       2, 1, 0, 2, 1, 2, 2, 2, 1, 2, 0, 0, 0, 0, 1, 1, 2, 1, 0, 0, 0, 0,\n",
              "       0, 0, 0, 0, 0, 2, 0, 2, 2, 0, 1, 2, 1, 2, 2, 0, 1, 1, 0, 0, 2, 0,\n",
              "       0, 0, 1, 0, 2, 0, 0, 2])"
            ]
          },
          "metadata": {
            "tags": []
          },
          "execution_count": 83
        }
      ]
    },
    {
      "cell_type": "code",
      "metadata": {
        "id": "4qR7HyyNcXPY",
        "colab_type": "code",
        "colab": {}
      },
      "source": [
        "params_grid = [{'kernel': ['rbf', 'poly', 'sigmoid'], 'gamma': [5e-3, 3e-4, 1e-5],\n",
        "                     'C': [10, 20, 5, 200]} ]"
      ],
      "execution_count": 86,
      "outputs": []
    },
    {
      "cell_type": "code",
      "metadata": {
        "id": "o-tEzWEacRJt",
        "colab_type": "code",
        "colab": {
          "base_uri": "https://localhost:8080/",
          "height": 1000
        },
        "outputId": "6bdbf57b-64ec-483b-ecaf-516fbb4dfdc4"
      },
      "source": [
        "from sklearn.svm import SVC\n",
        "from sklearn.metrics import confusion_matrix,classification_report\n",
        "from sklearn.model_selection import cross_val_score, GridSearchCV, cross_validate\n",
        "\n",
        "svm_model = GridSearchCV(SVC(), params_grid, cv=5,  n_jobs = 12, verbose = 12)\n",
        "svm_model.fit(X_train_scaled2, y_train2)"
      ],
      "execution_count": 87,
      "outputs": [
        {
          "output_type": "stream",
          "text": [
            "Fitting 5 folds for each of 36 candidates, totalling 180 fits\n"
          ],
          "name": "stdout"
        },
        {
          "output_type": "stream",
          "text": [
            "[Parallel(n_jobs=12)]: Using backend LokyBackend with 12 concurrent workers.\n",
            "[Parallel(n_jobs=12)]: Done   1 tasks      | elapsed:    4.2s\n",
            "[Parallel(n_jobs=12)]: Done   2 tasks      | elapsed:    4.6s\n",
            "[Parallel(n_jobs=12)]: Done   3 tasks      | elapsed:    4.6s\n",
            "[Parallel(n_jobs=12)]: Done   4 tasks      | elapsed:    4.6s\n",
            "[Parallel(n_jobs=12)]: Done   5 tasks      | elapsed:    4.8s\n",
            "[Parallel(n_jobs=12)]: Done   6 tasks      | elapsed:    5.3s\n",
            "[Parallel(n_jobs=12)]: Done   7 tasks      | elapsed:    5.5s\n",
            "[Parallel(n_jobs=12)]: Done   8 tasks      | elapsed:    5.6s\n",
            "[Parallel(n_jobs=12)]: Done   9 tasks      | elapsed:    5.7s\n",
            "[Parallel(n_jobs=12)]: Done  10 tasks      | elapsed:    5.9s\n",
            "[Parallel(n_jobs=12)]: Done  11 tasks      | elapsed:    6.0s\n",
            "[Parallel(n_jobs=12)]: Done  12 tasks      | elapsed:    6.3s\n",
            "[Parallel(n_jobs=12)]: Done  13 tasks      | elapsed:    6.3s\n",
            "[Parallel(n_jobs=12)]: Done  14 tasks      | elapsed:    6.5s\n",
            "[Parallel(n_jobs=12)]: Done  15 tasks      | elapsed:    6.7s\n",
            "[Parallel(n_jobs=12)]: Done  16 tasks      | elapsed:    6.8s\n",
            "[Parallel(n_jobs=12)]: Done  17 tasks      | elapsed:    7.2s\n",
            "[Parallel(n_jobs=12)]: Done  18 tasks      | elapsed:    7.2s\n",
            "[Parallel(n_jobs=12)]: Done  19 tasks      | elapsed:    7.4s\n",
            "[Parallel(n_jobs=12)]: Done  20 tasks      | elapsed:    7.6s\n",
            "[Parallel(n_jobs=12)]: Done  21 tasks      | elapsed:    7.7s\n",
            "[Parallel(n_jobs=12)]: Done  22 tasks      | elapsed:    8.0s\n",
            "[Parallel(n_jobs=12)]: Done  23 tasks      | elapsed:    8.0s\n",
            "[Parallel(n_jobs=12)]: Done  24 tasks      | elapsed:    8.4s\n",
            "[Parallel(n_jobs=12)]: Done  25 tasks      | elapsed:    8.6s\n",
            "[Parallel(n_jobs=12)]: Done  26 tasks      | elapsed:    8.7s\n",
            "[Parallel(n_jobs=12)]: Done  27 tasks      | elapsed:    9.0s\n",
            "[Parallel(n_jobs=12)]: Done  28 tasks      | elapsed:    9.0s\n",
            "[Parallel(n_jobs=12)]: Done  29 tasks      | elapsed:    9.2s\n",
            "[Parallel(n_jobs=12)]: Done  30 tasks      | elapsed:    9.2s\n",
            "[Parallel(n_jobs=12)]: Done  31 tasks      | elapsed:    9.2s\n",
            "[Parallel(n_jobs=12)]: Done  32 tasks      | elapsed:    9.2s\n",
            "[Parallel(n_jobs=12)]: Done  33 tasks      | elapsed:    9.2s\n",
            "[Parallel(n_jobs=12)]: Done  34 tasks      | elapsed:    9.3s\n",
            "[Parallel(n_jobs=12)]: Done  35 tasks      | elapsed:    9.3s\n",
            "[Parallel(n_jobs=12)]: Done  36 tasks      | elapsed:    9.4s\n",
            "[Parallel(n_jobs=12)]: Done  37 tasks      | elapsed:    9.5s\n",
            "[Parallel(n_jobs=12)]: Done  38 tasks      | elapsed:    9.6s\n",
            "[Parallel(n_jobs=12)]: Done  39 tasks      | elapsed:    9.8s\n",
            "[Parallel(n_jobs=12)]: Done  40 tasks      | elapsed:    9.8s\n",
            "[Parallel(n_jobs=12)]: Done  41 tasks      | elapsed:   10.2s\n",
            "[Parallel(n_jobs=12)]: Done  42 tasks      | elapsed:   10.3s\n",
            "[Parallel(n_jobs=12)]: Done  43 tasks      | elapsed:   10.3s\n",
            "[Parallel(n_jobs=12)]: Done  44 tasks      | elapsed:   10.3s\n",
            "[Parallel(n_jobs=12)]: Done  45 tasks      | elapsed:   10.3s\n",
            "[Parallel(n_jobs=12)]: Done  46 tasks      | elapsed:   10.3s\n",
            "[Parallel(n_jobs=12)]: Done  47 tasks      | elapsed:   10.3s\n",
            "[Parallel(n_jobs=12)]: Done  48 tasks      | elapsed:   10.4s\n",
            "[Parallel(n_jobs=12)]: Done  49 tasks      | elapsed:   10.4s\n",
            "[Parallel(n_jobs=12)]: Done  50 tasks      | elapsed:   10.5s\n",
            "[Parallel(n_jobs=12)]: Done  51 tasks      | elapsed:   10.5s\n",
            "[Parallel(n_jobs=12)]: Done  52 tasks      | elapsed:   10.6s\n",
            "[Parallel(n_jobs=12)]: Done  53 tasks      | elapsed:   10.9s\n",
            "[Parallel(n_jobs=12)]: Done  54 tasks      | elapsed:   11.0s\n",
            "[Parallel(n_jobs=12)]: Done  55 tasks      | elapsed:   11.0s\n",
            "[Parallel(n_jobs=12)]: Done  56 tasks      | elapsed:   11.0s\n",
            "[Parallel(n_jobs=12)]: Done  57 tasks      | elapsed:   11.1s\n",
            "[Parallel(n_jobs=12)]: Done  58 tasks      | elapsed:   11.1s\n",
            "[Parallel(n_jobs=12)]: Done  59 tasks      | elapsed:   11.1s\n",
            "[Parallel(n_jobs=12)]: Done  60 tasks      | elapsed:   11.1s\n",
            "[Parallel(n_jobs=12)]: Done  61 tasks      | elapsed:   11.2s\n",
            "[Parallel(n_jobs=12)]: Done  62 tasks      | elapsed:   11.2s\n",
            "[Parallel(n_jobs=12)]: Done  63 tasks      | elapsed:   11.2s\n",
            "[Parallel(n_jobs=12)]: Done  64 tasks      | elapsed:   11.3s\n",
            "[Parallel(n_jobs=12)]: Done  65 tasks      | elapsed:   11.6s\n",
            "[Parallel(n_jobs=12)]: Done  66 tasks      | elapsed:   11.8s\n",
            "[Parallel(n_jobs=12)]: Done  67 tasks      | elapsed:   11.8s\n",
            "[Parallel(n_jobs=12)]: Done  68 tasks      | elapsed:   11.8s\n",
            "[Parallel(n_jobs=12)]: Done  69 tasks      | elapsed:   11.9s\n",
            "[Parallel(n_jobs=12)]: Done  70 tasks      | elapsed:   11.9s\n",
            "[Parallel(n_jobs=12)]: Done  71 tasks      | elapsed:   11.9s\n",
            "[Parallel(n_jobs=12)]: Done  72 tasks      | elapsed:   11.9s\n",
            "[Parallel(n_jobs=12)]: Done  73 tasks      | elapsed:   11.9s\n",
            "[Parallel(n_jobs=12)]: Done  74 tasks      | elapsed:   11.9s\n",
            "[Parallel(n_jobs=12)]: Done  75 tasks      | elapsed:   11.9s\n",
            "[Parallel(n_jobs=12)]: Done  76 tasks      | elapsed:   12.2s\n",
            "[Parallel(n_jobs=12)]: Done  77 tasks      | elapsed:   12.5s\n",
            "[Parallel(n_jobs=12)]: Done  78 tasks      | elapsed:   12.6s\n",
            "[Parallel(n_jobs=12)]: Done  79 tasks      | elapsed:   12.6s\n",
            "[Parallel(n_jobs=12)]: Done  80 tasks      | elapsed:   12.7s\n",
            "[Parallel(n_jobs=12)]: Done  81 tasks      | elapsed:   12.8s\n",
            "[Parallel(n_jobs=12)]: Done  82 tasks      | elapsed:   12.8s\n",
            "[Parallel(n_jobs=12)]: Done  83 tasks      | elapsed:   12.8s\n",
            "[Parallel(n_jobs=12)]: Done  84 tasks      | elapsed:   12.8s\n",
            "[Parallel(n_jobs=12)]: Done  85 tasks      | elapsed:   12.8s\n",
            "[Parallel(n_jobs=12)]: Done  86 tasks      | elapsed:   13.0s\n",
            "[Parallel(n_jobs=12)]: Done  87 tasks      | elapsed:   13.0s\n",
            "[Parallel(n_jobs=12)]: Done  88 tasks      | elapsed:   13.2s\n",
            "[Parallel(n_jobs=12)]: Done  89 tasks      | elapsed:   13.3s\n",
            "[Parallel(n_jobs=12)]: Done  90 tasks      | elapsed:   13.4s\n",
            "[Parallel(n_jobs=12)]: Done  91 tasks      | elapsed:   13.4s\n",
            "[Parallel(n_jobs=12)]: Done  92 tasks      | elapsed:   13.4s\n",
            "[Parallel(n_jobs=12)]: Done  93 tasks      | elapsed:   13.4s\n",
            "[Parallel(n_jobs=12)]: Done  94 tasks      | elapsed:   13.5s\n",
            "[Parallel(n_jobs=12)]: Done  95 tasks      | elapsed:   13.6s\n",
            "[Parallel(n_jobs=12)]: Done  96 tasks      | elapsed:   13.6s\n",
            "[Parallel(n_jobs=12)]: Done  97 tasks      | elapsed:   13.6s\n",
            "[Parallel(n_jobs=12)]: Done  98 tasks      | elapsed:   13.7s\n",
            "[Parallel(n_jobs=12)]: Done  99 tasks      | elapsed:   13.8s\n",
            "[Parallel(n_jobs=12)]: Done 100 tasks      | elapsed:   13.9s\n",
            "[Parallel(n_jobs=12)]: Done 101 tasks      | elapsed:   14.1s\n",
            "[Parallel(n_jobs=12)]: Done 102 tasks      | elapsed:   14.1s\n",
            "[Parallel(n_jobs=12)]: Done 103 tasks      | elapsed:   14.2s\n",
            "[Parallel(n_jobs=12)]: Done 104 tasks      | elapsed:   14.2s\n",
            "[Parallel(n_jobs=12)]: Done 105 tasks      | elapsed:   14.2s\n",
            "[Parallel(n_jobs=12)]: Done 106 tasks      | elapsed:   14.3s\n",
            "[Parallel(n_jobs=12)]: Done 107 tasks      | elapsed:   14.4s\n",
            "[Parallel(n_jobs=12)]: Done 108 tasks      | elapsed:   14.4s\n",
            "[Parallel(n_jobs=12)]: Done 109 tasks      | elapsed:   14.4s\n",
            "[Parallel(n_jobs=12)]: Done 110 tasks      | elapsed:   14.6s\n",
            "[Parallel(n_jobs=12)]: Done 111 tasks      | elapsed:   14.6s\n",
            "[Parallel(n_jobs=12)]: Done 112 tasks      | elapsed:   14.8s\n",
            "[Parallel(n_jobs=12)]: Done 113 tasks      | elapsed:   14.9s\n",
            "[Parallel(n_jobs=12)]: Done 114 tasks      | elapsed:   15.0s\n",
            "[Parallel(n_jobs=12)]: Done 115 tasks      | elapsed:   15.0s\n",
            "[Parallel(n_jobs=12)]: Done 116 tasks      | elapsed:   15.1s\n",
            "[Parallel(n_jobs=12)]: Done 117 tasks      | elapsed:   15.1s\n",
            "[Parallel(n_jobs=12)]: Done 118 tasks      | elapsed:   15.2s\n",
            "[Parallel(n_jobs=12)]: Done 119 tasks      | elapsed:   15.3s\n",
            "[Parallel(n_jobs=12)]: Done 120 tasks      | elapsed:   15.3s\n",
            "[Parallel(n_jobs=12)]: Done 121 tasks      | elapsed:   15.4s\n",
            "[Parallel(n_jobs=12)]: Done 122 tasks      | elapsed:   15.5s\n",
            "[Parallel(n_jobs=12)]: Done 123 tasks      | elapsed:   15.5s\n",
            "[Parallel(n_jobs=12)]: Done 124 tasks      | elapsed:   15.7s\n",
            "[Parallel(n_jobs=12)]: Done 125 tasks      | elapsed:   15.8s\n",
            "[Parallel(n_jobs=12)]: Done 126 tasks      | elapsed:   15.8s\n",
            "[Parallel(n_jobs=12)]: Done 127 tasks      | elapsed:   15.9s\n",
            "[Parallel(n_jobs=12)]: Done 128 tasks      | elapsed:   15.9s\n",
            "[Parallel(n_jobs=12)]: Done 129 tasks      | elapsed:   15.9s\n",
            "[Parallel(n_jobs=12)]: Done 130 tasks      | elapsed:   16.0s\n",
            "[Parallel(n_jobs=12)]: Done 131 tasks      | elapsed:   16.2s\n",
            "[Parallel(n_jobs=12)]: Done 132 tasks      | elapsed:   16.3s\n",
            "[Parallel(n_jobs=12)]: Done 133 tasks      | elapsed:   16.3s\n",
            "[Parallel(n_jobs=12)]: Done 134 tasks      | elapsed:   16.4s\n",
            "[Parallel(n_jobs=12)]: Done 135 tasks      | elapsed:   16.4s\n",
            "[Parallel(n_jobs=12)]: Done 136 tasks      | elapsed:   16.5s\n",
            "[Parallel(n_jobs=12)]: Done 137 tasks      | elapsed:   16.5s\n",
            "[Parallel(n_jobs=12)]: Done 138 tasks      | elapsed:   16.6s\n",
            "[Parallel(n_jobs=12)]: Done 139 tasks      | elapsed:   16.7s\n",
            "[Parallel(n_jobs=12)]: Done 140 tasks      | elapsed:   16.7s\n",
            "[Parallel(n_jobs=12)]: Done 141 tasks      | elapsed:   16.7s\n",
            "[Parallel(n_jobs=12)]: Done 142 tasks      | elapsed:   16.8s\n",
            "[Parallel(n_jobs=12)]: Done 143 tasks      | elapsed:   17.0s\n",
            "[Parallel(n_jobs=12)]: Done 144 tasks      | elapsed:   17.0s\n",
            "[Parallel(n_jobs=12)]: Done 145 tasks      | elapsed:   17.1s\n",
            "[Parallel(n_jobs=12)]: Done 146 tasks      | elapsed:   17.1s\n",
            "[Parallel(n_jobs=12)]: Done 147 tasks      | elapsed:   17.2s\n",
            "[Parallel(n_jobs=12)]: Done 148 tasks      | elapsed:   17.3s\n",
            "[Parallel(n_jobs=12)]: Done 149 tasks      | elapsed:   17.4s\n",
            "[Parallel(n_jobs=12)]: Done 150 tasks      | elapsed:   17.4s\n",
            "[Parallel(n_jobs=12)]: Done 151 tasks      | elapsed:   17.4s\n",
            "[Parallel(n_jobs=12)]: Done 152 tasks      | elapsed:   17.4s\n",
            "[Parallel(n_jobs=12)]: Done 153 tasks      | elapsed:   17.5s\n",
            "[Parallel(n_jobs=12)]: Done 154 tasks      | elapsed:   17.5s\n",
            "[Parallel(n_jobs=12)]: Done 155 tasks      | elapsed:   17.7s\n",
            "[Parallel(n_jobs=12)]: Done 156 tasks      | elapsed:   17.9s\n",
            "[Parallel(n_jobs=12)]: Done 157 tasks      | elapsed:   18.0s\n",
            "[Parallel(n_jobs=12)]: Done 173 out of 180 | elapsed:   18.9s remaining:    0.8s\n",
            "[Parallel(n_jobs=12)]: Done 180 out of 180 | elapsed:   19.0s finished\n"
          ],
          "name": "stderr"
        },
        {
          "output_type": "execute_result",
          "data": {
            "text/plain": [
              "GridSearchCV(cv=5, error_score=nan,\n",
              "             estimator=SVC(C=1.0, break_ties=False, cache_size=200,\n",
              "                           class_weight=None, coef0=0.0,\n",
              "                           decision_function_shape='ovr', degree=3,\n",
              "                           gamma='scale', kernel='rbf', max_iter=-1,\n",
              "                           probability=False, random_state=None, shrinking=True,\n",
              "                           tol=0.001, verbose=False),\n",
              "             iid='deprecated', n_jobs=12,\n",
              "             param_grid=[{'C': [10, 20, 5, 200],\n",
              "                          'gamma': [0.005, 0.0003, 1e-05],\n",
              "                          'kernel': ['rbf', 'poly', 'sigmoid']}],\n",
              "             pre_dispatch='2*n_jobs', refit=True, return_train_score=False,\n",
              "             scoring=None, verbose=12)"
            ]
          },
          "metadata": {
            "tags": []
          },
          "execution_count": 87
        }
      ]
    },
    {
      "cell_type": "code",
      "metadata": {
        "id": "fe8t_KmHggCq",
        "colab_type": "code",
        "colab": {
          "base_uri": "https://localhost:8080/",
          "height": 34
        },
        "outputId": "48a4dad6-cf19-43ac-b853-2dca220cd939"
      },
      "source": [
        "svm_model.best_params_"
      ],
      "execution_count": 88,
      "outputs": [
        {
          "output_type": "execute_result",
          "data": {
            "text/plain": [
              "{'C': 200, 'gamma': 0.0003, 'kernel': 'rbf'}"
            ]
          },
          "metadata": {
            "tags": []
          },
          "execution_count": 88
        }
      ]
    },
    {
      "cell_type": "code",
      "metadata": {
        "id": "XJZBQDNbchvb",
        "colab_type": "code",
        "colab": {
          "base_uri": "https://localhost:8080/",
          "height": 85
        },
        "outputId": "f7d0cddf-e1ac-4102-b7fd-1dabe5ca9680"
      },
      "source": [
        "final_model = svm_model.best_estimator_\n",
        "final_model"
      ],
      "execution_count": 89,
      "outputs": [
        {
          "output_type": "execute_result",
          "data": {
            "text/plain": [
              "SVC(C=200, break_ties=False, cache_size=200, class_weight=None, coef0=0.0,\n",
              "    decision_function_shape='ovr', degree=3, gamma=0.0003, kernel='rbf',\n",
              "    max_iter=-1, probability=False, random_state=None, shrinking=True,\n",
              "    tol=0.001, verbose=False)"
            ]
          },
          "metadata": {
            "tags": []
          },
          "execution_count": 89
        }
      ]
    },
    {
      "cell_type": "code",
      "metadata": {
        "id": "3Ldr0TUCcruA",
        "colab_type": "code",
        "colab": {
          "base_uri": "https://localhost:8080/",
          "height": 527
        },
        "outputId": "63486e9c-33a2-47e8-dbdb-3994dc97b5bc"
      },
      "source": [
        "Y_pred = final_model.predict(X_test_scaled2)\n",
        "#Y_pred_label = list(encoder.inverse_transform(Y_pred))\n",
        "#Y_pred is cathegorical\n",
        "\n",
        "print(confusion_matrix(y_test2,Y_pred))\n",
        "print(\"\\n\")\n",
        "print(classification_report(y_test2,Y_pred))\n",
        "\n",
        "print(\"Training set score for SVM: %f\" % final_model.score(X_train_scaled2 , y_train2))\n",
        "print(\"Testing  set score for SVM: %f\" % final_model.score(X_test_scaled2  , y_test2 ))\n",
        "\n",
        "svm_model.score"
      ],
      "execution_count": 90,
      "outputs": [
        {
          "output_type": "stream",
          "text": [
            "[[89 29 12]\n",
            " [17 89  4]\n",
            " [29 26 65]]\n",
            "\n",
            "\n",
            "              precision    recall  f1-score   support\n",
            "\n",
            "    negative       0.66      0.68      0.67       130\n",
            "     neutral       0.62      0.81      0.70       110\n",
            "    positive       0.80      0.54      0.65       120\n",
            "\n",
            "    accuracy                           0.68       360\n",
            "   macro avg       0.69      0.68      0.67       360\n",
            "weighted avg       0.69      0.68      0.67       360\n",
            "\n",
            "Training set score for SVM: 0.847255\n",
            "Testing  set score for SVM: 0.675000\n"
          ],
          "name": "stdout"
        },
        {
          "output_type": "execute_result",
          "data": {
            "text/plain": [
              "<bound method BaseSearchCV.score of GridSearchCV(cv=5, error_score=nan,\n",
              "             estimator=SVC(C=1.0, break_ties=False, cache_size=200,\n",
              "                           class_weight=None, coef0=0.0,\n",
              "                           decision_function_shape='ovr', degree=3,\n",
              "                           gamma='scale', kernel='rbf', max_iter=-1,\n",
              "                           probability=False, random_state=None, shrinking=True,\n",
              "                           tol=0.001, verbose=False),\n",
              "             iid='deprecated', n_jobs=12,\n",
              "             param_grid=[{'C': [10, 20, 5, 200],\n",
              "                          'gamma': [0.005, 0.0003, 1e-05],\n",
              "                          'kernel': ['rbf', 'poly', 'sigmoid']}],\n",
              "             pre_dispatch='2*n_jobs', refit=True, return_train_score=False,\n",
              "             scoring=None, verbose=12)>"
            ]
          },
          "metadata": {
            "tags": []
          },
          "execution_count": 90
        }
      ]
    },
    {
      "cell_type": "code",
      "metadata": {
        "id": "p70Yf0PVgfTr",
        "colab_type": "code",
        "colab": {}
      },
      "source": [
        "#how to save a model\n",
        "import joblib\n",
        "joblib.dump( final_model, '/content/drive/My Drive/Topic detection/SVM100.pkl')\n",
        "\n",
        "my_model_loaded = joblib.load('/content/drive/My Drive/Topic detection/SVM100.pkl')"
      ],
      "execution_count": 91,
      "outputs": []
    },
    {
      "cell_type": "code",
      "metadata": {
        "id": "4ht79Q2gvKrQ",
        "colab_type": "code",
        "colab": {}
      },
      "source": [
        ""
      ],
      "execution_count": null,
      "outputs": []
    },
    {
      "cell_type": "markdown",
      "metadata": {
        "id": "htYyVFehw9Xo",
        "colab_type": "text"
      },
      "source": [
        "# Df200"
      ]
    },
    {
      "cell_type": "code",
      "metadata": {
        "id": "V6nILIZHvKz5",
        "colab_type": "code",
        "colab": {
          "base_uri": "https://localhost:8080/",
          "height": 1000
        },
        "outputId": "078377dd-de30-49fc-d376-d5bd6945dd3f"
      },
      "source": [
        "import pandas as pd\n",
        "TrainData = pd.read_csv('/content/drive/My Drive/Topic detection/Df200.csv', index_col = 0 )\n",
        "TrainData.head()\n",
        "\n",
        "X_train2, X_test2, y_train2, y_test2 = train_test_split( TrainData.drop(['Text', 'Sentiment', 'Processed Text'], axis = 1),\n",
        "TrainData['Sentiment'], test_size=0.3, random_state=42)\n",
        "\n",
        "from sklearn import preprocessing\n",
        "encoder = preprocessing.LabelEncoder()\n",
        "\n",
        "# encoding train labels \n",
        "encoder.fit(y_train2)\n",
        "Y_train2 = encoder.transform(y_train2)\n",
        "\n",
        "encoder = preprocessing.LabelEncoder()\n",
        "\n",
        "# encoding y_test2 labels \n",
        "encoder.fit(y_test2)\n",
        "Y_test2 = encoder.transform(y_test2)\n",
        "\n",
        "from sklearn.preprocessing import StandardScaler\n",
        "scaler = StandardScaler()\n",
        "X_train_scaled2 = scaler.fit_transform(X_train2)\n",
        "\n",
        "scaler = StandardScaler()\n",
        "X_test_scaled2 = scaler.fit_transform(X_test2)\n",
        "\n",
        "params_grid = [{'kernel': ['rbf', 'poly', 'sigmoid'], 'gamma': [5e-3, 3e-4, 1e-5],\n",
        "                     'C': [10, 20, 5, 200]} ]\n",
        "\n",
        "\n",
        "from sklearn.svm import SVC\n",
        "from sklearn.metrics import confusion_matrix,classification_report\n",
        "from sklearn.model_selection import cross_val_score, GridSearchCV, cross_validate\n",
        "\n",
        "svm_model = GridSearchCV(SVC(), params_grid, cv=5,  n_jobs = 12, verbose = 12)\n",
        "svm_model.fit(X_train_scaled2, y_train2)\n",
        "\n",
        "\n",
        "final_model = svm_model.best_estimator_\n",
        "final_model\n",
        "\n",
        "Y_pred = final_model.predict(X_test_scaled2)\n",
        "#Y_pred_label = list(encoder.inverse_transform(Y_pred))\n",
        "#Y_pred is cathegorical\n",
        "\n",
        "print(confusion_matrix(y_test2,Y_pred))\n",
        "print(\"\\n\")\n",
        "print(classification_report(y_test2,Y_pred))\n",
        "\n",
        "print(\"Training set score for SVM: %f\" % final_model.score(X_train_scaled2 , y_train2))\n",
        "print(\"Testing  set score for SVM: %f\" % final_model.score(X_test_scaled2  , y_test2 ))\n",
        "\n",
        "print(svm_model.score)\n",
        "\n",
        "#how to save a model\n",
        "import joblib\n",
        "joblib.dump( final_model, '/content/drive/My Drive/Topic detection/SVM200.pkl')\n",
        "\n",
        "#my_model_loaded = joblib.load('/content/drive/My Drive/Topic detection/SVM200.pkl')"
      ],
      "execution_count": 92,
      "outputs": [
        {
          "output_type": "stream",
          "text": [
            "Fitting 5 folds for each of 36 candidates, totalling 180 fits\n"
          ],
          "name": "stdout"
        },
        {
          "output_type": "stream",
          "text": [
            "[Parallel(n_jobs=12)]: Using backend LokyBackend with 12 concurrent workers.\n",
            "[Parallel(n_jobs=12)]: Done   1 tasks      | elapsed:    0.9s\n",
            "[Parallel(n_jobs=12)]: Done   2 tasks      | elapsed:    1.1s\n",
            "[Parallel(n_jobs=12)]: Done   3 tasks      | elapsed:    1.1s\n",
            "[Parallel(n_jobs=12)]: Done   4 tasks      | elapsed:    1.1s\n",
            "[Parallel(n_jobs=12)]: Done   5 tasks      | elapsed:    1.1s\n",
            "[Parallel(n_jobs=12)]: Done   6 tasks      | elapsed:    1.1s\n",
            "[Parallel(n_jobs=12)]: Done   7 tasks      | elapsed:    1.1s\n",
            "[Parallel(n_jobs=12)]: Done   8 tasks      | elapsed:    1.2s\n",
            "[Parallel(n_jobs=12)]: Done   9 tasks      | elapsed:    1.9s\n",
            "[Parallel(n_jobs=12)]: Done  10 tasks      | elapsed:    2.0s\n",
            "[Parallel(n_jobs=12)]: Done  11 tasks      | elapsed:    2.1s\n",
            "[Parallel(n_jobs=12)]: Done  12 tasks      | elapsed:    2.3s\n",
            "[Parallel(n_jobs=12)]: Done  13 tasks      | elapsed:    2.3s\n",
            "[Parallel(n_jobs=12)]: Done  14 tasks      | elapsed:    2.3s\n",
            "[Parallel(n_jobs=12)]: Done  15 tasks      | elapsed:    2.3s\n",
            "[Parallel(n_jobs=12)]: Done  16 tasks      | elapsed:    2.4s\n",
            "[Parallel(n_jobs=12)]: Done  17 tasks      | elapsed:    2.4s\n",
            "[Parallel(n_jobs=12)]: Done  18 tasks      | elapsed:    2.4s\n",
            "[Parallel(n_jobs=12)]: Done  19 tasks      | elapsed:    2.4s\n",
            "[Parallel(n_jobs=12)]: Done  20 tasks      | elapsed:    2.5s\n",
            "[Parallel(n_jobs=12)]: Done  21 tasks      | elapsed:    3.5s\n",
            "[Parallel(n_jobs=12)]: Done  22 tasks      | elapsed:    3.6s\n",
            "[Parallel(n_jobs=12)]: Done  23 tasks      | elapsed:    3.6s\n",
            "[Parallel(n_jobs=12)]: Done  24 tasks      | elapsed:    3.7s\n",
            "[Parallel(n_jobs=12)]: Done  25 tasks      | elapsed:    3.8s\n",
            "[Parallel(n_jobs=12)]: Done  26 tasks      | elapsed:    3.8s\n",
            "[Parallel(n_jobs=12)]: Done  27 tasks      | elapsed:    3.8s\n",
            "[Parallel(n_jobs=12)]: Done  28 tasks      | elapsed:    3.8s\n",
            "[Parallel(n_jobs=12)]: Done  29 tasks      | elapsed:    3.8s\n",
            "[Parallel(n_jobs=12)]: Done  30 tasks      | elapsed:    3.8s\n",
            "[Parallel(n_jobs=12)]: Done  31 tasks      | elapsed:    4.1s\n",
            "[Parallel(n_jobs=12)]: Done  32 tasks      | elapsed:    4.1s\n",
            "[Parallel(n_jobs=12)]: Done  33 tasks      | elapsed:    5.1s\n",
            "[Parallel(n_jobs=12)]: Done  34 tasks      | elapsed:    5.2s\n",
            "[Parallel(n_jobs=12)]: Done  35 tasks      | elapsed:    5.2s\n",
            "[Parallel(n_jobs=12)]: Done  36 tasks      | elapsed:    5.3s\n",
            "[Parallel(n_jobs=12)]: Done  37 tasks      | elapsed:    5.3s\n",
            "[Parallel(n_jobs=12)]: Done  38 tasks      | elapsed:    5.3s\n",
            "[Parallel(n_jobs=12)]: Done  39 tasks      | elapsed:    5.3s\n",
            "[Parallel(n_jobs=12)]: Done  40 tasks      | elapsed:    5.3s\n",
            "[Parallel(n_jobs=12)]: Done  41 tasks      | elapsed:    5.5s\n",
            "[Parallel(n_jobs=12)]: Done  42 tasks      | elapsed:    5.5s\n",
            "[Parallel(n_jobs=12)]: Done  43 tasks      | elapsed:    5.7s\n",
            "[Parallel(n_jobs=12)]: Done  44 tasks      | elapsed:    5.8s\n",
            "[Parallel(n_jobs=12)]: Done  45 tasks      | elapsed:    6.7s\n",
            "[Parallel(n_jobs=12)]: Done  46 tasks      | elapsed:    6.7s\n",
            "[Parallel(n_jobs=12)]: Done  47 tasks      | elapsed:    6.7s\n",
            "[Parallel(n_jobs=12)]: Done  48 tasks      | elapsed:    6.7s\n",
            "[Parallel(n_jobs=12)]: Done  49 tasks      | elapsed:    6.7s\n",
            "[Parallel(n_jobs=12)]: Done  50 tasks      | elapsed:    6.7s\n",
            "[Parallel(n_jobs=12)]: Done  51 tasks      | elapsed:    6.8s\n",
            "[Parallel(n_jobs=12)]: Done  52 tasks      | elapsed:    6.8s\n",
            "[Parallel(n_jobs=12)]: Done  53 tasks      | elapsed:    6.9s\n",
            "[Parallel(n_jobs=12)]: Done  54 tasks      | elapsed:    6.9s\n",
            "[Parallel(n_jobs=12)]: Done  55 tasks      | elapsed:    7.0s\n",
            "[Parallel(n_jobs=12)]: Done  56 tasks      | elapsed:    7.2s\n",
            "[Parallel(n_jobs=12)]: Done  57 tasks      | elapsed:    7.7s\n",
            "[Parallel(n_jobs=12)]: Done  58 tasks      | elapsed:    7.8s\n",
            "[Parallel(n_jobs=12)]: Done  59 tasks      | elapsed:    7.8s\n",
            "[Parallel(n_jobs=12)]: Done  60 tasks      | elapsed:    7.8s\n",
            "[Parallel(n_jobs=12)]: Done  61 tasks      | elapsed:    7.9s\n",
            "[Parallel(n_jobs=12)]: Done  62 tasks      | elapsed:    7.9s\n",
            "[Parallel(n_jobs=12)]: Done  63 tasks      | elapsed:    8.0s\n",
            "[Parallel(n_jobs=12)]: Done  64 tasks      | elapsed:    8.0s\n",
            "[Parallel(n_jobs=12)]: Done  65 tasks      | elapsed:    8.1s\n",
            "[Parallel(n_jobs=12)]: Done  66 tasks      | elapsed:    8.5s\n",
            "[Parallel(n_jobs=12)]: Done  67 tasks      | elapsed:    8.6s\n",
            "[Parallel(n_jobs=12)]: Done  68 tasks      | elapsed:    8.8s\n",
            "[Parallel(n_jobs=12)]: Done  69 tasks      | elapsed:    9.1s\n",
            "[Parallel(n_jobs=12)]: Done  70 tasks      | elapsed:    9.1s\n",
            "[Parallel(n_jobs=12)]: Done  71 tasks      | elapsed:    9.1s\n",
            "[Parallel(n_jobs=12)]: Done  72 tasks      | elapsed:    9.2s\n",
            "[Parallel(n_jobs=12)]: Done  73 tasks      | elapsed:    9.3s\n",
            "[Parallel(n_jobs=12)]: Done  74 tasks      | elapsed:    9.4s\n",
            "[Parallel(n_jobs=12)]: Done  75 tasks      | elapsed:    9.4s\n",
            "[Parallel(n_jobs=12)]: Done  76 tasks      | elapsed:    9.7s\n",
            "[Parallel(n_jobs=12)]: Done  77 tasks      | elapsed:    9.8s\n",
            "[Parallel(n_jobs=12)]: Done  78 tasks      | elapsed:   10.2s\n",
            "[Parallel(n_jobs=12)]: Done  79 tasks      | elapsed:   10.3s\n",
            "[Parallel(n_jobs=12)]: Done  80 tasks      | elapsed:   10.5s\n",
            "[Parallel(n_jobs=12)]: Done  81 tasks      | elapsed:   10.6s\n",
            "[Parallel(n_jobs=12)]: Done  82 tasks      | elapsed:   10.6s\n",
            "[Parallel(n_jobs=12)]: Done  83 tasks      | elapsed:   10.6s\n",
            "[Parallel(n_jobs=12)]: Done  84 tasks      | elapsed:   10.7s\n",
            "[Parallel(n_jobs=12)]: Done  85 tasks      | elapsed:   10.8s\n",
            "[Parallel(n_jobs=12)]: Done  86 tasks      | elapsed:   11.0s\n",
            "[Parallel(n_jobs=12)]: Done  87 tasks      | elapsed:   11.1s\n",
            "[Parallel(n_jobs=12)]: Done  88 tasks      | elapsed:   11.3s\n",
            "[Parallel(n_jobs=12)]: Done  89 tasks      | elapsed:   11.4s\n",
            "[Parallel(n_jobs=12)]: Done  90 tasks      | elapsed:   11.8s\n",
            "[Parallel(n_jobs=12)]: Done  91 tasks      | elapsed:   11.9s\n",
            "[Parallel(n_jobs=12)]: Done  92 tasks      | elapsed:   11.9s\n",
            "[Parallel(n_jobs=12)]: Done  93 tasks      | elapsed:   12.1s\n",
            "[Parallel(n_jobs=12)]: Done  94 tasks      | elapsed:   12.1s\n",
            "[Parallel(n_jobs=12)]: Done  95 tasks      | elapsed:   12.1s\n",
            "[Parallel(n_jobs=12)]: Done  96 tasks      | elapsed:   12.2s\n",
            "[Parallel(n_jobs=12)]: Done  97 tasks      | elapsed:   12.3s\n",
            "[Parallel(n_jobs=12)]: Done  98 tasks      | elapsed:   12.4s\n",
            "[Parallel(n_jobs=12)]: Done  99 tasks      | elapsed:   12.6s\n",
            "[Parallel(n_jobs=12)]: Done 100 tasks      | elapsed:   12.7s\n",
            "[Parallel(n_jobs=12)]: Done 101 tasks      | elapsed:   12.8s\n",
            "[Parallel(n_jobs=12)]: Done 102 tasks      | elapsed:   12.9s\n",
            "[Parallel(n_jobs=12)]: Done 103 tasks      | elapsed:   13.0s\n",
            "[Parallel(n_jobs=12)]: Done 104 tasks      | elapsed:   13.1s\n",
            "[Parallel(n_jobs=12)]: Done 105 tasks      | elapsed:   13.3s\n",
            "[Parallel(n_jobs=12)]: Done 106 tasks      | elapsed:   13.6s\n",
            "[Parallel(n_jobs=12)]: Done 107 tasks      | elapsed:   13.7s\n",
            "[Parallel(n_jobs=12)]: Done 108 tasks      | elapsed:   13.7s\n",
            "[Parallel(n_jobs=12)]: Done 109 tasks      | elapsed:   13.7s\n",
            "[Parallel(n_jobs=12)]: Done 110 tasks      | elapsed:   13.9s\n",
            "[Parallel(n_jobs=12)]: Done 111 tasks      | elapsed:   14.2s\n",
            "[Parallel(n_jobs=12)]: Done 112 tasks      | elapsed:   14.3s\n",
            "[Parallel(n_jobs=12)]: Done 113 tasks      | elapsed:   14.4s\n",
            "[Parallel(n_jobs=12)]: Done 114 tasks      | elapsed:   14.5s\n",
            "[Parallel(n_jobs=12)]: Done 115 tasks      | elapsed:   14.6s\n",
            "[Parallel(n_jobs=12)]: Done 116 tasks      | elapsed:   14.6s\n",
            "[Parallel(n_jobs=12)]: Done 117 tasks      | elapsed:   14.9s\n",
            "[Parallel(n_jobs=12)]: Done 118 tasks      | elapsed:   15.2s\n",
            "[Parallel(n_jobs=12)]: Done 119 tasks      | elapsed:   15.3s\n",
            "[Parallel(n_jobs=12)]: Done 120 tasks      | elapsed:   15.3s\n",
            "[Parallel(n_jobs=12)]: Done 121 tasks      | elapsed:   15.3s\n",
            "[Parallel(n_jobs=12)]: Done 122 tasks      | elapsed:   15.5s\n",
            "[Parallel(n_jobs=12)]: Done 123 tasks      | elapsed:   15.8s\n",
            "[Parallel(n_jobs=12)]: Done 124 tasks      | elapsed:   15.9s\n",
            "[Parallel(n_jobs=12)]: Done 125 tasks      | elapsed:   16.0s\n",
            "[Parallel(n_jobs=12)]: Done 126 tasks      | elapsed:   16.1s\n",
            "[Parallel(n_jobs=12)]: Done 127 tasks      | elapsed:   16.1s\n",
            "[Parallel(n_jobs=12)]: Done 128 tasks      | elapsed:   16.1s\n",
            "[Parallel(n_jobs=12)]: Done 129 tasks      | elapsed:   16.4s\n",
            "[Parallel(n_jobs=12)]: Done 130 tasks      | elapsed:   16.7s\n",
            "[Parallel(n_jobs=12)]: Done 131 tasks      | elapsed:   16.9s\n",
            "[Parallel(n_jobs=12)]: Done 132 tasks      | elapsed:   16.9s\n",
            "[Parallel(n_jobs=12)]: Done 133 tasks      | elapsed:   17.0s\n",
            "[Parallel(n_jobs=12)]: Done 134 tasks      | elapsed:   17.2s\n",
            "[Parallel(n_jobs=12)]: Done 135 tasks      | elapsed:   17.3s\n",
            "[Parallel(n_jobs=12)]: Done 136 tasks      | elapsed:   17.4s\n",
            "[Parallel(n_jobs=12)]: Done 137 tasks      | elapsed:   17.5s\n",
            "[Parallel(n_jobs=12)]: Done 138 tasks      | elapsed:   17.6s\n",
            "[Parallel(n_jobs=12)]: Done 139 tasks      | elapsed:   17.6s\n",
            "[Parallel(n_jobs=12)]: Done 140 tasks      | elapsed:   17.6s\n",
            "[Parallel(n_jobs=12)]: Done 141 tasks      | elapsed:   18.0s\n",
            "[Parallel(n_jobs=12)]: Done 142 tasks      | elapsed:   18.2s\n",
            "[Parallel(n_jobs=12)]: Done 143 tasks      | elapsed:   18.3s\n",
            "[Parallel(n_jobs=12)]: Done 144 tasks      | elapsed:   18.4s\n",
            "[Parallel(n_jobs=12)]: Done 145 tasks      | elapsed:   18.4s\n",
            "[Parallel(n_jobs=12)]: Done 146 tasks      | elapsed:   18.4s\n",
            "[Parallel(n_jobs=12)]: Done 147 tasks      | elapsed:   18.4s\n",
            "[Parallel(n_jobs=12)]: Done 148 tasks      | elapsed:   18.5s\n",
            "[Parallel(n_jobs=12)]: Done 149 tasks      | elapsed:   18.5s\n",
            "[Parallel(n_jobs=12)]: Done 150 tasks      | elapsed:   18.7s\n",
            "[Parallel(n_jobs=12)]: Done 151 tasks      | elapsed:   18.8s\n",
            "[Parallel(n_jobs=12)]: Done 152 tasks      | elapsed:   18.9s\n",
            "[Parallel(n_jobs=12)]: Done 153 tasks      | elapsed:   19.1s\n",
            "[Parallel(n_jobs=12)]: Done 154 tasks      | elapsed:   19.5s\n",
            "[Parallel(n_jobs=12)]: Done 155 tasks      | elapsed:   19.5s\n",
            "[Parallel(n_jobs=12)]: Done 156 tasks      | elapsed:   19.7s\n",
            "[Parallel(n_jobs=12)]: Done 157 tasks      | elapsed:   20.0s\n",
            "[Parallel(n_jobs=12)]: Done 173 out of 180 | elapsed:   21.4s remaining:    0.9s\n",
            "[Parallel(n_jobs=12)]: Done 180 out of 180 | elapsed:   21.8s finished\n"
          ],
          "name": "stderr"
        },
        {
          "output_type": "stream",
          "text": [
            "[[91 33  6]\n",
            " [20 86  4]\n",
            " [27 26 67]]\n",
            "\n",
            "\n",
            "              precision    recall  f1-score   support\n",
            "\n",
            "    negative       0.66      0.70      0.68       130\n",
            "     neutral       0.59      0.78      0.67       110\n",
            "    positive       0.87      0.56      0.68       120\n",
            "\n",
            "    accuracy                           0.68       360\n",
            "   macro avg       0.71      0.68      0.68       360\n",
            "weighted avg       0.71      0.68      0.68       360\n",
            "\n",
            "Training set score for SVM: 0.821002\n",
            "Testing  set score for SVM: 0.677778\n",
            "<bound method BaseSearchCV.score of GridSearchCV(cv=5, error_score=nan,\n",
            "             estimator=SVC(C=1.0, break_ties=False, cache_size=200,\n",
            "                           class_weight=None, coef0=0.0,\n",
            "                           decision_function_shape='ovr', degree=3,\n",
            "                           gamma='scale', kernel='rbf', max_iter=-1,\n",
            "                           probability=False, random_state=None, shrinking=True,\n",
            "                           tol=0.001, verbose=False),\n",
            "             iid='deprecated', n_jobs=12,\n",
            "             param_grid=[{'C': [10, 20, 5, 200],\n",
            "                          'gamma': [0.005, 0.0003, 1e-05],\n",
            "                          'kernel': ['rbf', 'poly', 'sigmoid']}],\n",
            "             pre_dispatch='2*n_jobs', refit=True, return_train_score=False,\n",
            "             scoring=None, verbose=12)>\n"
          ],
          "name": "stdout"
        },
        {
          "output_type": "execute_result",
          "data": {
            "text/plain": [
              "['/content/drive/My Drive/Topic detection/SVM200.pkl']"
            ]
          },
          "metadata": {
            "tags": []
          },
          "execution_count": 92
        }
      ]
    },
    {
      "cell_type": "code",
      "metadata": {
        "id": "orAlj1FHxAgt",
        "colab_type": "code",
        "colab": {}
      },
      "source": [
        ""
      ],
      "execution_count": null,
      "outputs": []
    },
    {
      "cell_type": "markdown",
      "metadata": {
        "id": "gApRcitlxAva",
        "colab_type": "text"
      },
      "source": [
        "# Df300"
      ]
    },
    {
      "cell_type": "code",
      "metadata": {
        "id": "47D7iHpbv7Ll",
        "colab_type": "code",
        "colab": {
          "base_uri": "https://localhost:8080/",
          "height": 0
        },
        "outputId": "2d09e2cb-b44c-413e-8134-971f8781170b"
      },
      "source": [
        "import pandas as pd\n",
        "TrainData = pd.read_csv('/content/drive/My Drive/Topic detection/Df300.csv', index_col = 0 )\n",
        "TrainData.head()\n",
        "\n",
        "X_train2, X_test2, y_train2, y_test2 = train_test_split( TrainData.drop(['Text', 'Sentiment', 'Processed Text'], axis = 1),\n",
        "TrainData['Sentiment'], test_size=0.3, random_state=42)\n",
        "\n",
        "from sklearn import preprocessing\n",
        "encoder = preprocessing.LabelEncoder()\n",
        "\n",
        "# encoding train labels \n",
        "encoder.fit(y_train2)\n",
        "Y_train2 = encoder.transform(y_train2)\n",
        "\n",
        "encoder = preprocessing.LabelEncoder()\n",
        "\n",
        "# encoding y_test2 labels \n",
        "encoder.fit(y_test2)\n",
        "Y_test2 = encoder.transform(y_test2)\n",
        "\n",
        "from sklearn.preprocessing import StandardScaler\n",
        "scaler = StandardScaler()\n",
        "X_train_scaled2 = scaler.fit_transform(X_train2)\n",
        "\n",
        "scaler = StandardScaler()\n",
        "X_test_scaled2 = scaler.fit_transform(X_test2)\n",
        "\n",
        "params_grid = [{'kernel': ['rbf', 'poly', 'sigmoid'], 'gamma': [5e-3, 3e-4, 1e-5],\n",
        "                     'C': [10, 20, 5, 200]} ]\n",
        "\n",
        "\n",
        "from sklearn.svm import SVC\n",
        "from sklearn.metrics import confusion_matrix,classification_report\n",
        "from sklearn.model_selection import cross_val_score, GridSearchCV, cross_validate\n",
        "\n",
        "svm_model = GridSearchCV(SVC(), params_grid, cv=5,  n_jobs = 12, verbose = 12)\n",
        "svm_model.fit(X_train_scaled2, y_train2)\n",
        "\n",
        "\n",
        "final_model = svm_model.best_estimator_\n",
        "final_model\n",
        "\n",
        "Y_pred = final_model.predict(X_test_scaled2)\n",
        "#Y_pred_label = list(encoder.inverse_transform(Y_pred))\n",
        "#Y_pred is cathegorical\n",
        "\n",
        "print(confusion_matrix(y_test2,Y_pred))\n",
        "print(\"\\n\")\n",
        "print(classification_report(y_test2,Y_pred))\n",
        "\n",
        "print(\"Training set score for SVM: %f\" % final_model.score(X_train_scaled2 , y_train2))\n",
        "print(\"Testing  set score for SVM: %f\" % final_model.score(X_test_scaled2  , y_test2 ))\n",
        "\n",
        "print(svm_model.score)\n",
        "\n",
        "#how to save a model\n",
        "import joblib\n",
        "joblib.dump( final_model, '/content/drive/My Drive/Topic detection/SVM300.pkl')\n",
        "\n",
        "#my_model_loaded = joblib.load('/content/drive/My Drive/Topic detection/SVM200.pkl')"
      ],
      "execution_count": 93,
      "outputs": [
        {
          "output_type": "stream",
          "text": [
            "Fitting 5 folds for each of 36 candidates, totalling 180 fits\n"
          ],
          "name": "stdout"
        },
        {
          "output_type": "stream",
          "text": [
            "[Parallel(n_jobs=12)]: Using backend LokyBackend with 12 concurrent workers.\n",
            "[Parallel(n_jobs=12)]: Done   1 tasks      | elapsed:    0.8s\n",
            "[Parallel(n_jobs=12)]: Done   2 tasks      | elapsed:    0.8s\n",
            "[Parallel(n_jobs=12)]: Done   3 tasks      | elapsed:    0.9s\n",
            "[Parallel(n_jobs=12)]: Done   4 tasks      | elapsed:    1.0s\n",
            "[Parallel(n_jobs=12)]: Done   5 tasks      | elapsed:    1.2s\n",
            "[Parallel(n_jobs=12)]: Done   6 tasks      | elapsed:    2.4s\n",
            "[Parallel(n_jobs=12)]: Done   7 tasks      | elapsed:    2.4s\n",
            "[Parallel(n_jobs=12)]: Done   8 tasks      | elapsed:    2.4s\n",
            "[Parallel(n_jobs=12)]: Done   9 tasks      | elapsed:    2.4s\n",
            "[Parallel(n_jobs=12)]: Done  10 tasks      | elapsed:    2.4s\n",
            "[Parallel(n_jobs=12)]: Done  11 tasks      | elapsed:    2.7s\n",
            "[Parallel(n_jobs=12)]: Done  12 tasks      | elapsed:    2.8s\n",
            "[Parallel(n_jobs=12)]: Done  13 tasks      | elapsed:    2.8s\n",
            "[Parallel(n_jobs=12)]: Done  14 tasks      | elapsed:    2.9s\n",
            "[Parallel(n_jobs=12)]: Done  15 tasks      | elapsed:    2.9s\n",
            "[Parallel(n_jobs=12)]: Done  16 tasks      | elapsed:    3.1s\n",
            "[Parallel(n_jobs=12)]: Done  17 tasks      | elapsed:    3.1s\n",
            "[Parallel(n_jobs=12)]: Done  18 tasks      | elapsed:    4.3s\n",
            "[Parallel(n_jobs=12)]: Done  19 tasks      | elapsed:    4.4s\n",
            "[Parallel(n_jobs=12)]: Done  20 tasks      | elapsed:    4.4s\n",
            "[Parallel(n_jobs=12)]: Done  21 tasks      | elapsed:    4.7s\n",
            "[Parallel(n_jobs=12)]: Done  22 tasks      | elapsed:    4.7s\n",
            "[Parallel(n_jobs=12)]: Done  23 tasks      | elapsed:    5.0s\n",
            "[Parallel(n_jobs=12)]: Done  24 tasks      | elapsed:    5.0s\n",
            "[Parallel(n_jobs=12)]: Done  25 tasks      | elapsed:    5.0s\n",
            "[Parallel(n_jobs=12)]: Done  26 tasks      | elapsed:    5.1s\n",
            "[Parallel(n_jobs=12)]: Done  27 tasks      | elapsed:    5.1s\n",
            "[Parallel(n_jobs=12)]: Done  28 tasks      | elapsed:    5.1s\n",
            "[Parallel(n_jobs=12)]: Done  29 tasks      | elapsed:    5.2s\n",
            "[Parallel(n_jobs=12)]: Done  30 tasks      | elapsed:    6.3s\n",
            "[Parallel(n_jobs=12)]: Done  31 tasks      | elapsed:    6.7s\n",
            "[Parallel(n_jobs=12)]: Done  32 tasks      | elapsed:    6.7s\n",
            "[Parallel(n_jobs=12)]: Done  33 tasks      | elapsed:    7.1s\n",
            "[Parallel(n_jobs=12)]: Done  34 tasks      | elapsed:    7.1s\n",
            "[Parallel(n_jobs=12)]: Done  35 tasks      | elapsed:    7.1s\n",
            "[Parallel(n_jobs=12)]: Done  36 tasks      | elapsed:    7.2s\n",
            "[Parallel(n_jobs=12)]: Done  37 tasks      | elapsed:    7.3s\n",
            "[Parallel(n_jobs=12)]: Done  38 tasks      | elapsed:    7.3s\n",
            "[Parallel(n_jobs=12)]: Done  39 tasks      | elapsed:    7.3s\n",
            "[Parallel(n_jobs=12)]: Done  40 tasks      | elapsed:    7.3s\n",
            "[Parallel(n_jobs=12)]: Done  41 tasks      | elapsed:    7.5s\n",
            "[Parallel(n_jobs=12)]: Done  42 tasks      | elapsed:    8.7s\n",
            "[Parallel(n_jobs=12)]: Done  43 tasks      | elapsed:    9.0s\n",
            "[Parallel(n_jobs=12)]: Done  44 tasks      | elapsed:    9.0s\n",
            "[Parallel(n_jobs=12)]: Done  45 tasks      | elapsed:    9.2s\n",
            "[Parallel(n_jobs=12)]: Done  46 tasks      | elapsed:    9.2s\n",
            "[Parallel(n_jobs=12)]: Done  47 tasks      | elapsed:    9.3s\n",
            "[Parallel(n_jobs=12)]: Done  48 tasks      | elapsed:    9.3s\n",
            "[Parallel(n_jobs=12)]: Done  49 tasks      | elapsed:    9.3s\n",
            "[Parallel(n_jobs=12)]: Done  50 tasks      | elapsed:    9.4s\n",
            "[Parallel(n_jobs=12)]: Done  51 tasks      | elapsed:    9.4s\n",
            "[Parallel(n_jobs=12)]: Done  52 tasks      | elapsed:    9.4s\n",
            "[Parallel(n_jobs=12)]: Done  53 tasks      | elapsed:    9.5s\n",
            "[Parallel(n_jobs=12)]: Done  54 tasks      | elapsed:   10.5s\n",
            "[Parallel(n_jobs=12)]: Done  55 tasks      | elapsed:   10.7s\n",
            "[Parallel(n_jobs=12)]: Done  56 tasks      | elapsed:   10.7s\n",
            "[Parallel(n_jobs=12)]: Done  57 tasks      | elapsed:   10.7s\n",
            "[Parallel(n_jobs=12)]: Done  58 tasks      | elapsed:   10.7s\n",
            "[Parallel(n_jobs=12)]: Done  59 tasks      | elapsed:   10.8s\n",
            "[Parallel(n_jobs=12)]: Done  60 tasks      | elapsed:   11.1s\n",
            "[Parallel(n_jobs=12)]: Done  61 tasks      | elapsed:   11.3s\n",
            "[Parallel(n_jobs=12)]: Done  62 tasks      | elapsed:   11.3s\n",
            "[Parallel(n_jobs=12)]: Done  63 tasks      | elapsed:   11.4s\n",
            "[Parallel(n_jobs=12)]: Done  64 tasks      | elapsed:   11.4s\n",
            "[Parallel(n_jobs=12)]: Done  65 tasks      | elapsed:   11.4s\n",
            "[Parallel(n_jobs=12)]: Done  66 tasks      | elapsed:   12.6s\n",
            "[Parallel(n_jobs=12)]: Done  67 tasks      | elapsed:   12.8s\n",
            "[Parallel(n_jobs=12)]: Done  68 tasks      | elapsed:   12.8s\n",
            "[Parallel(n_jobs=12)]: Done  69 tasks      | elapsed:   12.9s\n",
            "[Parallel(n_jobs=12)]: Done  70 tasks      | elapsed:   12.9s\n",
            "[Parallel(n_jobs=12)]: Done  71 tasks      | elapsed:   13.0s\n",
            "[Parallel(n_jobs=12)]: Done  72 tasks      | elapsed:   13.0s\n",
            "[Parallel(n_jobs=12)]: Done  73 tasks      | elapsed:   13.0s\n",
            "[Parallel(n_jobs=12)]: Done  74 tasks      | elapsed:   13.0s\n",
            "[Parallel(n_jobs=12)]: Done  75 tasks      | elapsed:   13.2s\n",
            "[Parallel(n_jobs=12)]: Done  76 tasks      | elapsed:   13.8s\n",
            "[Parallel(n_jobs=12)]: Done  77 tasks      | elapsed:   13.8s\n",
            "[Parallel(n_jobs=12)]: Done  78 tasks      | elapsed:   15.0s\n",
            "[Parallel(n_jobs=12)]: Done  79 tasks      | elapsed:   15.1s\n",
            "[Parallel(n_jobs=12)]: Done  80 tasks      | elapsed:   15.1s\n",
            "[Parallel(n_jobs=12)]: Done  81 tasks      | elapsed:   15.1s\n",
            "[Parallel(n_jobs=12)]: Done  82 tasks      | elapsed:   15.1s\n",
            "[Parallel(n_jobs=12)]: Done  83 tasks      | elapsed:   15.1s\n",
            "[Parallel(n_jobs=12)]: Done  84 tasks      | elapsed:   15.2s\n",
            "[Parallel(n_jobs=12)]: Done  85 tasks      | elapsed:   15.2s\n",
            "[Parallel(n_jobs=12)]: Done  86 tasks      | elapsed:   15.4s\n",
            "[Parallel(n_jobs=12)]: Done  87 tasks      | elapsed:   15.5s\n",
            "[Parallel(n_jobs=12)]: Done  88 tasks      | elapsed:   16.1s\n",
            "[Parallel(n_jobs=12)]: Done  89 tasks      | elapsed:   16.1s\n",
            "[Parallel(n_jobs=12)]: Done  90 tasks      | elapsed:   17.0s\n",
            "[Parallel(n_jobs=12)]: Done  91 tasks      | elapsed:   17.2s\n",
            "[Parallel(n_jobs=12)]: Done  92 tasks      | elapsed:   17.2s\n",
            "[Parallel(n_jobs=12)]: Done  93 tasks      | elapsed:   17.2s\n",
            "[Parallel(n_jobs=12)]: Done  94 tasks      | elapsed:   17.2s\n",
            "[Parallel(n_jobs=12)]: Done  95 tasks      | elapsed:   17.3s\n",
            "[Parallel(n_jobs=12)]: Done  96 tasks      | elapsed:   17.3s\n",
            "[Parallel(n_jobs=12)]: Done  97 tasks      | elapsed:   17.3s\n",
            "[Parallel(n_jobs=12)]: Done  98 tasks      | elapsed:   17.4s\n",
            "[Parallel(n_jobs=12)]: Done  99 tasks      | elapsed:   17.6s\n",
            "[Parallel(n_jobs=12)]: Done 100 tasks      | elapsed:   17.7s\n",
            "[Parallel(n_jobs=12)]: Done 101 tasks      | elapsed:   18.1s\n",
            "[Parallel(n_jobs=12)]: Done 102 tasks      | elapsed:   18.5s\n",
            "[Parallel(n_jobs=12)]: Done 103 tasks      | elapsed:   18.7s\n",
            "[Parallel(n_jobs=12)]: Done 104 tasks      | elapsed:   18.7s\n",
            "[Parallel(n_jobs=12)]: Done 105 tasks      | elapsed:   18.8s\n",
            "[Parallel(n_jobs=12)]: Done 106 tasks      | elapsed:   19.3s\n",
            "[Parallel(n_jobs=12)]: Done 107 tasks      | elapsed:   19.3s\n",
            "[Parallel(n_jobs=12)]: Done 108 tasks      | elapsed:   19.3s\n",
            "[Parallel(n_jobs=12)]: Done 109 tasks      | elapsed:   19.4s\n",
            "[Parallel(n_jobs=12)]: Done 110 tasks      | elapsed:   19.5s\n",
            "[Parallel(n_jobs=12)]: Done 111 tasks      | elapsed:   19.8s\n",
            "[Parallel(n_jobs=12)]: Done 112 tasks      | elapsed:   20.0s\n",
            "[Parallel(n_jobs=12)]: Done 113 tasks      | elapsed:   20.4s\n",
            "[Parallel(n_jobs=12)]: Done 114 tasks      | elapsed:   20.8s\n",
            "[Parallel(n_jobs=12)]: Done 115 tasks      | elapsed:   21.0s\n",
            "[Parallel(n_jobs=12)]: Done 116 tasks      | elapsed:   21.0s\n",
            "[Parallel(n_jobs=12)]: Done 117 tasks      | elapsed:   21.1s\n",
            "[Parallel(n_jobs=12)]: Done 118 tasks      | elapsed:   21.6s\n",
            "[Parallel(n_jobs=12)]: Done 119 tasks      | elapsed:   21.6s\n",
            "[Parallel(n_jobs=12)]: Done 120 tasks      | elapsed:   21.6s\n",
            "[Parallel(n_jobs=12)]: Done 121 tasks      | elapsed:   21.7s\n",
            "[Parallel(n_jobs=12)]: Done 122 tasks      | elapsed:   21.9s\n",
            "[Parallel(n_jobs=12)]: Done 123 tasks      | elapsed:   22.2s\n",
            "[Parallel(n_jobs=12)]: Done 124 tasks      | elapsed:   22.4s\n",
            "[Parallel(n_jobs=12)]: Done 125 tasks      | elapsed:   22.8s\n",
            "[Parallel(n_jobs=12)]: Done 126 tasks      | elapsed:   23.0s\n",
            "[Parallel(n_jobs=12)]: Done 127 tasks      | elapsed:   23.1s\n",
            "[Parallel(n_jobs=12)]: Done 128 tasks      | elapsed:   23.2s\n",
            "[Parallel(n_jobs=12)]: Done 129 tasks      | elapsed:   23.3s\n",
            "[Parallel(n_jobs=12)]: Done 130 tasks      | elapsed:   23.7s\n",
            "[Parallel(n_jobs=12)]: Done 131 tasks      | elapsed:   23.9s\n",
            "[Parallel(n_jobs=12)]: Done 132 tasks      | elapsed:   24.0s\n",
            "[Parallel(n_jobs=12)]: Done 133 tasks      | elapsed:   24.2s\n",
            "[Parallel(n_jobs=12)]: Done 134 tasks      | elapsed:   24.2s\n",
            "[Parallel(n_jobs=12)]: Done 135 tasks      | elapsed:   24.5s\n",
            "[Parallel(n_jobs=12)]: Done 136 tasks      | elapsed:   24.6s\n",
            "[Parallel(n_jobs=12)]: Done 137 tasks      | elapsed:   25.0s\n",
            "[Parallel(n_jobs=12)]: Done 138 tasks      | elapsed:   25.2s\n",
            "[Parallel(n_jobs=12)]: Done 139 tasks      | elapsed:   25.3s\n",
            "[Parallel(n_jobs=12)]: Done 140 tasks      | elapsed:   25.3s\n",
            "[Parallel(n_jobs=12)]: Done 141 tasks      | elapsed:   25.5s\n",
            "[Parallel(n_jobs=12)]: Done 142 tasks      | elapsed:   25.6s\n",
            "[Parallel(n_jobs=12)]: Done 143 tasks      | elapsed:   25.9s\n",
            "[Parallel(n_jobs=12)]: Done 144 tasks      | elapsed:   26.1s\n",
            "[Parallel(n_jobs=12)]: Done 145 tasks      | elapsed:   26.1s\n",
            "[Parallel(n_jobs=12)]: Done 146 tasks      | elapsed:   26.2s\n",
            "[Parallel(n_jobs=12)]: Done 147 tasks      | elapsed:   26.3s\n",
            "[Parallel(n_jobs=12)]: Done 148 tasks      | elapsed:   26.3s\n",
            "[Parallel(n_jobs=12)]: Done 149 tasks      | elapsed:   26.3s\n",
            "[Parallel(n_jobs=12)]: Done 150 tasks      | elapsed:   26.5s\n",
            "[Parallel(n_jobs=12)]: Done 151 tasks      | elapsed:   27.4s\n",
            "[Parallel(n_jobs=12)]: Done 152 tasks      | elapsed:   27.5s\n",
            "[Parallel(n_jobs=12)]: Done 153 tasks      | elapsed:   27.6s\n",
            "[Parallel(n_jobs=12)]: Done 154 tasks      | elapsed:   27.7s\n",
            "[Parallel(n_jobs=12)]: Done 155 tasks      | elapsed:   27.9s\n",
            "[Parallel(n_jobs=12)]: Done 156 tasks      | elapsed:   28.3s\n",
            "[Parallel(n_jobs=12)]: Done 157 tasks      | elapsed:   28.4s\n",
            "[Parallel(n_jobs=12)]: Done 173 out of 180 | elapsed:   30.6s remaining:    1.2s\n",
            "[Parallel(n_jobs=12)]: Done 180 out of 180 | elapsed:   31.1s finished\n"
          ],
          "name": "stderr"
        },
        {
          "output_type": "stream",
          "text": [
            "[[96 25  9]\n",
            " [24 77  9]\n",
            " [30 23 67]]\n",
            "\n",
            "\n",
            "              precision    recall  f1-score   support\n",
            "\n",
            "    negative       0.64      0.74      0.69       130\n",
            "     neutral       0.62      0.70      0.66       110\n",
            "    positive       0.79      0.56      0.65       120\n",
            "\n",
            "    accuracy                           0.67       360\n",
            "   macro avg       0.68      0.67      0.66       360\n",
            "weighted avg       0.68      0.67      0.67       360\n",
            "\n",
            "Training set score for SVM: 0.908115\n",
            "Testing  set score for SVM: 0.666667\n",
            "<bound method BaseSearchCV.score of GridSearchCV(cv=5, error_score=nan,\n",
            "             estimator=SVC(C=1.0, break_ties=False, cache_size=200,\n",
            "                           class_weight=None, coef0=0.0,\n",
            "                           decision_function_shape='ovr', degree=3,\n",
            "                           gamma='scale', kernel='rbf', max_iter=-1,\n",
            "                           probability=False, random_state=None, shrinking=True,\n",
            "                           tol=0.001, verbose=False),\n",
            "             iid='deprecated', n_jobs=12,\n",
            "             param_grid=[{'C': [10, 20, 5, 200],\n",
            "                          'gamma': [0.005, 0.0003, 1e-05],\n",
            "                          'kernel': ['rbf', 'poly', 'sigmoid']}],\n",
            "             pre_dispatch='2*n_jobs', refit=True, return_train_score=False,\n",
            "             scoring=None, verbose=12)>\n"
          ],
          "name": "stdout"
        },
        {
          "output_type": "execute_result",
          "data": {
            "text/plain": [
              "['/content/drive/My Drive/Topic detection/SVM300.pkl']"
            ]
          },
          "metadata": {
            "tags": []
          },
          "execution_count": 93
        }
      ]
    },
    {
      "cell_type": "code",
      "metadata": {
        "id": "PxXfbQ2Uc2ck",
        "colab_type": "code",
        "colab": {
          "base_uri": "https://localhost:8080/",
          "height": 90
        },
        "outputId": "3b8d6f70-5e06-4f14-c07d-c9e7c5268ab3"
      },
      "source": [
        "my_model_loaded"
      ],
      "execution_count": null,
      "outputs": [
        {
          "output_type": "execute_result",
          "data": {
            "text/plain": [
              "SVC(C=10, break_ties=False, cache_size=200, class_weight=None, coef0=0.0,\n",
              "    decision_function_shape='ovr', degree=3, gamma=0.0003, kernel='sigmoid',\n",
              "    max_iter=-1, probability=False, random_state=None, shrinking=True,\n",
              "    tol=0.001, verbose=False)"
            ]
          },
          "metadata": {
            "tags": []
          },
          "execution_count": 84
        }
      ]
    },
    {
      "cell_type": "markdown",
      "metadata": {
        "id": "U9zmxXgQxQcE",
        "colab_type": "text"
      },
      "source": [
        "# Bayesian Models (bad af F)\n"
      ]
    },
    {
      "cell_type": "code",
      "metadata": {
        "id": "01fu4Exvi3un",
        "colab_type": "code",
        "colab": {}
      },
      "source": [
        "from sklearn.naive_bayes import GaussianNB\n",
        "TrainData = pd.read_csv('/content/drive/My Drive/Topic detection/Df200.csv', index_col = 0 )\n",
        "TrainData.head()\n",
        "\n",
        "X_train2, X_test2, y_train2, y_test2 = train_test_split( TrainData.drop(['Text', 'Sentiment', 'Processed Text'], axis = 1),\n",
        "TrainData['Sentiment'], test_size=0.3, random_state=42)\n",
        "\n",
        "from sklearn import preprocessing\n",
        "encoder = preprocessing.LabelEncoder()\n",
        "\n",
        "# encoding train labels \n",
        "encoder.fit(y_train2)\n",
        "Y_train2 = encoder.transform(y_train2)\n",
        "\n",
        "encoder = preprocessing.LabelEncoder()\n",
        "\n",
        "# encoding y_test2 labels \n",
        "encoder.fit(y_test2)\n",
        "Y_test2 = encoder.transform(y_test2)\n",
        "\n",
        "from sklearn.preprocessing import StandardScaler\n",
        "scaler = StandardScaler()\n",
        "X_train_scaled2 = scaler.fit_transform(X_train2)\n",
        "\n",
        "scaler = StandardScaler()\n",
        "X_test_scaled2 = scaler.fit_transform(X_test2)\n",
        "\n",
        "\n"
      ],
      "execution_count": 94,
      "outputs": []
    },
    {
      "cell_type": "code",
      "metadata": {
        "id": "M2LFoatwmexg",
        "colab_type": "code",
        "colab": {
          "base_uri": "https://localhost:8080/",
          "height": 323
        },
        "outputId": "3e6eee0f-4195-48dc-c489-4a7d11b0f4b7"
      },
      "source": [
        "# Gaussian assumption\n",
        "\n",
        "gnb = GaussianNB()\n",
        "Y_pred = gnb.fit(X_train2, y_train2).predict(X_test2)\n",
        "\n",
        "print(confusion_matrix(y_test2,Y_pred))\n",
        "print(\"\\n\")\n",
        "print(classification_report(y_test2,Y_pred))\n",
        "\n",
        "print(\"Training set score for SVM: %f\" % gnb.score(X_train_scaled2 , y_train2))\n",
        "print(\"Testing  set score for SVM: %f\" % gnb.score(X_test_scaled2  , y_test2 ))\n",
        "\n",
        "gnb.score"
      ],
      "execution_count": 95,
      "outputs": [
        {
          "output_type": "stream",
          "text": [
            "[[59 51 20]\n",
            " [21 89  0]\n",
            " [33 41 46]]\n",
            "\n",
            "\n",
            "              precision    recall  f1-score   support\n",
            "\n",
            "    negative       0.52      0.45      0.49       130\n",
            "     neutral       0.49      0.81      0.61       110\n",
            "    positive       0.70      0.38      0.49       120\n",
            "\n",
            "    accuracy                           0.54       360\n",
            "   macro avg       0.57      0.55      0.53       360\n",
            "weighted avg       0.57      0.54      0.53       360\n",
            "\n",
            "Training set score for SVM: 0.429594\n",
            "Testing  set score for SVM: 0.425000\n"
          ],
          "name": "stdout"
        },
        {
          "output_type": "execute_result",
          "data": {
            "text/plain": [
              "<bound method ClassifierMixin.score of GaussianNB(priors=None, var_smoothing=1e-09)>"
            ]
          },
          "metadata": {
            "tags": []
          },
          "execution_count": 95
        }
      ]
    },
    {
      "cell_type": "code",
      "metadata": {
        "id": "IyB5zK7Jms_r",
        "colab_type": "code",
        "colab": {
          "base_uri": "https://localhost:8080/",
          "height": 323
        },
        "outputId": "079262b5-a33a-45fb-988d-07b59bf8d461"
      },
      "source": [
        "# bernoulli\n",
        "from sklearn.naive_bayes import BernoulliNB\n",
        "#>>> clf = BernoulliNB()\n",
        "gnb =   BernoulliNB()\n",
        "Y_pred = gnb.fit(X_train2, y_train2).predict(X_test2)\n",
        "\n",
        "print(confusion_matrix(y_test2,Y_pred))\n",
        "print(\"\\n\")\n",
        "print(classification_report(y_test2,Y_pred))\n",
        "\n",
        "print(\"Training set score for BNB: %f\" % gnb.score(X_train_scaled2 , y_train2))\n",
        "print(\"Testing  set score for BNB: %f\" % gnb.score(X_test_scaled2  , y_test2 ))\n",
        "\n",
        "gnb.score"
      ],
      "execution_count": 96,
      "outputs": [
        {
          "output_type": "stream",
          "text": [
            "[[83 23 24]\n",
            " [31 70  9]\n",
            " [41 19 60]]\n",
            "\n",
            "\n",
            "              precision    recall  f1-score   support\n",
            "\n",
            "    negative       0.54      0.64      0.58       130\n",
            "     neutral       0.62      0.64      0.63       110\n",
            "    positive       0.65      0.50      0.56       120\n",
            "\n",
            "    accuracy                           0.59       360\n",
            "   macro avg       0.60      0.59      0.59       360\n",
            "weighted avg       0.60      0.59      0.59       360\n",
            "\n",
            "Training set score for BNB: 0.710024\n",
            "Testing  set score for BNB: 0.583333\n"
          ],
          "name": "stdout"
        },
        {
          "output_type": "execute_result",
          "data": {
            "text/plain": [
              "<bound method ClassifierMixin.score of BernoulliNB(alpha=1.0, binarize=0.0, class_prior=None, fit_prior=True)>"
            ]
          },
          "metadata": {
            "tags": []
          },
          "execution_count": 96
        }
      ]
    },
    {
      "cell_type": "markdown",
      "metadata": {
        "id": "F9fBDuO9x8Su",
        "colab_type": "text"
      },
      "source": [
        "# Multinomial (with count vectorizer!)"
      ]
    },
    {
      "cell_type": "code",
      "metadata": {
        "id": "BzARjfvOy06u",
        "colab_type": "code",
        "colab": {}
      },
      "source": [
        "from sklearn.feature_extraction.text import CountVectorizer\n",
        "fr\n",
        "TrainData = pd.read_csv('/content/drive/My Drive/Topic detection/ProcessedTrainData3DB.csv', index_col = 0).dropna()"
      ],
      "execution_count": 105,
      "outputs": []
    },
    {
      "cell_type": "code",
      "metadata": {
        "id": "Vv4b25X-TJoK",
        "colab_type": "code",
        "colab": {}
      },
      "source": [
        "from sklearn.naive_bayes import MultinomialNB"
      ],
      "execution_count": 108,
      "outputs": []
    },
    {
      "cell_type": "code",
      "metadata": {
        "id": "qsoRZZAiyrHq",
        "colab_type": "code",
        "colab": {}
      },
      "source": [
        "def multinomial(TrainData = TrainData):\n",
        "\n",
        "    TrainList = TrainData['Processed Text'].tolist()\n",
        "    vectorizer = CountVectorizer()\n",
        "    X = vectorizer.fit_transform(TrainList)\n",
        "    a = X.toarray()\n",
        "    X = vectorizer.fit_transform(TrainList)\n",
        "    for i in range(a.shape[0]):\n",
        "        for j in range(a.shape[1]):\n",
        "            val = 'feat' + str(j)\n",
        "            TrainData[val] = a[i][j]\n",
        "\n",
        "    X_train2, X_test2, y_train2, y_test2 = train_test_split( TrainData.drop(['Text', 'Sentiment', 'Processed Text'], axis = 1),\n",
        "    TrainData['Sentiment'], test_size=0.3, random_state=42)\n",
        "\n",
        "    from sklearn import preprocessing\n",
        "    encoder = preprocessing.LabelEncoder()\n",
        "\n",
        "    # encoding train labels \n",
        "    encoder.fit(y_train2)\n",
        "    Y_train2 = encoder.transform(y_train2)\n",
        "\n",
        "    encoder = preprocessing.LabelEncoder()\n",
        "\n",
        "    # encoding y_test2 labels \n",
        "    encoder.fit(y_test2)\n",
        "    Y_test2 = encoder.transform(y_test2)\n",
        "\n",
        "    from sklearn.preprocessing import StandardScaler\n",
        "    scaler = StandardScaler()\n",
        "    X_train_scaled2 = scaler.fit_transform(X_train2)\n",
        "\n",
        "    scaler = StandardScaler()\n",
        "    X_test_scaled2 = scaler.fit_transform(X_test2)\n",
        "\n",
        "\n",
        "    clf = MultinomialNB()\n",
        "    Y_pred = clf.fit(X_train2, y_train2).predict(X_test2)\n",
        "    Y_pred = gnb.fit(X_train2, y_train2).predict(X_test2)\n",
        "    print(confusion_matrix(y_test2,Y_pred))\n",
        "    print(\"\\n\")\n",
        "    print(classification_report(y_test2,Y_pred))\n",
        "\n",
        "    print(\"Training set score for BNB: %f\" % gnb.score(X_train_scaled2 , y_train2))\n",
        "    print(\"Testing  set score for BNB: %f\" % gnb.score(X_test_scaled2  , y_test2 ))\n",
        "    return(accuracy_score(Y_pred ,y_test2))\n",
        "from sklearn.feature_extraction.text import CountVectorizer"
      ],
      "execution_count": 109,
      "outputs": []
    },
    {
      "cell_type": "code",
      "metadata": {
        "id": "Tht8fO1fyrKr",
        "colab_type": "code",
        "colab": {
          "base_uri": "https://localhost:8080/",
          "height": 377
        },
        "outputId": "7303fec7-1b4c-48ff-e397-dbc715bc8bad"
      },
      "source": [
        "multinomial()"
      ],
      "execution_count": 110,
      "outputs": [
        {
          "output_type": "stream",
          "text": [
            "[[130   0   0]\n",
            " [110   0   0]\n",
            " [120   0   0]]\n",
            "\n",
            "\n",
            "              precision    recall  f1-score   support\n",
            "\n",
            "    negative       0.36      1.00      0.53       130\n",
            "     neutral       0.00      0.00      0.00       110\n",
            "    positive       0.00      0.00      0.00       120\n",
            "\n",
            "    accuracy                           0.36       360\n",
            "   macro avg       0.12      0.33      0.18       360\n",
            "weighted avg       0.13      0.36      0.19       360\n",
            "\n"
          ],
          "name": "stdout"
        },
        {
          "output_type": "stream",
          "text": [
            "/usr/local/lib/python3.6/dist-packages/sklearn/metrics/_classification.py:1272: UndefinedMetricWarning: Precision and F-score are ill-defined and being set to 0.0 in labels with no predicted samples. Use `zero_division` parameter to control this behavior.\n",
            "  _warn_prf(average, modifier, msg_start, len(result))\n"
          ],
          "name": "stderr"
        },
        {
          "output_type": "stream",
          "text": [
            "Training set score for BNB: 0.363962\n",
            "Testing  set score for BNB: 0.361111\n"
          ],
          "name": "stdout"
        },
        {
          "output_type": "execute_result",
          "data": {
            "text/plain": [
              "0.3611111111111111"
            ]
          },
          "metadata": {
            "tags": []
          },
          "execution_count": 110
        }
      ]
    },
    {
      "cell_type": "markdown",
      "metadata": {
        "id": "QDeMWMywtGlN",
        "colab_type": "text"
      },
      "source": [
        "# Here I start working on the reddit Data, trying to create a dataset that by end we compiled with the sentiment, to achieve better precision in the model well trained!\n"
      ]
    },
    {
      "cell_type": "code",
      "metadata": {
        "id": "keO0-8sCso7D",
        "colab_type": "code",
        "colab": {}
      },
      "source": [
        "import pandas as pd\n",
        "reddit = pd.read_csv('/content/drive/My Drive/Topic detection/NewComments_Data1.csv', index_col = 0)"
      ],
      "execution_count": null,
      "outputs": []
    },
    {
      "cell_type": "code",
      "metadata": {
        "id": "EX_oDh3JtFz9",
        "colab_type": "code",
        "colab": {}
      },
      "source": [
        "togo = reddit.copy()"
      ],
      "execution_count": null,
      "outputs": []
    },
    {
      "cell_type": "code",
      "metadata": {
        "id": "17js-VXutNa6",
        "colab_type": "code",
        "colab": {
          "base_uri": "https://localhost:8080/",
          "height": 228
        },
        "outputId": "e5479236-f2af-4bac-e8e9-c3e06f07f237"
      },
      "source": [
        "togo.head()"
      ],
      "execution_count": null,
      "outputs": [
        {
          "output_type": "execute_result",
          "data": {
            "text/html": [
              "<div>\n",
              "<style scoped>\n",
              "    .dataframe tbody tr th:only-of-type {\n",
              "        vertical-align: middle;\n",
              "    }\n",
              "\n",
              "    .dataframe tbody tr th {\n",
              "        vertical-align: top;\n",
              "    }\n",
              "\n",
              "    .dataframe thead th {\n",
              "        text-align: right;\n",
              "    }\n",
              "</style>\n",
              "<table border=\"1\" class=\"dataframe\">\n",
              "  <thead>\n",
              "    <tr style=\"text-align: right;\">\n",
              "      <th></th>\n",
              "      <th>Submission ID</th>\n",
              "      <th>Text</th>\n",
              "      <th>Hour</th>\n",
              "      <th>Minute</th>\n",
              "      <th>Second</th>\n",
              "      <th>ID</th>\n",
              "      <th>Top Level</th>\n",
              "      <th>Parent ID</th>\n",
              "      <th>#Upvotes</th>\n",
              "      <th>DATE</th>\n",
              "    </tr>\n",
              "    <tr>\n",
              "      <th>Author</th>\n",
              "      <th></th>\n",
              "      <th></th>\n",
              "      <th></th>\n",
              "      <th></th>\n",
              "      <th></th>\n",
              "      <th></th>\n",
              "      <th></th>\n",
              "      <th></th>\n",
              "      <th></th>\n",
              "      <th></th>\n",
              "    </tr>\n",
              "  </thead>\n",
              "  <tbody>\n",
              "    <tr>\n",
              "      <th>Lord_TheJc</th>\n",
              "      <td>f7txjb</td>\n",
              "      <td>Chiudo il thread, andate su quello nuovo\\n\\n/r...</td>\n",
              "      <td>12</td>\n",
              "      <td>25</td>\n",
              "      <td>40</td>\n",
              "      <td>fijqzau</td>\n",
              "      <td>True</td>\n",
              "      <td>f7txjb</td>\n",
              "      <td>1</td>\n",
              "      <td>22-2-2020</td>\n",
              "    </tr>\n",
              "    <tr>\n",
              "      <th>EMOSCAMBIO</th>\n",
              "      <td>f7txjb</td>\n",
              "      <td>&gt;Ore 19.30 - Il presunto «paziente 0» negativo...</td>\n",
              "      <td>18</td>\n",
              "      <td>52</td>\n",
              "      <td>58</td>\n",
              "      <td>figab7t</td>\n",
              "      <td>True</td>\n",
              "      <td>f7txjb</td>\n",
              "      <td>83</td>\n",
              "      <td>22-2-2020</td>\n",
              "    </tr>\n",
              "    <tr>\n",
              "      <th>drstins_n</th>\n",
              "      <td>f7txjb</td>\n",
              "      <td>&gt; Si allontana da Codogno e torna ad Avellino:...</td>\n",
              "      <td>21</td>\n",
              "      <td>40</td>\n",
              "      <td>54</td>\n",
              "      <td>fih8gxg</td>\n",
              "      <td>True</td>\n",
              "      <td>f7txjb</td>\n",
              "      <td>77</td>\n",
              "      <td>22-2-2020</td>\n",
              "    </tr>\n",
              "    <tr>\n",
              "      <th>IceTea666</th>\n",
              "      <td>f7txjb</td>\n",
              "      <td>Dogana slovenia/croazia. Il poliziotto croato ...</td>\n",
              "      <td>22</td>\n",
              "      <td>17</td>\n",
              "      <td>8</td>\n",
              "      <td>fihft9k</td>\n",
              "      <td>True</td>\n",
              "      <td>f7txjb</td>\n",
              "      <td>75</td>\n",
              "      <td>22-2-2020</td>\n",
              "    </tr>\n",
              "    <tr>\n",
              "      <th>panoramegamix</th>\n",
              "      <td>f7txjb</td>\n",
              "      <td>ho dato una veloce occhiata sui social \\n\\nNor...</td>\n",
              "      <td>17</td>\n",
              "      <td>52</td>\n",
              "      <td>2</td>\n",
              "      <td>fifwfbh</td>\n",
              "      <td>True</td>\n",
              "      <td>f7txjb</td>\n",
              "      <td>122</td>\n",
              "      <td>22-2-2020</td>\n",
              "    </tr>\n",
              "  </tbody>\n",
              "</table>\n",
              "</div>"
            ],
            "text/plain": [
              "              Submission ID  ...       DATE\n",
              "Author                       ...           \n",
              "Lord_TheJc           f7txjb  ...  22-2-2020\n",
              "EMOSCAMBIO           f7txjb  ...  22-2-2020\n",
              "drstins_n            f7txjb  ...  22-2-2020\n",
              "IceTea666            f7txjb  ...  22-2-2020\n",
              "panoramegamix        f7txjb  ...  22-2-2020\n",
              "\n",
              "[5 rows x 10 columns]"
            ]
          },
          "metadata": {
            "tags": []
          },
          "execution_count": 5
        }
      ]
    },
    {
      "cell_type": "code",
      "metadata": {
        "id": "0XITxfkntNdp",
        "colab_type": "code",
        "colab": {}
      },
      "source": [
        "len(togo['Text'].tolist())\n",
        "this = togo['Text'].tolist()"
      ],
      "execution_count": null,
      "outputs": []
    },
    {
      "cell_type": "code",
      "metadata": {
        "id": "71hzFIlntNk7",
        "colab_type": "code",
        "colab": {}
      },
      "source": [
        "my_data = pd.DataFrame(this, columns = ['Text'])"
      ],
      "execution_count": null,
      "outputs": []
    },
    {
      "cell_type": "code",
      "metadata": {
        "id": "Yx22K22GtNnU",
        "colab_type": "code",
        "colab": {
          "base_uri": "https://localhost:8080/",
          "height": 198
        },
        "outputId": "7fa5c3d5-cdf7-4425-88c6-1086147fce5c"
      },
      "source": [
        "my_data.head()"
      ],
      "execution_count": null,
      "outputs": [
        {
          "output_type": "execute_result",
          "data": {
            "text/html": [
              "<div>\n",
              "<style scoped>\n",
              "    .dataframe tbody tr th:only-of-type {\n",
              "        vertical-align: middle;\n",
              "    }\n",
              "\n",
              "    .dataframe tbody tr th {\n",
              "        vertical-align: top;\n",
              "    }\n",
              "\n",
              "    .dataframe thead th {\n",
              "        text-align: right;\n",
              "    }\n",
              "</style>\n",
              "<table border=\"1\" class=\"dataframe\">\n",
              "  <thead>\n",
              "    <tr style=\"text-align: right;\">\n",
              "      <th></th>\n",
              "      <th>Text</th>\n",
              "    </tr>\n",
              "  </thead>\n",
              "  <tbody>\n",
              "    <tr>\n",
              "      <th>0</th>\n",
              "      <td>Chiudo il thread, andate su quello nuovo\\n\\n/r...</td>\n",
              "    </tr>\n",
              "    <tr>\n",
              "      <th>1</th>\n",
              "      <td>&gt;Ore 19.30 - Il presunto «paziente 0» negativo...</td>\n",
              "    </tr>\n",
              "    <tr>\n",
              "      <th>2</th>\n",
              "      <td>&gt; Si allontana da Codogno e torna ad Avellino:...</td>\n",
              "    </tr>\n",
              "    <tr>\n",
              "      <th>3</th>\n",
              "      <td>Dogana slovenia/croazia. Il poliziotto croato ...</td>\n",
              "    </tr>\n",
              "    <tr>\n",
              "      <th>4</th>\n",
              "      <td>ho dato una veloce occhiata sui social \\n\\nNor...</td>\n",
              "    </tr>\n",
              "  </tbody>\n",
              "</table>\n",
              "</div>"
            ],
            "text/plain": [
              "                                                Text\n",
              "0  Chiudo il thread, andate su quello nuovo\\n\\n/r...\n",
              "1  >Ore 19.30 - Il presunto «paziente 0» negativo...\n",
              "2  > Si allontana da Codogno e torna ad Avellino:...\n",
              "3  Dogana slovenia/croazia. Il poliziotto croato ...\n",
              "4  ho dato una veloce occhiata sui social \\n\\nNor..."
            ]
          },
          "metadata": {
            "tags": []
          },
          "execution_count": 99
        }
      ]
    },
    {
      "cell_type": "code",
      "metadata": {
        "id": "5MIret-6tNqI",
        "colab_type": "code",
        "colab": {
          "base_uri": "https://localhost:8080/",
          "height": 35
        },
        "outputId": "aa098148-d9f9-4c70-de2a-7886e68018f0"
      },
      "source": [
        "my_data.shape"
      ],
      "execution_count": null,
      "outputs": [
        {
          "output_type": "execute_result",
          "data": {
            "text/plain": [
              "(23024, 1)"
            ]
          },
          "metadata": {
            "tags": []
          },
          "execution_count": 100
        }
      ]
    },
    {
      "cell_type": "code",
      "metadata": {
        "id": "mh4zRbPPtNsS",
        "colab_type": "code",
        "colab": {}
      },
      "source": [
        "my_data.drop(my_data.tail(22400).index, inplace = True) #df.drop(df.tail(n).index,inplace=True)"
      ],
      "execution_count": null,
      "outputs": []
    },
    {
      "cell_type": "code",
      "metadata": {
        "id": "6QxaUo5vtNvI",
        "colab_type": "code",
        "colab": {
          "base_uri": "https://localhost:8080/",
          "height": 35
        },
        "outputId": "39394d0c-93b3-44c0-f50d-cd6a9d4117d2"
      },
      "source": [
        "my_data.shape"
      ],
      "execution_count": null,
      "outputs": [
        {
          "output_type": "execute_result",
          "data": {
            "text/plain": [
              "(624, 1)"
            ]
          },
          "metadata": {
            "tags": []
          },
          "execution_count": 102
        }
      ]
    },
    {
      "cell_type": "code",
      "metadata": {
        "id": "buaszzABy26u",
        "colab_type": "code",
        "colab": {
          "base_uri": "https://localhost:8080/",
          "height": 198
        },
        "outputId": "50c62238-1ba0-48b0-f416-40d74d52602b"
      },
      "source": [
        "data_to_analyze = my_data.copy()\n",
        "data_to_analyze['Sentimenttobedeleted'] = np.nan\n",
        "data_to_analyze['Sentiment'] = 'a'\n",
        "data_to_analyze.head()"
      ],
      "execution_count": null,
      "outputs": [
        {
          "output_type": "execute_result",
          "data": {
            "text/html": [
              "<div>\n",
              "<style scoped>\n",
              "    .dataframe tbody tr th:only-of-type {\n",
              "        vertical-align: middle;\n",
              "    }\n",
              "\n",
              "    .dataframe tbody tr th {\n",
              "        vertical-align: top;\n",
              "    }\n",
              "\n",
              "    .dataframe thead th {\n",
              "        text-align: right;\n",
              "    }\n",
              "</style>\n",
              "<table border=\"1\" class=\"dataframe\">\n",
              "  <thead>\n",
              "    <tr style=\"text-align: right;\">\n",
              "      <th></th>\n",
              "      <th>Text</th>\n",
              "      <th>Sentimenttobedeleted</th>\n",
              "      <th>Sentiment</th>\n",
              "    </tr>\n",
              "  </thead>\n",
              "  <tbody>\n",
              "    <tr>\n",
              "      <th>0</th>\n",
              "      <td>Chiudo il thread, andate su quello nuovo\\n\\n/r...</td>\n",
              "      <td>NaN</td>\n",
              "      <td>a</td>\n",
              "    </tr>\n",
              "    <tr>\n",
              "      <th>1</th>\n",
              "      <td>&gt;Ore 19.30 - Il presunto «paziente 0» negativo...</td>\n",
              "      <td>NaN</td>\n",
              "      <td>a</td>\n",
              "    </tr>\n",
              "    <tr>\n",
              "      <th>2</th>\n",
              "      <td>&gt; Si allontana da Codogno e torna ad Avellino:...</td>\n",
              "      <td>NaN</td>\n",
              "      <td>a</td>\n",
              "    </tr>\n",
              "    <tr>\n",
              "      <th>3</th>\n",
              "      <td>Dogana slovenia/croazia. Il poliziotto croato ...</td>\n",
              "      <td>NaN</td>\n",
              "      <td>a</td>\n",
              "    </tr>\n",
              "    <tr>\n",
              "      <th>4</th>\n",
              "      <td>ho dato una veloce occhiata sui social \\n\\nNor...</td>\n",
              "      <td>NaN</td>\n",
              "      <td>a</td>\n",
              "    </tr>\n",
              "  </tbody>\n",
              "</table>\n",
              "</div>"
            ],
            "text/plain": [
              "                                                Text  ...  Sentiment\n",
              "0  Chiudo il thread, andate su quello nuovo\\n\\n/r...  ...          a\n",
              "1  >Ore 19.30 - Il presunto «paziente 0» negativo...  ...          a\n",
              "2  > Si allontana da Codogno e torna ad Avellino:...  ...          a\n",
              "3  Dogana slovenia/croazia. Il poliziotto croato ...  ...          a\n",
              "4  ho dato una veloce occhiata sui social \\n\\nNor...  ...          a\n",
              "\n",
              "[5 rows x 3 columns]"
            ]
          },
          "metadata": {
            "tags": []
          },
          "execution_count": 108
        }
      ]
    },
    {
      "cell_type": "code",
      "metadata": {
        "id": "2BSzwCyxy3CG",
        "colab_type": "code",
        "colab": {
          "base_uri": "https://localhost:8080/",
          "height": 235
        },
        "outputId": "42da75b3-f14b-4900-bddb-b198896879f5"
      },
      "source": [
        "data_to_analyze.iloc[:, 1]"
      ],
      "execution_count": null,
      "outputs": [
        {
          "output_type": "execute_result",
          "data": {
            "text/plain": [
              "0     NaN\n",
              "1     NaN\n",
              "2     NaN\n",
              "3     NaN\n",
              "4     NaN\n",
              "       ..\n",
              "619   NaN\n",
              "620   NaN\n",
              "621   NaN\n",
              "622   NaN\n",
              "623   NaN\n",
              "Name: Sentimenttobedeleted, Length: 624, dtype: float64"
            ]
          },
          "metadata": {
            "tags": []
          },
          "execution_count": 109
        }
      ]
    },
    {
      "cell_type": "code",
      "metadata": {
        "id": "WtTcxpWAy3FO",
        "colab_type": "code",
        "colab": {
          "base_uri": "https://localhost:8080/",
          "height": 35
        },
        "outputId": "392f431e-059c-4b77-bd8d-604f883b9dd7"
      },
      "source": [
        "import numpy as np\n",
        "idx_first_empty_row = data_to_analyze.index[np.isnan(data_to_analyze.iloc[:, 1])]\n",
        "idx_first_empty_row[0]"
      ],
      "execution_count": null,
      "outputs": [
        {
          "output_type": "execute_result",
          "data": {
            "text/plain": [
              "0"
            ]
          },
          "metadata": {
            "tags": []
          },
          "execution_count": 110
        }
      ]
    },
    {
      "cell_type": "code",
      "metadata": {
        "id": "21xUdr-a1Evu",
        "colab_type": "code",
        "colab": {}
      },
      "source": [
        "data_to_analyze.to_csv('/content/drive/My Drive/Topic detection/AMANOREDDIT.csv')"
      ],
      "execution_count": null,
      "outputs": []
    },
    {
      "cell_type": "code",
      "metadata": {
        "id": "t7t6XYjh1E2X",
        "colab_type": "code",
        "colab": {
          "base_uri": "https://localhost:8080/",
          "height": 198
        },
        "outputId": "5ed349ae-2127-4148-8ece-23dae878eb91"
      },
      "source": [
        "data_to_analyze = pd.read_csv('/content/drive/My Drive/Topic detection/AMANOREDDIT.csv', index_col = 0)\n",
        "data_to_analyze.head()"
      ],
      "execution_count": null,
      "outputs": [
        {
          "output_type": "execute_result",
          "data": {
            "text/html": [
              "<div>\n",
              "<style scoped>\n",
              "    .dataframe tbody tr th:only-of-type {\n",
              "        vertical-align: middle;\n",
              "    }\n",
              "\n",
              "    .dataframe tbody tr th {\n",
              "        vertical-align: top;\n",
              "    }\n",
              "\n",
              "    .dataframe thead th {\n",
              "        text-align: right;\n",
              "    }\n",
              "</style>\n",
              "<table border=\"1\" class=\"dataframe\">\n",
              "  <thead>\n",
              "    <tr style=\"text-align: right;\">\n",
              "      <th></th>\n",
              "      <th>Text</th>\n",
              "      <th>Sentimenttobedeleted</th>\n",
              "      <th>Sentiment</th>\n",
              "    </tr>\n",
              "  </thead>\n",
              "  <tbody>\n",
              "    <tr>\n",
              "      <th>0</th>\n",
              "      <td>Chiudo il thread, andate su quello nuovo\\n\\n/r...</td>\n",
              "      <td>NaN</td>\n",
              "      <td>a</td>\n",
              "    </tr>\n",
              "    <tr>\n",
              "      <th>1</th>\n",
              "      <td>&gt;Ore 19.30 - Il presunto «paziente 0» negativo...</td>\n",
              "      <td>NaN</td>\n",
              "      <td>a</td>\n",
              "    </tr>\n",
              "    <tr>\n",
              "      <th>2</th>\n",
              "      <td>&gt; Si allontana da Codogno e torna ad Avellino:...</td>\n",
              "      <td>NaN</td>\n",
              "      <td>a</td>\n",
              "    </tr>\n",
              "    <tr>\n",
              "      <th>3</th>\n",
              "      <td>Dogana slovenia/croazia. Il poliziotto croato ...</td>\n",
              "      <td>NaN</td>\n",
              "      <td>a</td>\n",
              "    </tr>\n",
              "    <tr>\n",
              "      <th>4</th>\n",
              "      <td>ho dato una veloce occhiata sui social \\n\\nNor...</td>\n",
              "      <td>NaN</td>\n",
              "      <td>a</td>\n",
              "    </tr>\n",
              "  </tbody>\n",
              "</table>\n",
              "</div>"
            ],
            "text/plain": [
              "                                                Text  ...  Sentiment\n",
              "0  Chiudo il thread, andate su quello nuovo\\n\\n/r...  ...          a\n",
              "1  >Ore 19.30 - Il presunto «paziente 0» negativo...  ...          a\n",
              "2  > Si allontana da Codogno e torna ad Avellino:...  ...          a\n",
              "3  Dogana slovenia/croazia. Il poliziotto croato ...  ...          a\n",
              "4  ho dato una veloce occhiata sui social \\n\\nNor...  ...          a\n",
              "\n",
              "[5 rows x 3 columns]"
            ]
          },
          "metadata": {
            "tags": []
          },
          "execution_count": 112
        }
      ]
    },
    {
      "cell_type": "markdown",
      "metadata": {
        "id": "m6X9URJpARUO",
        "colab_type": "text"
      },
      "source": [
        "# Creation TrainData code to share with my teammates :)\n"
      ]
    },
    {
      "cell_type": "code",
      "metadata": {
        "id": "UC0Hwir9tNxd",
        "colab_type": "code",
        "colab": {}
      },
      "source": [
        "import pandas as pd\n",
        "import numpy as np\n",
        "\n",
        "\n",
        "\n",
        "data_to_analyze = pd.read_csv('/content/drive/My Drive/Topic detection/AMANOREDDIT.csv', index_col = 0)\n",
        "idx_first_empty_row = data_to_analyze.index[np.isnan(data_to_analyze.iloc[:, 1])]\n",
        "it = idx_first_empty_row[0]\n",
        "\n",
        "\n",
        "def filler(my_data):\n",
        "  for index, row in my_data.iterrows():\n",
        "      if index < it:\n",
        "        pass\n",
        "      else:\n",
        "        print(row['Text'])\n",
        "        sent = input('   sentiment:\\n     ')\n",
        "        print(sent)\n",
        "        if sent == 'EXIT':\n",
        "          my_data.to_csv('/content/drive/My Drive/Topic detection/AMANOREDDIT.csv')\n",
        "          return\n",
        "        else:\n",
        "        #  print(my_data.loc['Sentiment', index ])\n",
        "         # my_data.loc['Sentiment', index ]= sent\n",
        "          print(index)\n",
        "          my_data.at[index, 'Sentimenttobedeleted'\t] = 1\n",
        "          my_data.at[index, 'Sentiment'\t] = sent\n",
        "         # my_data.set_value( index, 'Sentiment', sent)\n",
        "          print(my_data.head())\n",
        "          \n",
        "  return \n",
        "\n",
        "\n",
        "filler(data_to_analyze)"
      ],
      "execution_count": null,
      "outputs": []
    },
    {
      "cell_type": "code",
      "metadata": {
        "id": "iINvzr8Turc7",
        "colab_type": "code",
        "colab": {}
      },
      "source": [
        "filler(data_to_analyze)"
      ],
      "execution_count": null,
      "outputs": []
    },
    {
      "cell_type": "code",
      "metadata": {
        "id": "hfjXLlW419sa",
        "colab_type": "code",
        "colab": {
          "base_uri": "https://localhost:8080/",
          "height": 198
        },
        "outputId": "3edc4883-36db-48f0-e331-682bf61b7f20"
      },
      "source": [
        "data_to_analyze = pd.read_csv('/content/drive/My Drive/Topic detection/AMANOREDDIT.csv', index_col = 0)\n",
        "data_to_analyze.head()"
      ],
      "execution_count": null,
      "outputs": [
        {
          "output_type": "execute_result",
          "data": {
            "text/html": [
              "<div>\n",
              "<style scoped>\n",
              "    .dataframe tbody tr th:only-of-type {\n",
              "        vertical-align: middle;\n",
              "    }\n",
              "\n",
              "    .dataframe tbody tr th {\n",
              "        vertical-align: top;\n",
              "    }\n",
              "\n",
              "    .dataframe thead th {\n",
              "        text-align: right;\n",
              "    }\n",
              "</style>\n",
              "<table border=\"1\" class=\"dataframe\">\n",
              "  <thead>\n",
              "    <tr style=\"text-align: right;\">\n",
              "      <th></th>\n",
              "      <th>Text</th>\n",
              "      <th>Sentimenttobedeleted</th>\n",
              "      <th>Sentiment</th>\n",
              "    </tr>\n",
              "  </thead>\n",
              "  <tbody>\n",
              "    <tr>\n",
              "      <th>0</th>\n",
              "      <td>Chiudo il thread, andate su quello nuovo\\n\\n/r...</td>\n",
              "      <td>1.0</td>\n",
              "      <td>neutral</td>\n",
              "    </tr>\n",
              "    <tr>\n",
              "      <th>1</th>\n",
              "      <td>&gt;Ore 19.30 - Il presunto «paziente 0» negativo...</td>\n",
              "      <td>NaN</td>\n",
              "      <td>a</td>\n",
              "    </tr>\n",
              "    <tr>\n",
              "      <th>2</th>\n",
              "      <td>&gt; Si allontana da Codogno e torna ad Avellino:...</td>\n",
              "      <td>NaN</td>\n",
              "      <td>a</td>\n",
              "    </tr>\n",
              "    <tr>\n",
              "      <th>3</th>\n",
              "      <td>Dogana slovenia/croazia. Il poliziotto croato ...</td>\n",
              "      <td>NaN</td>\n",
              "      <td>a</td>\n",
              "    </tr>\n",
              "    <tr>\n",
              "      <th>4</th>\n",
              "      <td>ho dato una veloce occhiata sui social \\n\\nNor...</td>\n",
              "      <td>NaN</td>\n",
              "      <td>a</td>\n",
              "    </tr>\n",
              "  </tbody>\n",
              "</table>\n",
              "</div>"
            ],
            "text/plain": [
              "                                                Text  ...  Sentiment\n",
              "0  Chiudo il thread, andate su quello nuovo\\n\\n/r...  ...    neutral\n",
              "1  >Ore 19.30 - Il presunto «paziente 0» negativo...  ...          a\n",
              "2  > Si allontana da Codogno e torna ad Avellino:...  ...          a\n",
              "3  Dogana slovenia/croazia. Il poliziotto croato ...  ...          a\n",
              "4  ho dato una veloce occhiata sui social \\n\\nNor...  ...          a\n",
              "\n",
              "[5 rows x 3 columns]"
            ]
          },
          "metadata": {
            "tags": []
          },
          "execution_count": 119
        }
      ]
    },
    {
      "cell_type": "code",
      "metadata": {
        "id": "0ROat8yj6U-j",
        "colab_type": "code",
        "colab": {}
      },
      "source": [
        ""
      ],
      "execution_count": null,
      "outputs": []
    }
  ]
}