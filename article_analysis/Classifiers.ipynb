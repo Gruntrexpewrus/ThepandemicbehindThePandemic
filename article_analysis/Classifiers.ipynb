{
 "cells": [
  {
   "cell_type": "code",
   "execution_count": 1,
   "metadata": {},
   "outputs": [
    {
     "data": {
      "text/html": [
       "<style>.container { width:100% !important; }</style>"
      ],
      "text/plain": [
       "<IPython.core.display.HTML object>"
      ]
     },
     "metadata": {},
     "output_type": "display_data"
    }
   ],
   "source": [
    "import pandas as pd\n",
    "import numpy as np\n",
    "import seaborn as sns\n",
    "import matplotlib.pyplot as plt\n",
    "from IPython.core.display import display, HTML\n",
    "display(HTML(\"<style>.container { width:100% !important; }</style>\"))"
   ]
  },
  {
   "cell_type": "markdown",
   "metadata": {},
   "source": [
    "### LDA for topic modeling"
   ]
  },
  {
   "cell_type": "code",
   "execution_count": 2,
   "metadata": {},
   "outputs": [
    {
     "data": {
      "text/plain": [
       "'utf-8'"
      ]
     },
     "execution_count": 2,
     "metadata": {},
     "output_type": "execute_result"
    }
   ],
   "source": [
    "import sys\n",
    "sys.getdefaultencoding()"
   ]
  },
  {
   "cell_type": "code",
   "execution_count": 3,
   "metadata": {},
   "outputs": [
    {
     "data": {
      "text/html": [
       "<div>\n",
       "<style scoped>\n",
       "    .dataframe tbody tr th:only-of-type {\n",
       "        vertical-align: middle;\n",
       "    }\n",
       "\n",
       "    .dataframe tbody tr th {\n",
       "        vertical-align: top;\n",
       "    }\n",
       "\n",
       "    .dataframe thead th {\n",
       "        text-align: right;\n",
       "    }\n",
       "</style>\n",
       "<table border=\"1\" class=\"dataframe\">\n",
       "  <thead>\n",
       "    <tr style=\"text-align: right;\">\n",
       "      <th></th>\n",
       "      <th>title</th>\n",
       "      <th>content</th>\n",
       "      <th>date</th>\n",
       "      <th>author</th>\n",
       "      <th>region</th>\n",
       "      <th>zone</th>\n",
       "    </tr>\n",
       "  </thead>\n",
       "  <tbody>\n",
       "    <tr>\n",
       "      <th>0</th>\n",
       "      <td>d’albert riunion anci regional decar</td>\n",
       "      <td>teram president gianguid d’albert partecip riu...</td>\n",
       "      <td>2020-04-15</td>\n",
       "      <td>Abruzzonews</td>\n",
       "      <td>Abruzzo</td>\n",
       "      <td>Centre</td>\n",
       "    </tr>\n",
       "    <tr>\n",
       "      <th>1</th>\n",
       "      <td>coronavirus, novit introdott dpcm 10 april 2020</td>\n",
       "      <td>sit minister dell’intern stat pubblic dirett i...</td>\n",
       "      <td>2020-04-15</td>\n",
       "      <td>Abruzzonews</td>\n",
       "      <td>Abruzzo</td>\n",
       "      <td>Centre</td>\n",
       "    </tr>\n",
       "    <tr>\n",
       "      <th>2</th>\n",
       "      <td>coronavirus, nuov misur vend gener alimentar a...</td>\n",
       "      <td>pescar oggi, mercoled 15 aprile, president reg...</td>\n",
       "      <td>2020-04-15</td>\n",
       "      <td>Abruzzonews</td>\n",
       "      <td>Abruzzo</td>\n",
       "      <td>Centre</td>\n",
       "    </tr>\n",
       "    <tr>\n",
       "      <th>3</th>\n",
       "      <td>regione, ecco guid formazion distanz iefp</td>\n",
       "      <td>pescar ver propr guid oper grad rispond dubb i...</td>\n",
       "      <td>2020-04-15</td>\n",
       "      <td>Abruzzonews</td>\n",
       "      <td>Abruzzo</td>\n",
       "      <td>Centre</td>\n",
       "    </tr>\n",
       "    <tr>\n",
       "      <th>4</th>\n",
       "      <td>ministr amendol oddat all’iniz pd abruzz facebook</td>\n",
       "      <td>region “le scelt pd. l’ital l’abruzzo”: intito...</td>\n",
       "      <td>2020-04-15</td>\n",
       "      <td>Abruzzonews</td>\n",
       "      <td>Abruzzo</td>\n",
       "      <td>Centre</td>\n",
       "    </tr>\n",
       "    <tr>\n",
       "      <th>...</th>\n",
       "      <td>...</td>\n",
       "      <td>...</td>\n",
       "      <td>...</td>\n",
       "      <td>...</td>\n",
       "      <td>...</td>\n",
       "      <td>...</td>\n",
       "    </tr>\n",
       "    <tr>\n",
       "      <th>24579</th>\n",
       "      <td>cop pir giornal telegram, salg 114 canal oscur</td>\n",
       "      <td>sal 114 numer canal telegram sequestr procur b...</td>\n",
       "      <td>2020-05-04</td>\n",
       "      <td>La Repubblica</td>\n",
       "      <td>Lazio</td>\n",
       "      <td>Centre</td>\n",
       "    </tr>\n",
       "    <tr>\n",
       "      <th>24580</th>\n",
       "      <td>inchiest sanit umbra, chius indagini. l'ex gov...</td>\n",
       "      <td>chiusur dell'indagin assunzion sanità, destabi...</td>\n",
       "      <td>2020-05-04</td>\n",
       "      <td>La Repubblica</td>\n",
       "      <td>Lazio</td>\n",
       "      <td>Centre</td>\n",
       "    </tr>\n",
       "    <tr>\n",
       "      <th>24581</th>\n",
       "      <td>coronavirus italia, 3691 denunc prim giorn fas 2</td>\n",
       "      <td>rom - aspett boom sanzion prim giorn fas due, ...</td>\n",
       "      <td>2020-05-05</td>\n",
       "      <td>La Repubblica</td>\n",
       "      <td>Lazio</td>\n",
       "      <td>Centre</td>\n",
       "    </tr>\n",
       "    <tr>\n",
       "      <th>24582</th>\n",
       "      <td>coronavirus, medicina, denunc azione: \"tropp p...</td>\n",
       "      <td>ventiduemil medic pront entrar specialità, and...</td>\n",
       "      <td>2020-05-06</td>\n",
       "      <td>La Repubblica</td>\n",
       "      <td>Lazio</td>\n",
       "      <td>Centre</td>\n",
       "    </tr>\n",
       "    <tr>\n",
       "      <th>24583</th>\n",
       "      <td>protest parrucchier estetisti: \"se riapr subit...</td>\n",
       "      <td>rom - censis occasion defin \"nero\" sopravviven...</td>\n",
       "      <td>2020-05-07</td>\n",
       "      <td>La Repubblica</td>\n",
       "      <td>Lazio</td>\n",
       "      <td>Centre</td>\n",
       "    </tr>\n",
       "  </tbody>\n",
       "</table>\n",
       "<p>24584 rows × 6 columns</p>\n",
       "</div>"
      ],
      "text/plain": [
       "                                                   title  \\\n",
       "0                   d’albert riunion anci regional decar   \n",
       "1        coronavirus, novit introdott dpcm 10 april 2020   \n",
       "2      coronavirus, nuov misur vend gener alimentar a...   \n",
       "3              regione, ecco guid formazion distanz iefp   \n",
       "4      ministr amendol oddat all’iniz pd abruzz facebook   \n",
       "...                                                  ...   \n",
       "24579     cop pir giornal telegram, salg 114 canal oscur   \n",
       "24580  inchiest sanit umbra, chius indagini. l'ex gov...   \n",
       "24581   coronavirus italia, 3691 denunc prim giorn fas 2   \n",
       "24582  coronavirus, medicina, denunc azione: \"tropp p...   \n",
       "24583  protest parrucchier estetisti: \"se riapr subit...   \n",
       "\n",
       "                                                 content        date  \\\n",
       "0      teram president gianguid d’albert partecip riu...  2020-04-15   \n",
       "1      sit minister dell’intern stat pubblic dirett i...  2020-04-15   \n",
       "2      pescar oggi, mercoled 15 aprile, president reg...  2020-04-15   \n",
       "3      pescar ver propr guid oper grad rispond dubb i...  2020-04-15   \n",
       "4      region “le scelt pd. l’ital l’abruzzo”: intito...  2020-04-15   \n",
       "...                                                  ...         ...   \n",
       "24579  sal 114 numer canal telegram sequestr procur b...  2020-05-04   \n",
       "24580  chiusur dell'indagin assunzion sanità, destabi...  2020-05-04   \n",
       "24581  rom - aspett boom sanzion prim giorn fas due, ...  2020-05-05   \n",
       "24582  ventiduemil medic pront entrar specialità, and...  2020-05-06   \n",
       "24583  rom - censis occasion defin \"nero\" sopravviven...  2020-05-07   \n",
       "\n",
       "              author   region    zone  \n",
       "0        Abruzzonews  Abruzzo  Centre  \n",
       "1        Abruzzonews  Abruzzo  Centre  \n",
       "2        Abruzzonews  Abruzzo  Centre  \n",
       "3        Abruzzonews  Abruzzo  Centre  \n",
       "4        Abruzzonews  Abruzzo  Centre  \n",
       "...              ...      ...     ...  \n",
       "24579  La Repubblica    Lazio  Centre  \n",
       "24580  La Repubblica    Lazio  Centre  \n",
       "24581  La Repubblica    Lazio  Centre  \n",
       "24582  La Repubblica    Lazio  Centre  \n",
       "24583  La Repubblica    Lazio  Centre  \n",
       "\n",
       "[24584 rows x 6 columns]"
      ]
     },
     "execution_count": 3,
     "metadata": {},
     "output_type": "execute_result"
    }
   ],
   "source": [
    "data = pd.read_csv('data/preprocessed_articles.csv',sep = ';',index_col = [0])\n",
    "prep = pd.DataFrame(data)\n",
    "prep"
   ]
  },
  {
   "cell_type": "code",
   "execution_count": 4,
   "metadata": {},
   "outputs": [
    {
     "data": {
      "text/html": [
       "<div>\n",
       "<style scoped>\n",
       "    .dataframe tbody tr th:only-of-type {\n",
       "        vertical-align: middle;\n",
       "    }\n",
       "\n",
       "    .dataframe tbody tr th {\n",
       "        vertical-align: top;\n",
       "    }\n",
       "\n",
       "    .dataframe thead th {\n",
       "        text-align: right;\n",
       "    }\n",
       "</style>\n",
       "<table border=\"1\" class=\"dataframe\">\n",
       "  <thead>\n",
       "    <tr style=\"text-align: right;\">\n",
       "      <th></th>\n",
       "      <th>title</th>\n",
       "      <th>content</th>\n",
       "      <th>date</th>\n",
       "      <th>author</th>\n",
       "      <th>region</th>\n",
       "      <th>zone</th>\n",
       "    </tr>\n",
       "  </thead>\n",
       "  <tbody>\n",
       "    <tr>\n",
       "      <th>0</th>\n",
       "      <td>D’Alberto alla riunione delle ANCI regionali c...</td>\n",
       "      <td>TERAMO – Il Presidente Gianguido D’Alberto ha ...</td>\n",
       "      <td>2020-04-15</td>\n",
       "      <td>Abruzzonews</td>\n",
       "      <td>Abruzzo</td>\n",
       "      <td>Centre</td>\n",
       "    </tr>\n",
       "    <tr>\n",
       "      <th>1</th>\n",
       "      <td>Coronavirus, le novità introdotte dal DPCM 10 ...</td>\n",
       "      <td>Sul sito del Ministero dell’Interno è stata pu...</td>\n",
       "      <td>2020-04-15</td>\n",
       "      <td>Abruzzonews</td>\n",
       "      <td>Abruzzo</td>\n",
       "      <td>Centre</td>\n",
       "    </tr>\n",
       "    <tr>\n",
       "      <th>2</th>\n",
       "      <td>Coronavirus, nuove misure per vendita generi a...</td>\n",
       "      <td>PESCARA – Oggi, mercoledì 15 aprile, il Presid...</td>\n",
       "      <td>2020-04-15</td>\n",
       "      <td>Abruzzonews</td>\n",
       "      <td>Abruzzo</td>\n",
       "      <td>Centre</td>\n",
       "    </tr>\n",
       "    <tr>\n",
       "      <th>3</th>\n",
       "      <td>Regione, ecco la guida per la formazione a dis...</td>\n",
       "      <td>PESCARA – Una vera e propria guida operativa i...</td>\n",
       "      <td>2020-04-15</td>\n",
       "      <td>Abruzzonews</td>\n",
       "      <td>Abruzzo</td>\n",
       "      <td>Centre</td>\n",
       "    </tr>\n",
       "    <tr>\n",
       "      <th>4</th>\n",
       "      <td>Ministro Amendola e Oddati all’iniziativa Pd A...</td>\n",
       "      <td>REGIONE – “Le scelte del Pd. Per l’Italia e pe...</td>\n",
       "      <td>2020-04-15</td>\n",
       "      <td>Abruzzonews</td>\n",
       "      <td>Abruzzo</td>\n",
       "      <td>Centre</td>\n",
       "    </tr>\n",
       "    <tr>\n",
       "      <th>...</th>\n",
       "      <td>...</td>\n",
       "      <td>...</td>\n",
       "      <td>...</td>\n",
       "      <td>...</td>\n",
       "      <td>...</td>\n",
       "      <td>...</td>\n",
       "    </tr>\n",
       "    <tr>\n",
       "      <th>24579</th>\n",
       "      <td>Copie pirata di giornali su Telegram, salgono ...</td>\n",
       "      <td>È salito a 114 il numero dei canali Telegram s...</td>\n",
       "      <td>2020-05-04</td>\n",
       "      <td>La Repubblica</td>\n",
       "      <td>Lazio</td>\n",
       "      <td>Centre</td>\n",
       "    </tr>\n",
       "    <tr>\n",
       "      <th>24580</th>\n",
       "      <td>Inchiesta sulla sanità umbra, chiuse le indagi...</td>\n",
       "      <td>La chiusura dell'indagine sulle assunzioni in ...</td>\n",
       "      <td>2020-05-04</td>\n",
       "      <td>La Repubblica</td>\n",
       "      <td>Lazio</td>\n",
       "      <td>Centre</td>\n",
       "    </tr>\n",
       "    <tr>\n",
       "      <th>24581</th>\n",
       "      <td>Coronavirus in Italia, 3691 denunciati nel pri...</td>\n",
       "      <td>ROMA - Chi si aspettava un boom di sanzioni ne...</td>\n",
       "      <td>2020-05-05</td>\n",
       "      <td>La Repubblica</td>\n",
       "      <td>Lazio</td>\n",
       "      <td>Centre</td>\n",
       "    </tr>\n",
       "    <tr>\n",
       "      <th>24582</th>\n",
       "      <td>Coronavirus, Medicina, la denuncia di Azione: ...</td>\n",
       "      <td>Ventiduemila medici sono pronti a entrare in s...</td>\n",
       "      <td>2020-05-06</td>\n",
       "      <td>La Repubblica</td>\n",
       "      <td>Lazio</td>\n",
       "      <td>Centre</td>\n",
       "    </tr>\n",
       "    <tr>\n",
       "      <th>24583</th>\n",
       "      <td>La protesta di parrucchieri ed estetisti: \"Se ...</td>\n",
       "      <td>ROMA - Il Censis in più occasioni lo ha defini...</td>\n",
       "      <td>2020-05-07</td>\n",
       "      <td>La Repubblica</td>\n",
       "      <td>Lazio</td>\n",
       "      <td>Centre</td>\n",
       "    </tr>\n",
       "  </tbody>\n",
       "</table>\n",
       "<p>24584 rows × 6 columns</p>\n",
       "</div>"
      ],
      "text/plain": [
       "                                                   title  \\\n",
       "0      D’Alberto alla riunione delle ANCI regionali c...   \n",
       "1      Coronavirus, le novità introdotte dal DPCM 10 ...   \n",
       "2      Coronavirus, nuove misure per vendita generi a...   \n",
       "3      Regione, ecco la guida per la formazione a dis...   \n",
       "4      Ministro Amendola e Oddati all’iniziativa Pd A...   \n",
       "...                                                  ...   \n",
       "24579  Copie pirata di giornali su Telegram, salgono ...   \n",
       "24580  Inchiesta sulla sanità umbra, chiuse le indagi...   \n",
       "24581  Coronavirus in Italia, 3691 denunciati nel pri...   \n",
       "24582  Coronavirus, Medicina, la denuncia di Azione: ...   \n",
       "24583  La protesta di parrucchieri ed estetisti: \"Se ...   \n",
       "\n",
       "                                                 content        date  \\\n",
       "0      TERAMO – Il Presidente Gianguido D’Alberto ha ...  2020-04-15   \n",
       "1      Sul sito del Ministero dell’Interno è stata pu...  2020-04-15   \n",
       "2      PESCARA – Oggi, mercoledì 15 aprile, il Presid...  2020-04-15   \n",
       "3      PESCARA – Una vera e propria guida operativa i...  2020-04-15   \n",
       "4      REGIONE – “Le scelte del Pd. Per l’Italia e pe...  2020-04-15   \n",
       "...                                                  ...         ...   \n",
       "24579  È salito a 114 il numero dei canali Telegram s...  2020-05-04   \n",
       "24580  La chiusura dell'indagine sulle assunzioni in ...  2020-05-04   \n",
       "24581  ROMA - Chi si aspettava un boom di sanzioni ne...  2020-05-05   \n",
       "24582  Ventiduemila medici sono pronti a entrare in s...  2020-05-06   \n",
       "24583  ROMA - Il Censis in più occasioni lo ha defini...  2020-05-07   \n",
       "\n",
       "              author   region    zone  \n",
       "0        Abruzzonews  Abruzzo  Centre  \n",
       "1        Abruzzonews  Abruzzo  Centre  \n",
       "2        Abruzzonews  Abruzzo  Centre  \n",
       "3        Abruzzonews  Abruzzo  Centre  \n",
       "4        Abruzzonews  Abruzzo  Centre  \n",
       "...              ...      ...     ...  \n",
       "24579  La Repubblica    Lazio  Centre  \n",
       "24580  La Repubblica    Lazio  Centre  \n",
       "24581  La Repubblica    Lazio  Centre  \n",
       "24582  La Repubblica    Lazio  Centre  \n",
       "24583  La Repubblica    Lazio  Centre  \n",
       "\n",
       "[24584 rows x 6 columns]"
      ]
     },
     "execution_count": 4,
     "metadata": {},
     "output_type": "execute_result"
    }
   ],
   "source": [
    "data = pd.read_csv('data/articles.csv',sep = ';',index_col = [0])\n",
    "articles = pd.DataFrame(data)\n",
    "articles"
   ]
  },
  {
   "cell_type": "code",
   "execution_count": 5,
   "metadata": {},
   "outputs": [],
   "source": [
    "stop_words_italian = [\"a\",\"abbastanza\",\"abbia\",\"abbiamo\",\"abbiano\",\"abbiate\",\"accidenti\",\"ad\",\"adesso\",\"affinché\",\"agl\",\"agli\",\"ahime\",\"ahimè\",\"ai\",\"al\",\"alcuna\",\"alcuni\",\"alcuno\",\"all\",\"alla\",\"alle\",\"allo\",\"allora\",\"altre\",\"altri\",\"altrimenti\",\"altro\",\"altrove\",\"altrui\",\"anche\",\"ancora\",\"anni\",\"anno\",\"ansa\",\"anticipo\",\"assai\",\"attesa\",\"attraverso\",\"avanti\",\"avemmo\",\"avendo\",\"avente\",\"aver\",\"avere\",\"averlo\",\"avesse\",\"avessero\",\"avessi\",\"avessimo\",\"aveste\",\"avesti\",\"avete\",\"aveva\",\"avevamo\",\"avevano\",\"avevate\",\"avevi\",\"avevo\",\"avrai\",\"avranno\",\"avrebbe\",\"avrebbero\",\"avrei\",\"avremmo\",\"avremo\",\"avreste\",\"avresti\",\"avrete\",\"avrà\",\"avrò\",\"avuta\",\"avute\",\"avuti\",\"avuto\",\"basta\",\"ben\",\"bene\",\"benissimo\",\"brava\",\"bravo\",\"buono\",\"c\",\"caso\",\"cento\",\"certa\",\"certe\",\"certi\",\"certo\",\"che\",\"chi\",\"chicchessia\",\"chiunque\",\"ci\",\"ciascuna\",\"ciascuno\",\"cima\",\"cinque\",\"cio\",\"cioe\",\"cioè\",\"circa\",\"citta\",\"città\",\"ciò\",\"co\",\"codesta\",\"codesti\",\"codesto\",\"cogli\",\"coi\",\"col\",\"colei\",\"coll\",\"coloro\",\"colui\",\"come\",\"cominci\",\"comprare\",\"comunque\",\"con\",\"concernente\",\"conclusione\",\"consecutivi\",\"consecutivo\",\"consiglio\",\"contro\",\"cortesia\",\"cos\",\"cosa\",\"cosi\",\"così\",\"cui\",\"d\",\"da\",\"dagl\",\"dagli\",\"dai\",\"dal\",\"dall\",\"dalla\",\"dalle\",\"dallo\",\"dappertutto\",\"davanti\",\"degl\",\"degli\",\"dei\",\"del\",\"dell\",\"della\",\"delle\",\"dello\",\"dentro\",\"detto\",\"deve\",\"devo\",\"di\",\"dice\",\"dietro\",\"dire\",\"dirimpetto\",\"diventa\",\"diventare\",\"diventato\",\"dopo\",\"doppio\",\"dov\",\"dove\",\"dovra\",\"dovrà\",\"dovunque\",\"due\",\"dunque\",\"durante\",\"e\",\"ebbe\",\"ebbero\",\"ebbi\",\"ecc\",\"ecco\",\"ed\",\"effettivamente\",\"egli\",\"ella\",\"entrambi\",\"eppure\",\"era\",\"erano\",\"eravamo\",\"eravate\",\"eri\",\"ero\",\"esempio\",\"esse\",\"essendo\",\"esser\",\"essere\",\"essi\",\"ex\",\"fa\",\"faccia\",\"facciamo\",\"facciano\",\"facciate\",\"faccio\",\"facemmo\",\"facendo\",\"facesse\",\"facessero\",\"facessi\",\"facessimo\",\"faceste\",\"facesti\",\"faceva\",\"facevamo\",\"facevano\",\"facevate\",\"facevi\",\"facevo\",\"fai\",\"fanno\",\"farai\",\"faranno\",\"fare\",\"farebbe\",\"farebbero\",\"farei\",\"faremmo\",\"faremo\",\"fareste\",\"faresti\",\"farete\",\"farà\",\"farò\",\"fatto\",\"favore\",\"fece\",\"fecero\",\"feci\",\"fin\",\"finalmente\",\"finche\",\"fine\",\"fino\",\"forse\",\"forza\",\"fosse\",\"fossero\",\"fossi\",\"fossimo\",\"foste\",\"fosti\",\"fra\",\"frattempo\",\"fu\",\"fui\",\"fummo\",\"fuori\",\"furono\",\"futuro\",\"generale\",\"gente\",\"gia\",\"giacche\",\"giorni\",\"giorno\",\"giu\",\"già\",\"gli\",\"gliela\",\"gliele\",\"glieli\",\"glielo\",\"gliene\",\"grande\",\"grazie\",\"gruppo\",\"ha\",\"haha\",\"hai\",\"hanno\",\"ho\",\"i\",\"ie\",\"ieri\",\"il\",\"improvviso\",\"in\",\"inc\",\"indietro\",\"infatti\",\"inoltre\",\"insieme\",\"intanto\",\"intorno\",\"invece\",\"io\",\"l\",\"la\",\"lasciato\",\"lato\",\"le\",\"lei\",\"li\",\"lo\",\"lontano\",\"loro\",\"lui\",\"lungo\",\"luogo\",\"là\",\"ma\",\"macche\",\"magari\",\"maggior\",\"mai\",\"male\",\"malgrado\",\"malissimo\",\"me\",\"medesimo\",\"mediante\",\"meglio\",\"meno\",\"mentre\",\"mesi\",\"mezzo\",\"mi\",\"mia\",\"mie\",\"miei\",\"mila\",\"miliardi\",\"milioni\",\"minimi\",\"mio\",\"modo\",\"molta\",\"molti\",\"moltissimo\",\"molto\",\"momento\",\"mondo\",\"ne\",\"negl\",\"negli\",\"nei\",\"nel\",\"nell\",\"nella\",\"nelle\",\"nello\",\"nemmeno\",\"neppure\",\"nessun\",\"nessuna\",\"nessuno\",\"niente\",\"no\",\"noi\",\"nome\",\"non\",\"nondimeno\",\"nonostante\",\"nonsia\",\"nostra\",\"nostre\",\"nostri\",\"nostro\",\"novanta\",\"nove\",\"nulla\",\"nuovi\",\"nuovo\",\"o\",\"od\",\"oggi\",\"ogni\",\"ognuna\",\"ognuno\",\"oltre\",\"oppure\",\"ora\",\"ore\",\"osi\",\"ossia\",\"ottanta\",\"otto\",\"paese\",\"parecchi\",\"parecchie\",\"parecchio\",\"parte\",\"partendo\",\"peccato\",\"peggio\",\"per\",\"perche\",\"perchè\",\"perché\",\"percio\",\"perciò\",\"perfino\",\"pero\",\"persino\",\"persone\",\"però\",\"piedi\",\"pieno\",\"piglia\",\"piu\",\"piuttosto\",\"più\",\"po\",\"pochissimo\",\"poco\",\"poi\",\"poiche\",\"possa\",\"possedere\",\"posteriore\",\"posto\",\"potrebbe\",\"preferibilmente\",\"presa\",\"press\",\"prima\",\"primo\",\"principalmente\",\"probabilmente\",\"promesso\",\"proprio\",\"puo\",\"pure\",\"purtroppo\",\"può\",\"qua\",\"qualche\",\"qualcosa\",\"qualcuna\",\"qualcuno\",\"quale\",\"quali\",\"qualunque\",\"quando\",\"quanta\",\"quante\",\"quanti\",\"quanto\",\"quantunque\",\"quarto\",\"quasi\",\"quattro\",\"quel\",\"quella\",\"quelle\",\"quelli\",\"quello\",\"quest\",\"questa\",\"queste\",\"questi\",\"questo\",\"qui\",\"quindi\",\"quinto\",\"realmente\",\"recente\",\"recentemente\",\"registrazione\",\"relativo\",\"riecco\",\"rispetto\",\"salvo\",\"sara\",\"sarai\",\"saranno\",\"sarebbe\",\"sarebbero\",\"sarei\",\"saremmo\",\"saremo\",\"sareste\",\"saresti\",\"sarete\",\"sarà\",\"sarò\",\"scola\",\"scopo\",\"scorso\",\"se\",\"secondo\",\"seguente\",\"seguito\",\"sei\",\"sembra\",\"sembrare\",\"sembrato\",\"sembrava\",\"sembri\",\"sempre\",\"senza\",\"sette\",\"si\",\"sia\",\"siamo\",\"siano\",\"siate\",\"siete\",\"sig\",\"solito\",\"solo\",\"soltanto\",\"sono\",\"sopra\",\"soprattutto\",\"sotto\",\"spesso\",\"sta\",\"stai\",\"stando\",\"stanno\",\"starai\",\"staranno\",\"starebbe\",\"starebbero\",\"starei\",\"staremmo\",\"staremo\",\"stareste\",\"staresti\",\"starete\",\"starà\",\"starò\",\"stata\",\"state\",\"stati\",\"stato\",\"stava\",\"stavamo\",\"stavano\",\"stavate\",\"stavi\",\"stavo\",\"stemmo\",\"stessa\",\"stesse\",\"stessero\",\"stessi\",\"stessimo\",\"stesso\",\"steste\",\"stesti\",\"stette\",\"stettero\",\"stetti\",\"stia\",\"stiamo\",\"stiano\",\"stiate\",\"sto\",\"su\",\"sua\",\"subito\",\"successivamente\",\"successivo\",\"sue\",\"sugl\",\"sugli\",\"sui\",\"sul\",\"sull\",\"sulla\",\"sulle\",\"sullo\",\"suo\",\"suoi\",\"tale\",\"tali\",\"talvolta\",\"tanto\",\"te\",\"tempo\",\"terzo\",\"th\",\"ti\",\"titolo\",\"tra\",\"tranne\",\"tre\",\"trenta\",\"triplo\",\"troppo\",\"trovato\",\"tu\",\"tua\",\"tue\",\"tuo\",\"tuoi\",\"tutta\",\"tuttavia\",\"tutte\",\"tutti\",\"tutto\",\"uguali\",\"ulteriore\",\"ultimo\",\"un\",\"una\",\"uno\",\"uomo\",\"va\",\"vai\",\"vale\",\"vari\",\"varia\",\"varie\",\"vario\",\"verso\",\"vi\",\"vicino\",\"visto\",\"vita\",\"voi\",\"volta\",\"volte\",\"vostra\",\"vostre\",\"vostri\",\"vostro\",\"è\"]"
   ]
  },
  {
   "cell_type": "code",
   "execution_count": 6,
   "metadata": {},
   "outputs": [],
   "source": [
    "from sklearn.feature_extraction.text import CountVectorizer\n",
    "\n",
    "count_vect = CountVectorizer(max_df=0.8, min_df=2, stop_words = stop_words_italian)\n",
    "doc_term_matrix = count_vect.fit_transform(articles['content'].values)"
   ]
  },
  {
   "cell_type": "code",
   "execution_count": 7,
   "metadata": {},
   "outputs": [
    {
     "data": {
      "text/plain": [
       "<24584x62149 sparse matrix of type '<class 'numpy.int64'>'\n",
       "\twith 2554149 stored elements in Compressed Sparse Row format>"
      ]
     },
     "execution_count": 7,
     "metadata": {},
     "output_type": "execute_result"
    }
   ],
   "source": [
    "doc_term_matrix"
   ]
  },
  {
   "cell_type": "code",
   "execution_count": 8,
   "metadata": {},
   "outputs": [
    {
     "data": {
      "text/plain": [
       "LatentDirichletAllocation(batch_size=128, doc_topic_prior=None,\n",
       "                          evaluate_every=-1, learning_decay=0.7,\n",
       "                          learning_method='batch', learning_offset=10.0,\n",
       "                          max_doc_update_iter=100, max_iter=10,\n",
       "                          mean_change_tol=0.001, n_components=2, n_jobs=None,\n",
       "                          perp_tol=0.1, random_state=42, topic_word_prior=None,\n",
       "                          total_samples=1000000.0, verbose=0)"
      ]
     },
     "execution_count": 8,
     "metadata": {},
     "output_type": "execute_result"
    }
   ],
   "source": [
    "from sklearn.decomposition import LatentDirichletAllocation\n",
    "\n",
    "LDA = LatentDirichletAllocation(n_components=2, random_state=42)\n",
    "LDA.fit(doc_term_matrix)"
   ]
  },
  {
   "cell_type": "code",
   "execution_count": 16,
   "metadata": {},
   "outputs": [
    {
     "name": "stdout",
     "output_type": "stream",
     "text": [
      "Top 10 words for topic #0:\n",
      "['coronavirus', 'via', 'regione', 'lavoro', 'casa', 'emergenza', 'euro', 'polizia', 'attività', 'carabinieri']\n",
      "\n",
      "\n",
      "Top 10 words for topic #1:\n",
      "['numero', 'regione', 'pazienti', 'positivi', 'provincia', '19', 'covid', 'ospedale', 'casi', 'coronavirus']\n",
      "\n",
      "\n"
     ]
    }
   ],
   "source": [
    "for i,topic in enumerate(LDA.components_):\n",
    "    print(f'Top 10 words for topic #{i}:')\n",
    "    print([count_vect.get_feature_names()[i] for i in topic.argsort()[-10:]])\n",
    "    print('\\n')"
   ]
  },
  {
   "cell_type": "markdown",
   "metadata": {},
   "source": [
    "#### NMF for topic modeling"
   ]
  },
  {
   "cell_type": "code",
   "execution_count": 10,
   "metadata": {},
   "outputs": [],
   "source": [
    "from sklearn.feature_extraction.text import TfidfVectorizer\n",
    "\n",
    "tfidf_vect = TfidfVectorizer(max_df=0.8, min_df=2, stop_words= stop_words_italian)\n",
    "doc_term_matrix = tfidf_vect.fit_transform(articles['content'].values)"
   ]
  },
  {
   "cell_type": "code",
   "execution_count": 11,
   "metadata": {},
   "outputs": [
    {
     "data": {
      "text/plain": [
       "NMF(alpha=0.0, beta_loss='frobenius', init=None, l1_ratio=0.0, max_iter=200,\n",
       "    n_components=2, random_state=42, shuffle=False, solver='cd', tol=0.0001,\n",
       "    verbose=0)"
      ]
     },
     "execution_count": 11,
     "metadata": {},
     "output_type": "execute_result"
    }
   ],
   "source": [
    "from sklearn.decomposition import NMF\n",
    "\n",
    "nmf = NMF(n_components=2, random_state=42)\n",
    "nmf.fit(doc_term_matrix )"
   ]
  },
  {
   "cell_type": "code",
   "execution_count": 12,
   "metadata": {},
   "outputs": [
    {
     "name": "stdout",
     "output_type": "stream",
     "text": [
      "Top 10 words for topic #0:\n",
      "['euro', 'fuoco', 'militari', 'agenti', 'attività', 'donna', 'casa', 'via', 'polizia', 'carabinieri']\n",
      "\n",
      "\n",
      "Top 10 words for topic #1:\n",
      "['guariti', 'test', '19', 'tamponi', 'covid', 'provincia', 'coronavirus', 'pazienti', 'positivi', 'casi']\n",
      "\n",
      "\n"
     ]
    }
   ],
   "source": [
    "for i,topic in enumerate(nmf.components_):\n",
    "    print(f'Top 10 words for topic #{i}:')\n",
    "    print([tfidf_vect.get_feature_names()[i] for i in topic.argsort()[-10:]])\n",
    "    print('\\n')"
   ]
  },
  {
   "cell_type": "markdown",
   "metadata": {},
   "source": [
    "This works better, we don't have coronavirus in both"
   ]
  },
  {
   "cell_type": "code",
   "execution_count": 13,
   "metadata": {},
   "outputs": [
    {
     "data": {
      "text/html": [
       "<div>\n",
       "<style scoped>\n",
       "    .dataframe tbody tr th:only-of-type {\n",
       "        vertical-align: middle;\n",
       "    }\n",
       "\n",
       "    .dataframe tbody tr th {\n",
       "        vertical-align: top;\n",
       "    }\n",
       "\n",
       "    .dataframe thead th {\n",
       "        text-align: right;\n",
       "    }\n",
       "</style>\n",
       "<table border=\"1\" class=\"dataframe\">\n",
       "  <thead>\n",
       "    <tr style=\"text-align: right;\">\n",
       "      <th></th>\n",
       "      <th>title</th>\n",
       "      <th>content</th>\n",
       "      <th>date</th>\n",
       "      <th>author</th>\n",
       "      <th>region</th>\n",
       "      <th>zone</th>\n",
       "      <th>Topic</th>\n",
       "    </tr>\n",
       "  </thead>\n",
       "  <tbody>\n",
       "    <tr>\n",
       "      <th>0</th>\n",
       "      <td>D’Alberto alla riunione delle ANCI regionali c...</td>\n",
       "      <td>TERAMO – Il Presidente Gianguido D’Alberto ha ...</td>\n",
       "      <td>2020-04-15</td>\n",
       "      <td>Abruzzonews</td>\n",
       "      <td>Abruzzo</td>\n",
       "      <td>Centre</td>\n",
       "      <td>0</td>\n",
       "    </tr>\n",
       "    <tr>\n",
       "      <th>1</th>\n",
       "      <td>Coronavirus, le novità introdotte dal DPCM 10 ...</td>\n",
       "      <td>Sul sito del Ministero dell’Interno è stata pu...</td>\n",
       "      <td>2020-04-15</td>\n",
       "      <td>Abruzzonews</td>\n",
       "      <td>Abruzzo</td>\n",
       "      <td>Centre</td>\n",
       "      <td>0</td>\n",
       "    </tr>\n",
       "    <tr>\n",
       "      <th>2</th>\n",
       "      <td>Coronavirus, nuove misure per vendita generi a...</td>\n",
       "      <td>PESCARA – Oggi, mercoledì 15 aprile, il Presid...</td>\n",
       "      <td>2020-04-15</td>\n",
       "      <td>Abruzzonews</td>\n",
       "      <td>Abruzzo</td>\n",
       "      <td>Centre</td>\n",
       "      <td>1</td>\n",
       "    </tr>\n",
       "    <tr>\n",
       "      <th>3</th>\n",
       "      <td>Regione, ecco la guida per la formazione a dis...</td>\n",
       "      <td>PESCARA – Una vera e propria guida operativa i...</td>\n",
       "      <td>2020-04-15</td>\n",
       "      <td>Abruzzonews</td>\n",
       "      <td>Abruzzo</td>\n",
       "      <td>Centre</td>\n",
       "      <td>0</td>\n",
       "    </tr>\n",
       "    <tr>\n",
       "      <th>4</th>\n",
       "      <td>Ministro Amendola e Oddati all’iniziativa Pd A...</td>\n",
       "      <td>REGIONE – “Le scelte del Pd. Per l’Italia e pe...</td>\n",
       "      <td>2020-04-15</td>\n",
       "      <td>Abruzzonews</td>\n",
       "      <td>Abruzzo</td>\n",
       "      <td>Centre</td>\n",
       "      <td>1</td>\n",
       "    </tr>\n",
       "  </tbody>\n",
       "</table>\n",
       "</div>"
      ],
      "text/plain": [
       "                                               title  \\\n",
       "0  D’Alberto alla riunione delle ANCI regionali c...   \n",
       "1  Coronavirus, le novità introdotte dal DPCM 10 ...   \n",
       "2  Coronavirus, nuove misure per vendita generi a...   \n",
       "3  Regione, ecco la guida per la formazione a dis...   \n",
       "4  Ministro Amendola e Oddati all’iniziativa Pd A...   \n",
       "\n",
       "                                             content        date       author  \\\n",
       "0  TERAMO – Il Presidente Gianguido D’Alberto ha ...  2020-04-15  Abruzzonews   \n",
       "1  Sul sito del Ministero dell’Interno è stata pu...  2020-04-15  Abruzzonews   \n",
       "2  PESCARA – Oggi, mercoledì 15 aprile, il Presid...  2020-04-15  Abruzzonews   \n",
       "3  PESCARA – Una vera e propria guida operativa i...  2020-04-15  Abruzzonews   \n",
       "4  REGIONE – “Le scelte del Pd. Per l’Italia e pe...  2020-04-15  Abruzzonews   \n",
       "\n",
       "    region    zone  Topic  \n",
       "0  Abruzzo  Centre      0  \n",
       "1  Abruzzo  Centre      0  \n",
       "2  Abruzzo  Centre      1  \n",
       "3  Abruzzo  Centre      0  \n",
       "4  Abruzzo  Centre      1  "
      ]
     },
     "execution_count": 13,
     "metadata": {},
     "output_type": "execute_result"
    }
   ],
   "source": [
    "topic_values = nmf.transform(doc_term_matrix)\n",
    "articles['Topic'] = topic_values.argmax(axis=1)\n",
    "articles.head()"
   ]
  }
 ],
 "metadata": {
  "kernelspec": {
   "display_name": "Python 3",
   "language": "python",
   "name": "python3"
  },
  "language_info": {
   "codemirror_mode": {
    "name": "ipython",
    "version": 3
   },
   "file_extension": ".py",
   "mimetype": "text/x-python",
   "name": "python",
   "nbconvert_exporter": "python",
   "pygments_lexer": "ipython3",
   "version": "3.7.6"
  }
 },
 "nbformat": 4,
 "nbformat_minor": 2
}
