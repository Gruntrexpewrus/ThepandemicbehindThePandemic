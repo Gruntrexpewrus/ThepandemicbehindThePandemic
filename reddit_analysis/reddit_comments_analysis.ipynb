{
  "nbformat": 4,
  "nbformat_minor": 0,
  "metadata": {
    "colab": {
      "name": "reddit_comments_analysis.ipynb",
      "provenance": []
    },
    "kernelspec": {
      "name": "python3",
      "display_name": "Python 3"
    }
  },
  "cells": [
    {
      "cell_type": "code",
      "metadata": {
        "id": "FOq4YCUyvenB",
        "colab_type": "code",
        "colab": {}
      },
      "source": [
        "import pandas as pd"
      ],
      "execution_count": 2,
      "outputs": []
    },
    {
      "cell_type": "code",
      "metadata": {
        "id": "qrKb2VAfvjaT",
        "colab_type": "code",
        "colab": {}
      },
      "source": [
        "reddit_data = pd.read_csv( '/content/drive/My Drive/Topic detection/reddit_final.csv',index_col = 0)"
      ],
      "execution_count": 29,
      "outputs": []
    },
    {
      "cell_type": "code",
      "metadata": {
        "id": "Qm38aneIwfjG",
        "colab_type": "code",
        "colab": {
          "base_uri": "https://localhost:8080/",
          "height": 34
        },
        "outputId": "5bd5d474-a6de-4f61-82d2-8bee3d123e8d"
      },
      "source": [
        "reddit_data.shape"
      ],
      "execution_count": null,
      "outputs": [
        {
          "output_type": "execute_result",
          "data": {
            "text/plain": [
              "(154656, 8)"
            ]
          },
          "metadata": {
            "tags": []
          },
          "execution_count": 75
        }
      ]
    },
    {
      "cell_type": "code",
      "metadata": {
        "id": "qcm1BKyEwfmf",
        "colab_type": "code",
        "colab": {}
      },
      "source": [
        "reddit_data.drop(  ['Submission ID','Text','ID','Top Level','Parent ID','Processed Text','BERT Text'] ,axis=1, inplace = True)"
      ],
      "execution_count": 30,
      "outputs": []
    },
    {
      "cell_type": "code",
      "metadata": {
        "id": "kmqhulgpwfrM",
        "colab_type": "code",
        "colab": {
          "base_uri": "https://localhost:8080/",
          "height": 197
        },
        "outputId": "0db422dc-1999-4502-e89e-077134c2b220"
      },
      "source": [
        "reddit_data.head()"
      ],
      "execution_count": 247,
      "outputs": [
        {
          "output_type": "execute_result",
          "data": {
            "text/html": [
              "<div>\n",
              "<style scoped>\n",
              "    .dataframe tbody tr th:only-of-type {\n",
              "        vertical-align: middle;\n",
              "    }\n",
              "\n",
              "    .dataframe tbody tr th {\n",
              "        vertical-align: top;\n",
              "    }\n",
              "\n",
              "    .dataframe thead th {\n",
              "        text-align: right;\n",
              "    }\n",
              "</style>\n",
              "<table border=\"1\" class=\"dataframe\">\n",
              "  <thead>\n",
              "    <tr style=\"text-align: right;\">\n",
              "      <th></th>\n",
              "      <th>Author</th>\n",
              "      <th>Hour</th>\n",
              "      <th>Minute</th>\n",
              "      <th>Second</th>\n",
              "      <th>#Upvotes</th>\n",
              "      <th>DATE</th>\n",
              "      <th>Sentiment</th>\n",
              "      <th>Topic</th>\n",
              "    </tr>\n",
              "  </thead>\n",
              "  <tbody>\n",
              "    <tr>\n",
              "      <th>0</th>\n",
              "      <td>Lord_TheJc</td>\n",
              "      <td>12</td>\n",
              "      <td>25</td>\n",
              "      <td>40</td>\n",
              "      <td>1</td>\n",
              "      <td>22-2-2020</td>\n",
              "      <td>0</td>\n",
              "      <td>1</td>\n",
              "    </tr>\n",
              "    <tr>\n",
              "      <th>1</th>\n",
              "      <td>EMOSCAMBIO</td>\n",
              "      <td>18</td>\n",
              "      <td>52</td>\n",
              "      <td>58</td>\n",
              "      <td>83</td>\n",
              "      <td>22-2-2020</td>\n",
              "      <td>2</td>\n",
              "      <td>2</td>\n",
              "    </tr>\n",
              "    <tr>\n",
              "      <th>2</th>\n",
              "      <td>drstins_n</td>\n",
              "      <td>21</td>\n",
              "      <td>40</td>\n",
              "      <td>54</td>\n",
              "      <td>77</td>\n",
              "      <td>22-2-2020</td>\n",
              "      <td>0</td>\n",
              "      <td>2</td>\n",
              "    </tr>\n",
              "    <tr>\n",
              "      <th>3</th>\n",
              "      <td>IceTea666</td>\n",
              "      <td>22</td>\n",
              "      <td>17</td>\n",
              "      <td>8</td>\n",
              "      <td>75</td>\n",
              "      <td>22-2-2020</td>\n",
              "      <td>2</td>\n",
              "      <td>0</td>\n",
              "    </tr>\n",
              "    <tr>\n",
              "      <th>4</th>\n",
              "      <td>panoramegamix</td>\n",
              "      <td>17</td>\n",
              "      <td>52</td>\n",
              "      <td>2</td>\n",
              "      <td>122</td>\n",
              "      <td>22-2-2020</td>\n",
              "      <td>1</td>\n",
              "      <td>0</td>\n",
              "    </tr>\n",
              "  </tbody>\n",
              "</table>\n",
              "</div>"
            ],
            "text/plain": [
              "          Author  Hour  Minute  Second  #Upvotes       DATE  Sentiment  Topic\n",
              "0     Lord_TheJc    12      25      40         1  22-2-2020          0      1\n",
              "1     EMOSCAMBIO    18      52      58        83  22-2-2020          2      2\n",
              "2      drstins_n    21      40      54        77  22-2-2020          0      2\n",
              "3      IceTea666    22      17       8        75  22-2-2020          2      0\n",
              "4  panoramegamix    17      52       2       122  22-2-2020          1      0"
            ]
          },
          "metadata": {
            "tags": []
          },
          "execution_count": 247
        }
      ]
    },
    {
      "cell_type": "code",
      "metadata": {
        "id": "4u8fEQu3a15a",
        "colab_type": "code",
        "colab": {
          "base_uri": "https://localhost:8080/",
          "height": 289
        },
        "outputId": "fd21fa40-36bc-47c8-8574-a76974b907d9"
      },
      "source": [
        "reddit_data['DATE'].unique()"
      ],
      "execution_count": null,
      "outputs": [
        {
          "output_type": "execute_result",
          "data": {
            "text/plain": [
              "array(['22-2-2020', '23-2-2020', '24-2-2020', '25-2-2020', '26-2-2020',\n",
              "       '27-2-2020', '28-2-2020', '29-2-2020', '1-3-2020', '2-3-2020',\n",
              "       '3-3-2020', '4-3-2020', '5-3-2020', '6-3-2020', '7-3-2020',\n",
              "       '8-3-2020', '9-3-2020', '10-3-2020', '11-3-2020', '12-3-2020',\n",
              "       '13-3-2020', '14-3-2020', '15-3-2020', '16-3-2020', '17-3-2020',\n",
              "       '18-3-2020', '19-3-2020', '20-3-2020', '21-3-2020', '22-3-2020',\n",
              "       '23-3-2020', '24-3-2020', '25-3-2020', '26-3-2020', '27-3-2020',\n",
              "       '28-3-2020', '29-3-2020', '30-3-2020', '31-3-2020', '1-4-2020',\n",
              "       '2-4-2020', '3-4-2020', '4-4-2020', '5-4-2020', '6-4-2020',\n",
              "       '7-4-2020', '8-4-2020', '9-4-2020', '10-4-2020', '11-4-2020',\n",
              "       '12-4-2020', '13-4-2020', '14-4-2020', '15-4-2020', '16-4-2020',\n",
              "       '17-4-2020', '18-4-2020', '19-4-2020', '20-4-2020', '21-4-2020',\n",
              "       '22-4-2020', '23-4-2020', '24-4-2020', '25-4-2020', '28-4-2020',\n",
              "       '29-4-2020', '30-4-2020', '1-5-2020', '2-5-2020', '3-5-2020',\n",
              "       '4-5-2020', '5-5-2020', '6-5-2020', '7-5-2020', '8-5-2020',\n",
              "       '9-5-2020', '10-5-2020'], dtype=object)"
            ]
          },
          "metadata": {
            "tags": []
          },
          "execution_count": 131
        }
      ]
    },
    {
      "cell_type": "code",
      "metadata": {
        "id": "4XirGSLZwfuQ",
        "colab_type": "code",
        "colab": {}
      },
      "source": [
        "r1 = reddit_data.groupby(['DATE','Sentiment']).Sentiment.agg('count').to_frame('sentiment_per_day').reset_index()\n",
        "#r1['DATE'] =pd.to_datetime(r1.DATE)\n",
        "  \n",
        "r1 = r1.sort_values('DATE')\n"
      ],
      "execution_count": 31,
      "outputs": []
    },
    {
      "cell_type": "code",
      "metadata": {
        "id": "iAnVKbTr5GD-",
        "colab_type": "code",
        "colab": {
          "base_uri": "https://localhost:8080/",
          "height": 406
        },
        "outputId": "2c54191f-0a54-4858-b528-922b05821d30"
      },
      "source": [
        "r2 = pd.DataFrame()\n",
        "r2['DATE']=r1['DATE']\n",
        "#r2 = r2.sort_values(by=['DATE'])\n",
        "r2['Neutral_sen'] = r1.apply(lambda x: x['sentiment_per_day'] if x['Sentiment']==0 else 0, axis=1)\n",
        "r2 = r2[r2.Neutral_sen != 0]\n",
        "r2 = r2.reset_index()\n",
        "r2=r2.drop('index',axis=1)\n",
        "\n",
        "\n",
        "r3 = pd.DataFrame()\n",
        "r3['DATE']=r1['DATE']\n",
        "#r3 = r3.sort_values(by=['DATE'])\n",
        "r3['Positive_sen'] = r1.apply(lambda x: x['sentiment_per_day'] if x['Sentiment']==1 else 0, axis=1)\n",
        "r3 = r3[r3.Positive_sen != 0]\n",
        "r3 = r3.reset_index()\n",
        "r3=r3.drop('index',axis=1)\n",
        "\n",
        "r4 = pd.DataFrame()\n",
        "r4['DATE']=r1['DATE']\n",
        "#r4 = r4.sort_values(by=['DATE'])\n",
        "r4['Negative_sen'] = r1.apply(lambda x: x['sentiment_per_day'] if x['Sentiment']==2 else 0, axis=1)\n",
        "r4 = r4[r4.Negative_sen != 0]\n",
        "r4 = r4.reset_index()\n",
        "r4=r4.drop('index',axis=1)\n",
        "\n",
        "\n",
        "\n",
        "r4"
      ],
      "execution_count": 32,
      "outputs": [
        {
          "output_type": "execute_result",
          "data": {
            "text/html": [
              "<div>\n",
              "<style scoped>\n",
              "    .dataframe tbody tr th:only-of-type {\n",
              "        vertical-align: middle;\n",
              "    }\n",
              "\n",
              "    .dataframe tbody tr th {\n",
              "        vertical-align: top;\n",
              "    }\n",
              "\n",
              "    .dataframe thead th {\n",
              "        text-align: right;\n",
              "    }\n",
              "</style>\n",
              "<table border=\"1\" class=\"dataframe\">\n",
              "  <thead>\n",
              "    <tr style=\"text-align: right;\">\n",
              "      <th></th>\n",
              "      <th>DATE</th>\n",
              "      <th>Negative_sen</th>\n",
              "    </tr>\n",
              "  </thead>\n",
              "  <tbody>\n",
              "    <tr>\n",
              "      <th>0</th>\n",
              "      <td>1-3-2020</td>\n",
              "      <td>441</td>\n",
              "    </tr>\n",
              "    <tr>\n",
              "      <th>1</th>\n",
              "      <td>1-4-2020</td>\n",
              "      <td>724</td>\n",
              "    </tr>\n",
              "    <tr>\n",
              "      <th>2</th>\n",
              "      <td>1-5-2020</td>\n",
              "      <td>234</td>\n",
              "    </tr>\n",
              "    <tr>\n",
              "      <th>3</th>\n",
              "      <td>10-3-2020</td>\n",
              "      <td>1791</td>\n",
              "    </tr>\n",
              "    <tr>\n",
              "      <th>4</th>\n",
              "      <td>10-4-2020</td>\n",
              "      <td>896</td>\n",
              "    </tr>\n",
              "    <tr>\n",
              "      <th>...</th>\n",
              "      <td>...</td>\n",
              "      <td>...</td>\n",
              "    </tr>\n",
              "    <tr>\n",
              "      <th>72</th>\n",
              "      <td>8-4-2020</td>\n",
              "      <td>749</td>\n",
              "    </tr>\n",
              "    <tr>\n",
              "      <th>73</th>\n",
              "      <td>8-5-2020</td>\n",
              "      <td>274</td>\n",
              "    </tr>\n",
              "    <tr>\n",
              "      <th>74</th>\n",
              "      <td>9-3-2020</td>\n",
              "      <td>2233</td>\n",
              "    </tr>\n",
              "    <tr>\n",
              "      <th>75</th>\n",
              "      <td>9-4-2020</td>\n",
              "      <td>944</td>\n",
              "    </tr>\n",
              "    <tr>\n",
              "      <th>76</th>\n",
              "      <td>9-5-2020</td>\n",
              "      <td>121</td>\n",
              "    </tr>\n",
              "  </tbody>\n",
              "</table>\n",
              "<p>77 rows × 2 columns</p>\n",
              "</div>"
            ],
            "text/plain": [
              "         DATE  Negative_sen\n",
              "0    1-3-2020           441\n",
              "1    1-4-2020           724\n",
              "2    1-5-2020           234\n",
              "3   10-3-2020          1791\n",
              "4   10-4-2020           896\n",
              "..        ...           ...\n",
              "72   8-4-2020           749\n",
              "73   8-5-2020           274\n",
              "74   9-3-2020          2233\n",
              "75   9-4-2020           944\n",
              "76   9-5-2020           121\n",
              "\n",
              "[77 rows x 2 columns]"
            ]
          },
          "metadata": {
            "tags": []
          },
          "execution_count": 32
        }
      ]
    },
    {
      "cell_type": "code",
      "metadata": {
        "id": "u3d9KN8EDjFb",
        "colab_type": "code",
        "colab": {
          "base_uri": "https://localhost:8080/",
          "height": 406
        },
        "outputId": "e958337f-f236-4d54-c9e4-37fc52f2fb56"
      },
      "source": [
        "from functools import reduce\n",
        "\n",
        "senti = reduce(lambda x,y: pd.merge(x,y, on='DATE', how='outer'), [r2, r3, r4])\n",
        "senti['DATE'] =pd.to_datetime(senti.DATE,dayfirst=True)\n",
        "senti = senti.sort_values(by=['DATE']).reset_index().drop('index',axis=1)\n",
        "\n",
        "\n",
        "senti"
      ],
      "execution_count": 33,
      "outputs": [
        {
          "output_type": "execute_result",
          "data": {
            "text/html": [
              "<div>\n",
              "<style scoped>\n",
              "    .dataframe tbody tr th:only-of-type {\n",
              "        vertical-align: middle;\n",
              "    }\n",
              "\n",
              "    .dataframe tbody tr th {\n",
              "        vertical-align: top;\n",
              "    }\n",
              "\n",
              "    .dataframe thead th {\n",
              "        text-align: right;\n",
              "    }\n",
              "</style>\n",
              "<table border=\"1\" class=\"dataframe\">\n",
              "  <thead>\n",
              "    <tr style=\"text-align: right;\">\n",
              "      <th></th>\n",
              "      <th>DATE</th>\n",
              "      <th>Neutral_sen</th>\n",
              "      <th>Positive_sen</th>\n",
              "      <th>Negative_sen</th>\n",
              "    </tr>\n",
              "  </thead>\n",
              "  <tbody>\n",
              "    <tr>\n",
              "      <th>0</th>\n",
              "      <td>2020-02-22</td>\n",
              "      <td>900</td>\n",
              "      <td>468</td>\n",
              "      <td>938</td>\n",
              "    </tr>\n",
              "    <tr>\n",
              "      <th>1</th>\n",
              "      <td>2020-02-23</td>\n",
              "      <td>1320</td>\n",
              "      <td>777</td>\n",
              "      <td>1509</td>\n",
              "    </tr>\n",
              "    <tr>\n",
              "      <th>2</th>\n",
              "      <td>2020-02-24</td>\n",
              "      <td>1500</td>\n",
              "      <td>781</td>\n",
              "      <td>1733</td>\n",
              "    </tr>\n",
              "    <tr>\n",
              "      <th>3</th>\n",
              "      <td>2020-02-25</td>\n",
              "      <td>1256</td>\n",
              "      <td>615</td>\n",
              "      <td>1403</td>\n",
              "    </tr>\n",
              "    <tr>\n",
              "      <th>4</th>\n",
              "      <td>2020-02-26</td>\n",
              "      <td>1007</td>\n",
              "      <td>556</td>\n",
              "      <td>1126</td>\n",
              "    </tr>\n",
              "    <tr>\n",
              "      <th>...</th>\n",
              "      <td>...</td>\n",
              "      <td>...</td>\n",
              "      <td>...</td>\n",
              "      <td>...</td>\n",
              "    </tr>\n",
              "    <tr>\n",
              "      <th>72</th>\n",
              "      <td>2020-05-06</td>\n",
              "      <td>181</td>\n",
              "      <td>102</td>\n",
              "      <td>201</td>\n",
              "    </tr>\n",
              "    <tr>\n",
              "      <th>73</th>\n",
              "      <td>2020-05-07</td>\n",
              "      <td>147</td>\n",
              "      <td>108</td>\n",
              "      <td>244</td>\n",
              "    </tr>\n",
              "    <tr>\n",
              "      <th>74</th>\n",
              "      <td>2020-05-08</td>\n",
              "      <td>197</td>\n",
              "      <td>106</td>\n",
              "      <td>274</td>\n",
              "    </tr>\n",
              "    <tr>\n",
              "      <th>75</th>\n",
              "      <td>2020-05-09</td>\n",
              "      <td>110</td>\n",
              "      <td>65</td>\n",
              "      <td>121</td>\n",
              "    </tr>\n",
              "    <tr>\n",
              "      <th>76</th>\n",
              "      <td>2020-05-10</td>\n",
              "      <td>114</td>\n",
              "      <td>79</td>\n",
              "      <td>118</td>\n",
              "    </tr>\n",
              "  </tbody>\n",
              "</table>\n",
              "<p>77 rows × 4 columns</p>\n",
              "</div>"
            ],
            "text/plain": [
              "         DATE  Neutral_sen  Positive_sen  Negative_sen\n",
              "0  2020-02-22          900           468           938\n",
              "1  2020-02-23         1320           777          1509\n",
              "2  2020-02-24         1500           781          1733\n",
              "3  2020-02-25         1256           615          1403\n",
              "4  2020-02-26         1007           556          1126\n",
              "..        ...          ...           ...           ...\n",
              "72 2020-05-06          181           102           201\n",
              "73 2020-05-07          147           108           244\n",
              "74 2020-05-08          197           106           274\n",
              "75 2020-05-09          110            65           121\n",
              "76 2020-05-10          114            79           118\n",
              "\n",
              "[77 rows x 4 columns]"
            ]
          },
          "metadata": {
            "tags": []
          },
          "execution_count": 33
        }
      ]
    },
    {
      "cell_type": "code",
      "metadata": {
        "id": "EIkON2PcgkCY",
        "colab_type": "code",
        "colab": {
          "base_uri": "https://localhost:8080/",
          "height": 197
        },
        "outputId": "8ba96c16-12b1-4d56-99be-084e2a5f7fc9"
      },
      "source": [
        "m1 = reddit_data.groupby(['DATE','Topic']).Topic.agg('count').to_frame('topic_per_day').reset_index()\n",
        " \n",
        "m1 = m1.sort_values('DATE')\n",
        "\n",
        "\n",
        "m2 = pd.DataFrame()\n",
        "m2['DATE']=m1['DATE']\n",
        "#r2 = r2.sort_values(by=['DATE'])\n",
        "m2['topic_covid_impact'] = m1.apply(lambda x: x['topic_per_day'] if x['Topic']==0 else 0, axis=1)\n",
        "m2 = m2[m2.topic_covid_impact != 0]\n",
        "m2 = m2.reset_index()\n",
        "m2=m2.drop('index',axis=1)\n",
        "\n",
        "\n",
        "m3 = pd.DataFrame()\n",
        "m3['DATE']=m1['DATE']\n",
        "#r3 = r3.sort_values(by=['DATE'])\n",
        "m3['topic_other_countries'] = m1.apply(lambda x: x['topic_per_day'] if x['Topic']==1 else 0, axis=1)\n",
        "m3 = m3[m3.topic_other_countries != 0]\n",
        "m3 = m3.reset_index()\n",
        "m3=m3.drop('index',axis=1)\n",
        "\n",
        "m4 = pd.DataFrame()\n",
        "m4['DATE']=m1['DATE']\n",
        "#r4 = r4.sort_values(by=['DATE'])\n",
        "m4['topic_number_data'] = m1.apply(lambda x: x['topic_per_day'] if x['Topic']==2 else 0, axis=1)\n",
        "m4 = m4[m4.topic_number_data != 0]\n",
        "m4 = m4.reset_index()\n",
        "m4=m4.drop('index',axis=1)\n",
        "\n",
        "m4.head()"
      ],
      "execution_count": 34,
      "outputs": [
        {
          "output_type": "execute_result",
          "data": {
            "text/html": [
              "<div>\n",
              "<style scoped>\n",
              "    .dataframe tbody tr th:only-of-type {\n",
              "        vertical-align: middle;\n",
              "    }\n",
              "\n",
              "    .dataframe tbody tr th {\n",
              "        vertical-align: top;\n",
              "    }\n",
              "\n",
              "    .dataframe thead th {\n",
              "        text-align: right;\n",
              "    }\n",
              "</style>\n",
              "<table border=\"1\" class=\"dataframe\">\n",
              "  <thead>\n",
              "    <tr style=\"text-align: right;\">\n",
              "      <th></th>\n",
              "      <th>DATE</th>\n",
              "      <th>topic_number_data</th>\n",
              "    </tr>\n",
              "  </thead>\n",
              "  <tbody>\n",
              "    <tr>\n",
              "      <th>0</th>\n",
              "      <td>1-3-2020</td>\n",
              "      <td>237</td>\n",
              "    </tr>\n",
              "    <tr>\n",
              "      <th>1</th>\n",
              "      <td>1-4-2020</td>\n",
              "      <td>328</td>\n",
              "    </tr>\n",
              "    <tr>\n",
              "      <th>2</th>\n",
              "      <td>1-5-2020</td>\n",
              "      <td>111</td>\n",
              "    </tr>\n",
              "    <tr>\n",
              "      <th>3</th>\n",
              "      <td>10-3-2020</td>\n",
              "      <td>798</td>\n",
              "    </tr>\n",
              "    <tr>\n",
              "      <th>4</th>\n",
              "      <td>10-4-2020</td>\n",
              "      <td>470</td>\n",
              "    </tr>\n",
              "  </tbody>\n",
              "</table>\n",
              "</div>"
            ],
            "text/plain": [
              "        DATE  topic_number_data\n",
              "0   1-3-2020                237\n",
              "1   1-4-2020                328\n",
              "2   1-5-2020                111\n",
              "3  10-3-2020                798\n",
              "4  10-4-2020                470"
            ]
          },
          "metadata": {
            "tags": []
          },
          "execution_count": 34
        }
      ]
    },
    {
      "cell_type": "code",
      "metadata": {
        "id": "eIUzdnr_gkdC",
        "colab_type": "code",
        "colab": {
          "base_uri": "https://localhost:8080/",
          "height": 406
        },
        "outputId": "f0d5ffa2-9c22-44f4-ddf3-d2b46e40dae9"
      },
      "source": [
        "\n",
        "topic = reduce(lambda x,y: pd.merge(x,y, on='DATE', how='outer'), [m2, m3, m4])\n",
        "topic.head()\n",
        "topic['DATE'] =pd.to_datetime(topic.DATE,dayfirst=True)\n",
        "topic = topic.sort_values(by=['DATE']).reset_index().drop('index',axis=1)\n",
        "topic"
      ],
      "execution_count": 35,
      "outputs": [
        {
          "output_type": "execute_result",
          "data": {
            "text/html": [
              "<div>\n",
              "<style scoped>\n",
              "    .dataframe tbody tr th:only-of-type {\n",
              "        vertical-align: middle;\n",
              "    }\n",
              "\n",
              "    .dataframe tbody tr th {\n",
              "        vertical-align: top;\n",
              "    }\n",
              "\n",
              "    .dataframe thead th {\n",
              "        text-align: right;\n",
              "    }\n",
              "</style>\n",
              "<table border=\"1\" class=\"dataframe\">\n",
              "  <thead>\n",
              "    <tr style=\"text-align: right;\">\n",
              "      <th></th>\n",
              "      <th>DATE</th>\n",
              "      <th>topic_covid_impact</th>\n",
              "      <th>topic_other_countries</th>\n",
              "      <th>topic_number_data</th>\n",
              "    </tr>\n",
              "  </thead>\n",
              "  <tbody>\n",
              "    <tr>\n",
              "      <th>0</th>\n",
              "      <td>2020-02-22</td>\n",
              "      <td>1389</td>\n",
              "      <td>268</td>\n",
              "      <td>649</td>\n",
              "    </tr>\n",
              "    <tr>\n",
              "      <th>1</th>\n",
              "      <td>2020-02-23</td>\n",
              "      <td>2168</td>\n",
              "      <td>472</td>\n",
              "      <td>966</td>\n",
              "    </tr>\n",
              "    <tr>\n",
              "      <th>2</th>\n",
              "      <td>2020-02-24</td>\n",
              "      <td>2378</td>\n",
              "      <td>631</td>\n",
              "      <td>1005</td>\n",
              "    </tr>\n",
              "    <tr>\n",
              "      <th>3</th>\n",
              "      <td>2020-02-25</td>\n",
              "      <td>2005</td>\n",
              "      <td>459</td>\n",
              "      <td>810</td>\n",
              "    </tr>\n",
              "    <tr>\n",
              "      <th>4</th>\n",
              "      <td>2020-02-26</td>\n",
              "      <td>1649</td>\n",
              "      <td>425</td>\n",
              "      <td>615</td>\n",
              "    </tr>\n",
              "    <tr>\n",
              "      <th>...</th>\n",
              "      <td>...</td>\n",
              "      <td>...</td>\n",
              "      <td>...</td>\n",
              "      <td>...</td>\n",
              "    </tr>\n",
              "    <tr>\n",
              "      <th>72</th>\n",
              "      <td>2020-05-06</td>\n",
              "      <td>338</td>\n",
              "      <td>39</td>\n",
              "      <td>107</td>\n",
              "    </tr>\n",
              "    <tr>\n",
              "      <th>73</th>\n",
              "      <td>2020-05-07</td>\n",
              "      <td>359</td>\n",
              "      <td>49</td>\n",
              "      <td>91</td>\n",
              "    </tr>\n",
              "    <tr>\n",
              "      <th>74</th>\n",
              "      <td>2020-05-08</td>\n",
              "      <td>405</td>\n",
              "      <td>60</td>\n",
              "      <td>112</td>\n",
              "    </tr>\n",
              "    <tr>\n",
              "      <th>75</th>\n",
              "      <td>2020-05-09</td>\n",
              "      <td>191</td>\n",
              "      <td>37</td>\n",
              "      <td>68</td>\n",
              "    </tr>\n",
              "    <tr>\n",
              "      <th>76</th>\n",
              "      <td>2020-05-10</td>\n",
              "      <td>205</td>\n",
              "      <td>29</td>\n",
              "      <td>77</td>\n",
              "    </tr>\n",
              "  </tbody>\n",
              "</table>\n",
              "<p>77 rows × 4 columns</p>\n",
              "</div>"
            ],
            "text/plain": [
              "         DATE  topic_covid_impact  topic_other_countries  topic_number_data\n",
              "0  2020-02-22                1389                    268                649\n",
              "1  2020-02-23                2168                    472                966\n",
              "2  2020-02-24                2378                    631               1005\n",
              "3  2020-02-25                2005                    459                810\n",
              "4  2020-02-26                1649                    425                615\n",
              "..        ...                 ...                    ...                ...\n",
              "72 2020-05-06                 338                     39                107\n",
              "73 2020-05-07                 359                     49                 91\n",
              "74 2020-05-08                 405                     60                112\n",
              "75 2020-05-09                 191                     37                 68\n",
              "76 2020-05-10                 205                     29                 77\n",
              "\n",
              "[77 rows x 4 columns]"
            ]
          },
          "metadata": {
            "tags": []
          },
          "execution_count": 35
        }
      ]
    },
    {
      "cell_type": "code",
      "metadata": {
        "id": "KyAH2Iy_gkjH",
        "colab_type": "code",
        "colab": {
          "base_uri": "https://localhost:8080/",
          "height": 142
        },
        "outputId": "2ae5782d-aa3d-43ff-859e-d4ec35a73fc0"
      },
      "source": [
        "topic[topic.DATE == '2020-03-04']"
      ],
      "execution_count": null,
      "outputs": [
        {
          "output_type": "execute_result",
          "data": {
            "text/html": [
              "<div>\n",
              "<style scoped>\n",
              "    .dataframe tbody tr th:only-of-type {\n",
              "        vertical-align: middle;\n",
              "    }\n",
              "\n",
              "    .dataframe tbody tr th {\n",
              "        vertical-align: top;\n",
              "    }\n",
              "\n",
              "    .dataframe thead th {\n",
              "        text-align: right;\n",
              "    }\n",
              "</style>\n",
              "<table border=\"1\" class=\"dataframe\">\n",
              "  <thead>\n",
              "    <tr style=\"text-align: right;\">\n",
              "      <th></th>\n",
              "      <th>DATE</th>\n",
              "      <th>cols</th>\n",
              "      <th>vals</th>\n",
              "    </tr>\n",
              "  </thead>\n",
              "  <tbody>\n",
              "    <tr>\n",
              "      <th>11</th>\n",
              "      <td>2020-03-04</td>\n",
              "      <td>topic_covid_imact</td>\n",
              "      <td>1247</td>\n",
              "    </tr>\n",
              "    <tr>\n",
              "      <th>88</th>\n",
              "      <td>2020-03-04</td>\n",
              "      <td>topic_other_countries</td>\n",
              "      <td>227</td>\n",
              "    </tr>\n",
              "    <tr>\n",
              "      <th>165</th>\n",
              "      <td>2020-03-04</td>\n",
              "      <td>topic_number_data</td>\n",
              "      <td>520</td>\n",
              "    </tr>\n",
              "  </tbody>\n",
              "</table>\n",
              "</div>"
            ],
            "text/plain": [
              "          DATE                   cols  vals\n",
              "11  2020-03-04      topic_covid_imact  1247\n",
              "88  2020-03-04  topic_other_countries   227\n",
              "165 2020-03-04      topic_number_data   520"
            ]
          },
          "metadata": {
            "tags": []
          },
          "execution_count": 187
        }
      ]
    },
    {
      "cell_type": "code",
      "metadata": {
        "id": "5lQoGIwjgkgl",
        "colab_type": "code",
        "colab": {}
      },
      "source": [
        ""
      ],
      "execution_count": null,
      "outputs": []
    },
    {
      "cell_type": "code",
      "metadata": {
        "id": "aE36uWtzP37f",
        "colab_type": "code",
        "colab": {
          "base_uri": "https://localhost:8080/",
          "height": 88
        },
        "outputId": "c53d85ac-4925-47a5-e65d-a9924b59cad5"
      },
      "source": [
        "'''import matplotlib.pyplot as plt\n",
        "import seaborn as sns\n",
        "#fig, ax = plt.subplots(figsize=(10, 10)) \n",
        "topic = topic.melt('DATE', var_name='cols', value_name='vals')\n",
        "fig, ax = plt.subplots(figsize=(10, 10))  \n",
        "#dates = topic['DATE'].to_list()\n",
        "sns.lineplot(x=\"DATE\", y=\"vals\", hue='cols', data=topic, ax=ax)\n",
        "sns.set_palette('#8e7cc3ff')\n",
        "plt.xlabel('Date')\n",
        "plt.ylabel('Number of comments')\n",
        "plt.title('snetiment of comments during time')'''"
      ],
      "execution_count": 246,
      "outputs": [
        {
          "output_type": "execute_result",
          "data": {
            "application/vnd.google.colaboratory.intrinsic+json": {
              "type": "string"
            },
            "text/plain": [
              "'import matplotlib.pyplot as plt\\nimport seaborn as sns\\n#fig, ax = plt.subplots(figsize=(10, 10)) \\ntopic = topic.melt(\\'DATE\\', var_name=\\'cols\\', value_name=\\'vals\\')\\nfig, ax = plt.subplots(figsize=(10, 10))  \\n#dates = topic[\\'DATE\\'].to_list()\\nsns.lineplot(x=\"DATE\", y=\"vals\", hue=\\'cols\\', data=topic, ax=ax)\\nsns.set_palette(\\'#8e7cc3ff\\')\\nplt.xlabel(\\'Date\\')\\nplt.ylabel(\\'Number of comments\\')\\nplt.title(\\'snetiment of comments during time\\')'"
            ]
          },
          "metadata": {
            "tags": []
          },
          "execution_count": 246
        }
      ]
    },
    {
      "cell_type": "code",
      "metadata": {
        "id": "npJarIO1fLUs",
        "colab_type": "code",
        "colab": {
          "base_uri": "https://localhost:8080/",
          "height": 264
        },
        "outputId": "7b3e380e-0c0e-4b9e-cb9d-8a739c0c7160"
      },
      "source": [
        "scount = senti.sum(axis=0)\n",
        "scount.plot.pie(autopct='%1.1f%%',colors =['#67032F','#9867C5','#c27ba0ff'])\n",
        "plt.title('distribution of comments')\n",
        "plt.savefig('piesenit.png')"
      ],
      "execution_count": 38,
      "outputs": [
        {
          "output_type": "display_data",
          "data": {
            "image/png": "[encoded data removed]",
            "text/plain": [
              "<Figure size 432x288 with 1 Axes>"
            ]
          },
          "metadata": {
            "tags": []
          }
        }
      ]
    },
    {
      "cell_type": "code",
      "metadata": {
        "id": "1RXsAHejfLki",
        "colab_type": "code",
        "colab": {
          "base_uri": "https://localhost:8080/",
          "height": 264
        },
        "outputId": "75eea712-b656-4438-f3d7-8e78c438e50a"
      },
      "source": [
        "topic_count =  topic.sum(axis=0)\n",
        "topic_count.plot.pie( autopct='%1.1f%%',colors =['#9867C5','#c27ba0ff','#67032F'])\n",
        "plt.title('distribution of comments')\n",
        "plt.savefig('pie_topic.png')\n",
        "#'#67032F"
      ],
      "execution_count": 36,
      "outputs": [
        {
          "output_type": "display_data",
          "data": {
            "image/png": "[encoded data removed]",
            "text/plain": [
              "<Figure size 432x288 with 1 Axes>"
            ]
          },
          "metadata": {
            "tags": []
          }
        }
      ]
    },
    {
      "cell_type": "code",
      "metadata": {
        "id": "Twl7447xfLvo",
        "colab_type": "code",
        "colab": {}
      },
      "source": [
        ""
      ],
      "execution_count": null,
      "outputs": []
    },
    {
      "cell_type": "code",
      "metadata": {
        "id": "6FDcSHySS0ni",
        "colab_type": "code",
        "colab": {
          "base_uri": "https://localhost:8080/",
          "height": 350
        },
        "outputId": "e8ada2d4-aff0-49b2-b311-2d5cf713b158"
      },
      "source": [
        "import matplotlib.pyplot as plt\n",
        "senti.plot(x='DATE', y=['Negative_sen', 'Positive_sen','Neutral_sen'], figsize=(10,5), grid=True, \n",
        "           color =['#67032F','#9867C5','#c27ba0ff'])\n",
        "plt.ylabel('Number of comments')\n",
        "plt.title('snetiment of comments during time')\n",
        "plt.savefig('senti.png')"
      ],
      "execution_count": 11,
      "outputs": [
        {
          "output_type": "display_data",
          "data": {
            "image/png": "[encoded data removed]",
            "text/plain": [
              "<Figure size 720x360 with 1 Axes>"
            ]
          },
          "metadata": {
            "tags": [],
            "needs_background": "light"
          }
        }
      ]
    },
    {
      "cell_type": "code",
      "metadata": {
        "id": "OpyKjlnzqFQz",
        "colab_type": "code",
        "colab": {}
      },
      "source": [
        ""
      ],
      "execution_count": null,
      "outputs": []
    },
    {
      "cell_type": "code",
      "metadata": {
        "id": "smLQHgsDqFjs",
        "colab_type": "code",
        "colab": {}
      },
      "source": [
        ""
      ],
      "execution_count": null,
      "outputs": []
    },
    {
      "cell_type": "code",
      "metadata": {
        "id": "HIpAuVDTqFsT",
        "colab_type": "code",
        "colab": {}
      },
      "source": [
        ""
      ],
      "execution_count": null,
      "outputs": []
    },
    {
      "cell_type": "code",
      "metadata": {
        "id": "-XtU0p6pP4RI",
        "colab_type": "code",
        "colab": {
          "base_uri": "https://localhost:8080/",
          "height": 350
        },
        "outputId": "9fb2e397-6857-4a38-b6f6-cd03e9df9ca5"
      },
      "source": [
        "topic.plot(x='DATE', y=['topic_covid_impact', 'topic_other_countries','topic_number_data'], figsize=(10,5), grid=True, \n",
        "           color =['#67032F','#9867C5','#c27ba0ff'])\n",
        "plt.ylabel('Number of comments')\n",
        "plt.title('Topic of comments during time')\n",
        "plt.savefig('topic.png')"
      ],
      "execution_count": 39,
      "outputs": [
        {
          "output_type": "display_data",
          "data": {
            "image/png": "[encoded data removed]",
            "text/plain": [
              "<Figure size 720x360 with 1 Axes>"
            ]
          },
          "metadata": {
            "tags": [],
            "needs_background": "light"
          }
        }
      ]
    },
    {
      "cell_type": "code",
      "metadata": {
        "id": "drBrqoVLP4Zo",
        "colab_type": "code",
        "colab": {
          "base_uri": "https://localhost:8080/",
          "height": 406
        },
        "outputId": "ed598322-c19c-481d-f3a4-91a453def12c"
      },
      "source": [
        "import pandas as pd\n",
        "prociv_data = pd.read_csv('/content/drive/My Drive/Topic detection/prociv_data.csv', sep = ';', index_col = [0])\n",
        "prociv_data = prociv_data.rename(columns = {'data':'DATE'})\n",
        "prociv_data = prociv_data.groupby('DATE').sum()\n",
        "prociv_data = prociv_data.reset_index()\n",
        "prociv_data = prociv_data.loc[:, ['DATE','totale_positivi']]\n",
        "prociv_data['DATE'] =pd.to_datetime(prociv_data.DATE,dayfirst=True)\n",
        "prociv_data = prociv_data.sort_values(by=['DATE']).reset_index().drop('index',axis=1)\n",
        "prociv_data"
      ],
      "execution_count": 47,
      "outputs": [
        {
          "output_type": "execute_result",
          "data": {
            "text/html": [
              "<div>\n",
              "<style scoped>\n",
              "    .dataframe tbody tr th:only-of-type {\n",
              "        vertical-align: middle;\n",
              "    }\n",
              "\n",
              "    .dataframe tbody tr th {\n",
              "        vertical-align: top;\n",
              "    }\n",
              "\n",
              "    .dataframe thead th {\n",
              "        text-align: right;\n",
              "    }\n",
              "</style>\n",
              "<table border=\"1\" class=\"dataframe\">\n",
              "  <thead>\n",
              "    <tr style=\"text-align: right;\">\n",
              "      <th></th>\n",
              "      <th>DATE</th>\n",
              "      <th>totale_positivi</th>\n",
              "    </tr>\n",
              "  </thead>\n",
              "  <tbody>\n",
              "    <tr>\n",
              "      <th>0</th>\n",
              "      <td>2020-02-24</td>\n",
              "      <td>221</td>\n",
              "    </tr>\n",
              "    <tr>\n",
              "      <th>1</th>\n",
              "      <td>2020-02-25</td>\n",
              "      <td>311</td>\n",
              "    </tr>\n",
              "    <tr>\n",
              "      <th>2</th>\n",
              "      <td>2020-02-26</td>\n",
              "      <td>385</td>\n",
              "    </tr>\n",
              "    <tr>\n",
              "      <th>3</th>\n",
              "      <td>2020-02-27</td>\n",
              "      <td>588</td>\n",
              "    </tr>\n",
              "    <tr>\n",
              "      <th>4</th>\n",
              "      <td>2020-02-28</td>\n",
              "      <td>821</td>\n",
              "    </tr>\n",
              "    <tr>\n",
              "      <th>...</th>\n",
              "      <td>...</td>\n",
              "      <td>...</td>\n",
              "    </tr>\n",
              "    <tr>\n",
              "      <th>146</th>\n",
              "      <td>2020-07-19</td>\n",
              "      <td>12440</td>\n",
              "    </tr>\n",
              "    <tr>\n",
              "      <th>147</th>\n",
              "      <td>2020-07-20</td>\n",
              "      <td>12404</td>\n",
              "    </tr>\n",
              "    <tr>\n",
              "      <th>148</th>\n",
              "      <td>2020-07-21</td>\n",
              "      <td>12248</td>\n",
              "    </tr>\n",
              "    <tr>\n",
              "      <th>149</th>\n",
              "      <td>2020-07-22</td>\n",
              "      <td>12322</td>\n",
              "    </tr>\n",
              "    <tr>\n",
              "      <th>150</th>\n",
              "      <td>2020-07-23</td>\n",
              "      <td>12404</td>\n",
              "    </tr>\n",
              "  </tbody>\n",
              "</table>\n",
              "<p>151 rows × 2 columns</p>\n",
              "</div>"
            ],
            "text/plain": [
              "          DATE  totale_positivi\n",
              "0   2020-02-24              221\n",
              "1   2020-02-25              311\n",
              "2   2020-02-26              385\n",
              "3   2020-02-27              588\n",
              "4   2020-02-28              821\n",
              "..         ...              ...\n",
              "146 2020-07-19            12440\n",
              "147 2020-07-20            12404\n",
              "148 2020-07-21            12248\n",
              "149 2020-07-22            12322\n",
              "150 2020-07-23            12404\n",
              "\n",
              "[151 rows x 2 columns]"
            ]
          },
          "metadata": {
            "tags": []
          },
          "execution_count": 47
        }
      ]
    },
    {
      "cell_type": "code",
      "metadata": {
        "id": "f8cpXKwEP4eg",
        "colab_type": "code",
        "colab": {}
      },
      "source": [
        "#drop the rows that are not in the previous analysis\n",
        "prociv_data= prociv_data[:-74]"
      ],
      "execution_count": 60,
      "outputs": []
    },
    {
      "cell_type": "code",
      "metadata": {
        "id": "76sx-91JP4jc",
        "colab_type": "code",
        "colab": {
          "base_uri": "https://localhost:8080/",
          "height": 197
        },
        "outputId": "f24e6761-a92a-457b-b282-934ca1a268e9"
      },
      "source": [
        "prociv_data.head()"
      ],
      "execution_count": 45,
      "outputs": [
        {
          "output_type": "execute_result",
          "data": {
            "text/html": [
              "<div>\n",
              "<style scoped>\n",
              "    .dataframe tbody tr th:only-of-type {\n",
              "        vertical-align: middle;\n",
              "    }\n",
              "\n",
              "    .dataframe tbody tr th {\n",
              "        vertical-align: top;\n",
              "    }\n",
              "\n",
              "    .dataframe thead th {\n",
              "        text-align: right;\n",
              "    }\n",
              "</style>\n",
              "<table border=\"1\" class=\"dataframe\">\n",
              "  <thead>\n",
              "    <tr style=\"text-align: right;\">\n",
              "      <th></th>\n",
              "      <th>DATE</th>\n",
              "      <th>totale_positivi</th>\n",
              "    </tr>\n",
              "  </thead>\n",
              "  <tbody>\n",
              "    <tr>\n",
              "      <th>0</th>\n",
              "      <td>2020-02-24</td>\n",
              "      <td>221</td>\n",
              "    </tr>\n",
              "    <tr>\n",
              "      <th>1</th>\n",
              "      <td>2020-02-25</td>\n",
              "      <td>311</td>\n",
              "    </tr>\n",
              "    <tr>\n",
              "      <th>2</th>\n",
              "      <td>2020-02-26</td>\n",
              "      <td>385</td>\n",
              "    </tr>\n",
              "    <tr>\n",
              "      <th>3</th>\n",
              "      <td>2020-02-27</td>\n",
              "      <td>588</td>\n",
              "    </tr>\n",
              "    <tr>\n",
              "      <th>4</th>\n",
              "      <td>2020-02-28</td>\n",
              "      <td>821</td>\n",
              "    </tr>\n",
              "  </tbody>\n",
              "</table>\n",
              "</div>"
            ],
            "text/plain": [
              "         DATE  totale_positivi\n",
              "0  2020-02-24              221\n",
              "1  2020-02-25              311\n",
              "2  2020-02-26              385\n",
              "3  2020-02-27              588\n",
              "4  2020-02-28              821"
            ]
          },
          "metadata": {
            "tags": []
          },
          "execution_count": 45
        }
      ]
    },
    {
      "cell_type": "code",
      "metadata": {
        "id": "PH7ecfmLP4cr",
        "colab_type": "code",
        "colab": {}
      },
      "source": [
        "topic = topic.iloc[2:]\n"
      ],
      "execution_count": 107,
      "outputs": []
    },
    {
      "cell_type": "code",
      "metadata": {
        "id": "qAXmIr9t20KR",
        "colab_type": "code",
        "colab": {
          "base_uri": "https://localhost:8080/",
          "height": 406
        },
        "outputId": "dbf2be85-24a5-4b20-a63b-f3026452f992"
      },
      "source": [
        "merge_t = reduce(lambda x,y: pd.merge(x,y, on='DATE', how='outer'), [topic, prociv_data])\n",
        "merge_t['DATE'] =pd.to_datetime(merge_t.DATE,dayfirst=True)\n",
        "merge_t = merge_t.sort_values(by=['DATE']).reset_index().drop('index',axis=1)\n",
        "merge_t"
      ],
      "execution_count": 108,
      "outputs": [
        {
          "output_type": "execute_result",
          "data": {
            "text/html": [
              "<div>\n",
              "<style scoped>\n",
              "    .dataframe tbody tr th:only-of-type {\n",
              "        vertical-align: middle;\n",
              "    }\n",
              "\n",
              "    .dataframe tbody tr th {\n",
              "        vertical-align: top;\n",
              "    }\n",
              "\n",
              "    .dataframe thead th {\n",
              "        text-align: right;\n",
              "    }\n",
              "</style>\n",
              "<table border=\"1\" class=\"dataframe\">\n",
              "  <thead>\n",
              "    <tr style=\"text-align: right;\">\n",
              "      <th></th>\n",
              "      <th>DATE</th>\n",
              "      <th>topic_covid_impact</th>\n",
              "      <th>topic_other_countries</th>\n",
              "      <th>topic_number_data</th>\n",
              "      <th>totale_positivi</th>\n",
              "    </tr>\n",
              "  </thead>\n",
              "  <tbody>\n",
              "    <tr>\n",
              "      <th>0</th>\n",
              "      <td>2020-02-24</td>\n",
              "      <td>2378.0</td>\n",
              "      <td>631.0</td>\n",
              "      <td>1005.0</td>\n",
              "      <td>221</td>\n",
              "    </tr>\n",
              "    <tr>\n",
              "      <th>1</th>\n",
              "      <td>2020-02-25</td>\n",
              "      <td>2005.0</td>\n",
              "      <td>459.0</td>\n",
              "      <td>810.0</td>\n",
              "      <td>311</td>\n",
              "    </tr>\n",
              "    <tr>\n",
              "      <th>2</th>\n",
              "      <td>2020-02-26</td>\n",
              "      <td>1649.0</td>\n",
              "      <td>425.0</td>\n",
              "      <td>615.0</td>\n",
              "      <td>385</td>\n",
              "    </tr>\n",
              "    <tr>\n",
              "      <th>3</th>\n",
              "      <td>2020-02-27</td>\n",
              "      <td>1080.0</td>\n",
              "      <td>252.0</td>\n",
              "      <td>449.0</td>\n",
              "      <td>588</td>\n",
              "    </tr>\n",
              "    <tr>\n",
              "      <th>4</th>\n",
              "      <td>2020-02-28</td>\n",
              "      <td>1052.0</td>\n",
              "      <td>227.0</td>\n",
              "      <td>441.0</td>\n",
              "      <td>821</td>\n",
              "    </tr>\n",
              "    <tr>\n",
              "      <th>...</th>\n",
              "      <td>...</td>\n",
              "      <td>...</td>\n",
              "      <td>...</td>\n",
              "      <td>...</td>\n",
              "      <td>...</td>\n",
              "    </tr>\n",
              "    <tr>\n",
              "      <th>72</th>\n",
              "      <td>2020-05-06</td>\n",
              "      <td>338.0</td>\n",
              "      <td>39.0</td>\n",
              "      <td>107.0</td>\n",
              "      <td>91528</td>\n",
              "    </tr>\n",
              "    <tr>\n",
              "      <th>73</th>\n",
              "      <td>2020-05-07</td>\n",
              "      <td>359.0</td>\n",
              "      <td>49.0</td>\n",
              "      <td>91.0</td>\n",
              "      <td>89624</td>\n",
              "    </tr>\n",
              "    <tr>\n",
              "      <th>74</th>\n",
              "      <td>2020-05-08</td>\n",
              "      <td>405.0</td>\n",
              "      <td>60.0</td>\n",
              "      <td>112.0</td>\n",
              "      <td>87961</td>\n",
              "    </tr>\n",
              "    <tr>\n",
              "      <th>75</th>\n",
              "      <td>2020-05-09</td>\n",
              "      <td>191.0</td>\n",
              "      <td>37.0</td>\n",
              "      <td>68.0</td>\n",
              "      <td>84842</td>\n",
              "    </tr>\n",
              "    <tr>\n",
              "      <th>76</th>\n",
              "      <td>2020-05-10</td>\n",
              "      <td>205.0</td>\n",
              "      <td>29.0</td>\n",
              "      <td>77.0</td>\n",
              "      <td>83324</td>\n",
              "    </tr>\n",
              "  </tbody>\n",
              "</table>\n",
              "<p>77 rows × 5 columns</p>\n",
              "</div>"
            ],
            "text/plain": [
              "         DATE  topic_covid_impact  ...  topic_number_data  totale_positivi\n",
              "0  2020-02-24              2378.0  ...             1005.0              221\n",
              "1  2020-02-25              2005.0  ...              810.0              311\n",
              "2  2020-02-26              1649.0  ...              615.0              385\n",
              "3  2020-02-27              1080.0  ...              449.0              588\n",
              "4  2020-02-28              1052.0  ...              441.0              821\n",
              "..        ...                 ...  ...                ...              ...\n",
              "72 2020-05-06               338.0  ...              107.0            91528\n",
              "73 2020-05-07               359.0  ...               91.0            89624\n",
              "74 2020-05-08               405.0  ...              112.0            87961\n",
              "75 2020-05-09               191.0  ...               68.0            84842\n",
              "76 2020-05-10               205.0  ...               77.0            83324\n",
              "\n",
              "[77 rows x 5 columns]"
            ]
          },
          "metadata": {
            "tags": []
          },
          "execution_count": 108
        }
      ]
    },
    {
      "cell_type": "code",
      "metadata": {
        "id": "EFck6ODm7O5N",
        "colab_type": "code",
        "colab": {
          "base_uri": "https://localhost:8080/",
          "height": 406
        },
        "outputId": "09f28ade-5b5e-42c6-8d5a-a427b6ef38a8"
      },
      "source": [
        "merge_t['total_comments']= merge_t[['topic_other_countries','topic_number_data','topic_covid_impact']].sum(axis=1)\n",
        "merge.head(100)"
      ],
      "execution_count": 109,
      "outputs": [
        {
          "output_type": "execute_result",
          "data": {
            "text/html": [
              "<div>\n",
              "<style scoped>\n",
              "    .dataframe tbody tr th:only-of-type {\n",
              "        vertical-align: middle;\n",
              "    }\n",
              "\n",
              "    .dataframe tbody tr th {\n",
              "        vertical-align: top;\n",
              "    }\n",
              "\n",
              "    .dataframe thead th {\n",
              "        text-align: right;\n",
              "    }\n",
              "</style>\n",
              "<table border=\"1\" class=\"dataframe\">\n",
              "  <thead>\n",
              "    <tr style=\"text-align: right;\">\n",
              "      <th></th>\n",
              "      <th>DATE</th>\n",
              "      <th>Neutral_sen</th>\n",
              "      <th>Positive_sen</th>\n",
              "      <th>Negative_sen</th>\n",
              "      <th>totale_positivi</th>\n",
              "      <th>total_comments</th>\n",
              "    </tr>\n",
              "  </thead>\n",
              "  <tbody>\n",
              "    <tr>\n",
              "      <th>0</th>\n",
              "      <td>2020-02-24</td>\n",
              "      <td>1500.0</td>\n",
              "      <td>781.0</td>\n",
              "      <td>1733.0</td>\n",
              "      <td>221</td>\n",
              "      <td>4014.0</td>\n",
              "    </tr>\n",
              "    <tr>\n",
              "      <th>1</th>\n",
              "      <td>2020-02-25</td>\n",
              "      <td>1256.0</td>\n",
              "      <td>615.0</td>\n",
              "      <td>1403.0</td>\n",
              "      <td>311</td>\n",
              "      <td>3274.0</td>\n",
              "    </tr>\n",
              "    <tr>\n",
              "      <th>2</th>\n",
              "      <td>2020-02-26</td>\n",
              "      <td>1007.0</td>\n",
              "      <td>556.0</td>\n",
              "      <td>1126.0</td>\n",
              "      <td>385</td>\n",
              "      <td>2689.0</td>\n",
              "    </tr>\n",
              "    <tr>\n",
              "      <th>3</th>\n",
              "      <td>2020-02-27</td>\n",
              "      <td>701.0</td>\n",
              "      <td>327.0</td>\n",
              "      <td>753.0</td>\n",
              "      <td>588</td>\n",
              "      <td>1781.0</td>\n",
              "    </tr>\n",
              "    <tr>\n",
              "      <th>4</th>\n",
              "      <td>2020-02-28</td>\n",
              "      <td>656.0</td>\n",
              "      <td>319.0</td>\n",
              "      <td>745.0</td>\n",
              "      <td>821</td>\n",
              "      <td>1720.0</td>\n",
              "    </tr>\n",
              "    <tr>\n",
              "      <th>...</th>\n",
              "      <td>...</td>\n",
              "      <td>...</td>\n",
              "      <td>...</td>\n",
              "      <td>...</td>\n",
              "      <td>...</td>\n",
              "      <td>...</td>\n",
              "    </tr>\n",
              "    <tr>\n",
              "      <th>72</th>\n",
              "      <td>2020-05-06</td>\n",
              "      <td>181.0</td>\n",
              "      <td>102.0</td>\n",
              "      <td>201.0</td>\n",
              "      <td>91528</td>\n",
              "      <td>484.0</td>\n",
              "    </tr>\n",
              "    <tr>\n",
              "      <th>73</th>\n",
              "      <td>2020-05-07</td>\n",
              "      <td>147.0</td>\n",
              "      <td>108.0</td>\n",
              "      <td>244.0</td>\n",
              "      <td>89624</td>\n",
              "      <td>499.0</td>\n",
              "    </tr>\n",
              "    <tr>\n",
              "      <th>74</th>\n",
              "      <td>2020-05-08</td>\n",
              "      <td>197.0</td>\n",
              "      <td>106.0</td>\n",
              "      <td>274.0</td>\n",
              "      <td>87961</td>\n",
              "      <td>577.0</td>\n",
              "    </tr>\n",
              "    <tr>\n",
              "      <th>75</th>\n",
              "      <td>2020-05-09</td>\n",
              "      <td>110.0</td>\n",
              "      <td>65.0</td>\n",
              "      <td>121.0</td>\n",
              "      <td>84842</td>\n",
              "      <td>296.0</td>\n",
              "    </tr>\n",
              "    <tr>\n",
              "      <th>76</th>\n",
              "      <td>2020-05-10</td>\n",
              "      <td>114.0</td>\n",
              "      <td>79.0</td>\n",
              "      <td>118.0</td>\n",
              "      <td>83324</td>\n",
              "      <td>311.0</td>\n",
              "    </tr>\n",
              "  </tbody>\n",
              "</table>\n",
              "<p>77 rows × 6 columns</p>\n",
              "</div>"
            ],
            "text/plain": [
              "         DATE  Neutral_sen  ...  totale_positivi  total_comments\n",
              "0  2020-02-24       1500.0  ...              221          4014.0\n",
              "1  2020-02-25       1256.0  ...              311          3274.0\n",
              "2  2020-02-26       1007.0  ...              385          2689.0\n",
              "3  2020-02-27        701.0  ...              588          1781.0\n",
              "4  2020-02-28        656.0  ...              821          1720.0\n",
              "..        ...          ...  ...              ...             ...\n",
              "72 2020-05-06        181.0  ...            91528           484.0\n",
              "73 2020-05-07        147.0  ...            89624           499.0\n",
              "74 2020-05-08        197.0  ...            87961           577.0\n",
              "75 2020-05-09        110.0  ...            84842           296.0\n",
              "76 2020-05-10        114.0  ...            83324           311.0\n",
              "\n",
              "[77 rows x 6 columns]"
            ]
          },
          "metadata": {
            "tags": []
          },
          "execution_count": 109
        }
      ]
    },
    {
      "cell_type": "code",
      "metadata": {
        "id": "1HbeyhUUsqo5",
        "colab_type": "code",
        "colab": {}
      },
      "source": [
        "merge_t[['topic_other_countries','topic_number_data','topic_covid_impact']] = merge_t[['topic_other_countries','topic_number_data','topic_covid_impact']].div(merge['total_comments'].values,axis=0)"
      ],
      "execution_count": 110,
      "outputs": []
    },
    {
      "cell_type": "code",
      "metadata": {
        "id": "DfpLH2l_sqz7",
        "colab_type": "code",
        "colab": {
          "base_uri": "https://localhost:8080/",
          "height": 197
        },
        "outputId": "88de09f5-c0e1-4e0e-9408-c03eed982be7"
      },
      "source": [
        "merge.head()"
      ],
      "execution_count": 111,
      "outputs": [
        {
          "output_type": "execute_result",
          "data": {
            "text/html": [
              "<div>\n",
              "<style scoped>\n",
              "    .dataframe tbody tr th:only-of-type {\n",
              "        vertical-align: middle;\n",
              "    }\n",
              "\n",
              "    .dataframe tbody tr th {\n",
              "        vertical-align: top;\n",
              "    }\n",
              "\n",
              "    .dataframe thead th {\n",
              "        text-align: right;\n",
              "    }\n",
              "</style>\n",
              "<table border=\"1\" class=\"dataframe\">\n",
              "  <thead>\n",
              "    <tr style=\"text-align: right;\">\n",
              "      <th></th>\n",
              "      <th>DATE</th>\n",
              "      <th>Neutral_sen</th>\n",
              "      <th>Positive_sen</th>\n",
              "      <th>Negative_sen</th>\n",
              "      <th>totale_positivi</th>\n",
              "      <th>total_comments</th>\n",
              "    </tr>\n",
              "  </thead>\n",
              "  <tbody>\n",
              "    <tr>\n",
              "      <th>0</th>\n",
              "      <td>2020-02-24</td>\n",
              "      <td>1500.0</td>\n",
              "      <td>781.0</td>\n",
              "      <td>1733.0</td>\n",
              "      <td>221</td>\n",
              "      <td>4014.0</td>\n",
              "    </tr>\n",
              "    <tr>\n",
              "      <th>1</th>\n",
              "      <td>2020-02-25</td>\n",
              "      <td>1256.0</td>\n",
              "      <td>615.0</td>\n",
              "      <td>1403.0</td>\n",
              "      <td>311</td>\n",
              "      <td>3274.0</td>\n",
              "    </tr>\n",
              "    <tr>\n",
              "      <th>2</th>\n",
              "      <td>2020-02-26</td>\n",
              "      <td>1007.0</td>\n",
              "      <td>556.0</td>\n",
              "      <td>1126.0</td>\n",
              "      <td>385</td>\n",
              "      <td>2689.0</td>\n",
              "    </tr>\n",
              "    <tr>\n",
              "      <th>3</th>\n",
              "      <td>2020-02-27</td>\n",
              "      <td>701.0</td>\n",
              "      <td>327.0</td>\n",
              "      <td>753.0</td>\n",
              "      <td>588</td>\n",
              "      <td>1781.0</td>\n",
              "    </tr>\n",
              "    <tr>\n",
              "      <th>4</th>\n",
              "      <td>2020-02-28</td>\n",
              "      <td>656.0</td>\n",
              "      <td>319.0</td>\n",
              "      <td>745.0</td>\n",
              "      <td>821</td>\n",
              "      <td>1720.0</td>\n",
              "    </tr>\n",
              "  </tbody>\n",
              "</table>\n",
              "</div>"
            ],
            "text/plain": [
              "        DATE  Neutral_sen  ...  totale_positivi  total_comments\n",
              "0 2020-02-24       1500.0  ...              221          4014.0\n",
              "1 2020-02-25       1256.0  ...              311          3274.0\n",
              "2 2020-02-26       1007.0  ...              385          2689.0\n",
              "3 2020-02-27        701.0  ...              588          1781.0\n",
              "4 2020-02-28        656.0  ...              821          1720.0\n",
              "\n",
              "[5 rows x 6 columns]"
            ]
          },
          "metadata": {
            "tags": []
          },
          "execution_count": 111
        }
      ]
    },
    {
      "cell_type": "code",
      "metadata": {
        "id": "6qYXHhUCsq3b",
        "colab_type": "code",
        "colab": {}
      },
      "source": [
        ""
      ],
      "execution_count": null,
      "outputs": []
    },
    {
      "cell_type": "code",
      "metadata": {
        "id": "uzUjSAa_-CLd",
        "colab_type": "code",
        "colab": {
          "base_uri": "https://localhost:8080/",
          "height": 70
        },
        "outputId": "1d3340e8-9fe7-44b9-a0d0-4f9496d5f46f"
      },
      "source": [
        "merge.columns"
      ],
      "execution_count": 56,
      "outputs": [
        {
          "output_type": "execute_result",
          "data": {
            "text/plain": [
              "Index(['DATE', 'Neutral_sen', 'Positive_sen', 'Negative_sen',\n",
              "       'totale_positivi', 'total_comments'],\n",
              "      dtype='object')"
            ]
          },
          "metadata": {
            "tags": []
          },
          "execution_count": 56
        }
      ]
    },
    {
      "cell_type": "code",
      "metadata": {
        "id": "Hl39HvlX9coZ",
        "colab_type": "code",
        "colab": {
          "base_uri": "https://localhost:8080/",
          "height": 402
        },
        "outputId": "1840c066-7396-41d0-db05-0f447198ddfc"
      },
      "source": [
        "import matplotlib.pyplot as plt\n",
        "\n",
        "merge.plot(x='DATE', y=['total_comments', 'totale_positivi'], figsize=(10,5), grid=True, \n",
        "           color =['#67032F','#9867C5'])\n",
        "plt.ylabel('Number of comments')\n",
        "plt.title('Topic of comments during time')\n",
        "#plt.savefig('topic.png')\n",
        "# ,'#c27ba0ff'"
      ],
      "execution_count": 65,
      "outputs": [
        {
          "output_type": "execute_result",
          "data": {
            "text/plain": [
              "Text(0.5, 1.0, 'Topic of comments during time')"
            ]
          },
          "metadata": {
            "tags": []
          },
          "execution_count": 65
        },
        {
          "output_type": "display_data",
          "data": {
            "image/png": "[encoded data removed]",
            "text/plain": [
              "<Figure size 720x360 with 1 Axes>"
            ]
          },
          "metadata": {
            "tags": [],
            "needs_background": "light"
          }
        }
      ]
    },
    {
      "cell_type": "code",
      "metadata": {
        "id": "-PKiPaSbBlh3",
        "colab_type": "code",
        "colab": {
          "base_uri": "https://localhost:8080/",
          "height": 296
        },
        "outputId": "1c50433f-cba4-4bf9-a7bf-82ea9686b538"
      },
      "source": [
        "fig, ax1 = plt.subplots()\n",
        "#ax1.plot(merge['DATE'], merge['totale_positivi'], color = '#67032F')\n",
        "merge_t.plot(x=\"DATE\", y=['totale_positivi'], ax=ax1,color ='#311432')\n",
        "ax1.set_xticklabels(merge_t['DATE'][::4], rotation=90)\n",
        "ax1.set_ylabel('positive-cases', color='#67032F')\n",
        "ax2 = ax1.twinx()\n",
        "#ax2.plot(merge['DATE'], merge['Negative_sen','Positive_sen'],color='#c27ba0ff')\n",
        "merge_t.plot(x=\"DATE\", y=['topic_covid_impact','topic_other_countries','topic_number_data'], ax=ax2,color=['#67032F','#9867C5','#c27ba0ff'])\n",
        "ax2.set_ylabel('Total-comments')\n",
        "#ax2.legend(['Reddit comments'])\n",
        "#ax1.legend(['positive cases'])\n",
        "fig.tight_layout()\n",
        "plt.savefig('last_topic')\n",
        "\n",
        "fig.tight_layout()\n",
        "\n"
      ],
      "execution_count": 113,
      "outputs": [
        {
          "output_type": "display_data",
          "data": {
            "image/png": "[encoded data removed]",
            "text/plain": [
              "<Figure size 432x288 with 2 Axes>"
            ]
          },
          "metadata": {
            "tags": [],
            "needs_background": "light"
          }
        }
      ]
    },
    {
      "cell_type": "code",
      "metadata": {
        "id": "uSwFsEcW94tq",
        "colab_type": "code",
        "colab": {}
      },
      "source": [
        ""
      ],
      "execution_count": null,
      "outputs": []
    }
  ]
}
