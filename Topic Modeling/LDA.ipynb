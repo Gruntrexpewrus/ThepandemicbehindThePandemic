{
  "nbformat": 4,
  "nbformat_minor": 0,
  "metadata": {
    "colab": {
      "name": "LDA.ipynb",
      "provenance": [],
      "collapsed_sections": [],
      "toc_visible": true
    },
    "kernelspec": {
      "name": "python3",
      "display_name": "Python 3"
    },
    "widgets": {
      "application/vnd.jupyter.widget-state+json": {
        "a1d59620129a4908836dff363cda5ea1": {
          "model_module": "@jupyter-widgets/controls",
          "model_name": "HBoxModel",
          "state": {
            "_view_name": "HBoxView",
            "_dom_classes": [],
            "_model_name": "HBoxModel",
            "_view_module": "@jupyter-widgets/controls",
            "_model_module_version": "1.5.0",
            "_view_count": null,
            "_view_module_version": "1.5.0",
            "box_style": "",
            "layout": "IPY_MODEL_d3a5194f9f6842bdb46fd2ab3688f70d",
            "_model_module": "@jupyter-widgets/controls",
            "children": [
              "IPY_MODEL_30207af3997e42379a90232a3140b38b",
              "IPY_MODEL_96b5bf4983e24b7b8e3ffa795197a3bd"
            ]
          }
        },
        "d3a5194f9f6842bdb46fd2ab3688f70d": {
          "model_module": "@jupyter-widgets/base",
          "model_name": "LayoutModel",
          "state": {
            "_view_name": "LayoutView",
            "grid_template_rows": null,
            "right": null,
            "justify_content": null,
            "_view_module": "@jupyter-widgets/base",
            "overflow": null,
            "_model_module_version": "1.2.0",
            "_view_count": null,
            "flex_flow": null,
            "width": null,
            "min_width": null,
            "border": null,
            "align_items": null,
            "bottom": null,
            "_model_module": "@jupyter-widgets/base",
            "top": null,
            "grid_column": null,
            "overflow_y": null,
            "overflow_x": null,
            "grid_auto_flow": null,
            "grid_area": null,
            "grid_template_columns": null,
            "flex": null,
            "_model_name": "LayoutModel",
            "justify_items": null,
            "grid_row": null,
            "max_height": null,
            "align_content": null,
            "visibility": null,
            "align_self": null,
            "height": null,
            "min_height": null,
            "padding": null,
            "grid_auto_rows": null,
            "grid_gap": null,
            "max_width": null,
            "order": null,
            "_view_module_version": "1.2.0",
            "grid_template_areas": null,
            "object_position": null,
            "object_fit": null,
            "grid_auto_columns": null,
            "margin": null,
            "display": null,
            "left": null
          }
        },
        "30207af3997e42379a90232a3140b38b": {
          "model_module": "@jupyter-widgets/controls",
          "model_name": "FloatProgressModel",
          "state": {
            "_view_name": "ProgressView",
            "style": "IPY_MODEL_8cc3b4f36ed6454395c8eb31c23a96ea",
            "_dom_classes": [],
            "description": "100%",
            "_model_name": "FloatProgressModel",
            "bar_style": "success",
            "max": 154656,
            "_view_module": "@jupyter-widgets/controls",
            "_model_module_version": "1.5.0",
            "value": 154656,
            "_view_count": null,
            "_view_module_version": "1.5.0",
            "orientation": "horizontal",
            "min": 0,
            "description_tooltip": null,
            "_model_module": "@jupyter-widgets/controls",
            "layout": "IPY_MODEL_e508a985ead446098ce62bf546e9bc41"
          }
        },
        "96b5bf4983e24b7b8e3ffa795197a3bd": {
          "model_module": "@jupyter-widgets/controls",
          "model_name": "HTMLModel",
          "state": {
            "_view_name": "HTMLView",
            "style": "IPY_MODEL_db3f34fcd0024acdbef7d054de99e7e5",
            "_dom_classes": [],
            "description": "",
            "_model_name": "HTMLModel",
            "placeholder": "​",
            "_view_module": "@jupyter-widgets/controls",
            "_model_module_version": "1.5.0",
            "value": " 154656/154656 [08:33&lt;00:00, 301.20it/s]",
            "_view_count": null,
            "_view_module_version": "1.5.0",
            "description_tooltip": null,
            "_model_module": "@jupyter-widgets/controls",
            "layout": "IPY_MODEL_cc4451b9e3e548ac94b5b9b1e7c2ac62"
          }
        },
        "8cc3b4f36ed6454395c8eb31c23a96ea": {
          "model_module": "@jupyter-widgets/controls",
          "model_name": "ProgressStyleModel",
          "state": {
            "_view_name": "StyleView",
            "_model_name": "ProgressStyleModel",
            "description_width": "initial",
            "_view_module": "@jupyter-widgets/base",
            "_model_module_version": "1.5.0",
            "_view_count": null,
            "_view_module_version": "1.2.0",
            "bar_color": null,
            "_model_module": "@jupyter-widgets/controls"
          }
        },
        "e508a985ead446098ce62bf546e9bc41": {
          "model_module": "@jupyter-widgets/base",
          "model_name": "LayoutModel",
          "state": {
            "_view_name": "LayoutView",
            "grid_template_rows": null,
            "right": null,
            "justify_content": null,
            "_view_module": "@jupyter-widgets/base",
            "overflow": null,
            "_model_module_version": "1.2.0",
            "_view_count": null,
            "flex_flow": null,
            "width": null,
            "min_width": null,
            "border": null,
            "align_items": null,
            "bottom": null,
            "_model_module": "@jupyter-widgets/base",
            "top": null,
            "grid_column": null,
            "overflow_y": null,
            "overflow_x": null,
            "grid_auto_flow": null,
            "grid_area": null,
            "grid_template_columns": null,
            "flex": null,
            "_model_name": "LayoutModel",
            "justify_items": null,
            "grid_row": null,
            "max_height": null,
            "align_content": null,
            "visibility": null,
            "align_self": null,
            "height": null,
            "min_height": null,
            "padding": null,
            "grid_auto_rows": null,
            "grid_gap": null,
            "max_width": null,
            "order": null,
            "_view_module_version": "1.2.0",
            "grid_template_areas": null,
            "object_position": null,
            "object_fit": null,
            "grid_auto_columns": null,
            "margin": null,
            "display": null,
            "left": null
          }
        },
        "db3f34fcd0024acdbef7d054de99e7e5": {
          "model_module": "@jupyter-widgets/controls",
          "model_name": "DescriptionStyleModel",
          "state": {
            "_view_name": "StyleView",
            "_model_name": "DescriptionStyleModel",
            "description_width": "",
            "_view_module": "@jupyter-widgets/base",
            "_model_module_version": "1.5.0",
            "_view_count": null,
            "_view_module_version": "1.2.0",
            "_model_module": "@jupyter-widgets/controls"
          }
        },
        "cc4451b9e3e548ac94b5b9b1e7c2ac62": {
          "model_module": "@jupyter-widgets/base",
          "model_name": "LayoutModel",
          "state": {
            "_view_name": "LayoutView",
            "grid_template_rows": null,
            "right": null,
            "justify_content": null,
            "_view_module": "@jupyter-widgets/base",
            "overflow": null,
            "_model_module_version": "1.2.0",
            "_view_count": null,
            "flex_flow": null,
            "width": null,
            "min_width": null,
            "border": null,
            "align_items": null,
            "bottom": null,
            "_model_module": "@jupyter-widgets/base",
            "top": null,
            "grid_column": null,
            "overflow_y": null,
            "overflow_x": null,
            "grid_auto_flow": null,
            "grid_area": null,
            "grid_template_columns": null,
            "flex": null,
            "_model_name": "LayoutModel",
            "justify_items": null,
            "grid_row": null,
            "max_height": null,
            "align_content": null,
            "visibility": null,
            "align_self": null,
            "height": null,
            "min_height": null,
            "padding": null,
            "grid_auto_rows": null,
            "grid_gap": null,
            "max_width": null,
            "order": null,
            "_view_module_version": "1.2.0",
            "grid_template_areas": null,
            "object_position": null,
            "object_fit": null,
            "grid_auto_columns": null,
            "margin": null,
            "display": null,
            "left": null
          }
        },
        "7dcf78c441f4433b93b910e4a840dbe1": {
          "model_module": "@jupyter-widgets/controls",
          "model_name": "HBoxModel",
          "state": {
            "_view_name": "HBoxView",
            "_dom_classes": [],
            "_model_name": "HBoxModel",
            "_view_module": "@jupyter-widgets/controls",
            "_model_module_version": "1.5.0",
            "_view_count": null,
            "_view_module_version": "1.5.0",
            "box_style": "",
            "layout": "IPY_MODEL_1e8be901959d4333b118c81e4bb43cbb",
            "_model_module": "@jupyter-widgets/controls",
            "children": [
              "IPY_MODEL_ffa9aa79535a48a39bf9af2a9b54307f",
              "IPY_MODEL_4436caaa350443f580f86246aad26075"
            ]
          }
        },
        "1e8be901959d4333b118c81e4bb43cbb": {
          "model_module": "@jupyter-widgets/base",
          "model_name": "LayoutModel",
          "state": {
            "_view_name": "LayoutView",
            "grid_template_rows": null,
            "right": null,
            "justify_content": null,
            "_view_module": "@jupyter-widgets/base",
            "overflow": null,
            "_model_module_version": "1.2.0",
            "_view_count": null,
            "flex_flow": null,
            "width": null,
            "min_width": null,
            "border": null,
            "align_items": null,
            "bottom": null,
            "_model_module": "@jupyter-widgets/base",
            "top": null,
            "grid_column": null,
            "overflow_y": null,
            "overflow_x": null,
            "grid_auto_flow": null,
            "grid_area": null,
            "grid_template_columns": null,
            "flex": null,
            "_model_name": "LayoutModel",
            "justify_items": null,
            "grid_row": null,
            "max_height": null,
            "align_content": null,
            "visibility": null,
            "align_self": null,
            "height": null,
            "min_height": null,
            "padding": null,
            "grid_auto_rows": null,
            "grid_gap": null,
            "max_width": null,
            "order": null,
            "_view_module_version": "1.2.0",
            "grid_template_areas": null,
            "object_position": null,
            "object_fit": null,
            "grid_auto_columns": null,
            "margin": null,
            "display": null,
            "left": null
          }
        },
        "ffa9aa79535a48a39bf9af2a9b54307f": {
          "model_module": "@jupyter-widgets/controls",
          "model_name": "FloatProgressModel",
          "state": {
            "_view_name": "ProgressView",
            "style": "IPY_MODEL_d7738c86bcdd40ef83c1a1570db90efa",
            "_dom_classes": [],
            "description": "100%",
            "_model_name": "FloatProgressModel",
            "bar_style": "success",
            "max": 6,
            "_view_module": "@jupyter-widgets/controls",
            "_model_module_version": "1.5.0",
            "value": 6,
            "_view_count": null,
            "_view_module_version": "1.5.0",
            "orientation": "horizontal",
            "min": 0,
            "description_tooltip": null,
            "_model_module": "@jupyter-widgets/controls",
            "layout": "IPY_MODEL_2559fa6e60c0475f8a079c141b182001"
          }
        },
        "4436caaa350443f580f86246aad26075": {
          "model_module": "@jupyter-widgets/controls",
          "model_name": "HTMLModel",
          "state": {
            "_view_name": "HTMLView",
            "style": "IPY_MODEL_c350c61e67944e2f99bbeace70a82ab7",
            "_dom_classes": [],
            "description": "",
            "_model_name": "HTMLModel",
            "placeholder": "​",
            "_view_module": "@jupyter-widgets/controls",
            "_model_module_version": "1.5.0",
            "value": " 6/6 [4:43:14&lt;00:00, 2832.50s/it]",
            "_view_count": null,
            "_view_module_version": "1.5.0",
            "description_tooltip": null,
            "_model_module": "@jupyter-widgets/controls",
            "layout": "IPY_MODEL_ae07cc22076b4042a22f3845a090bbbc"
          }
        },
        "d7738c86bcdd40ef83c1a1570db90efa": {
          "model_module": "@jupyter-widgets/controls",
          "model_name": "ProgressStyleModel",
          "state": {
            "_view_name": "StyleView",
            "_model_name": "ProgressStyleModel",
            "description_width": "initial",
            "_view_module": "@jupyter-widgets/base",
            "_model_module_version": "1.5.0",
            "_view_count": null,
            "_view_module_version": "1.2.0",
            "bar_color": null,
            "_model_module": "@jupyter-widgets/controls"
          }
        },
        "2559fa6e60c0475f8a079c141b182001": {
          "model_module": "@jupyter-widgets/base",
          "model_name": "LayoutModel",
          "state": {
            "_view_name": "LayoutView",
            "grid_template_rows": null,
            "right": null,
            "justify_content": null,
            "_view_module": "@jupyter-widgets/base",
            "overflow": null,
            "_model_module_version": "1.2.0",
            "_view_count": null,
            "flex_flow": null,
            "width": null,
            "min_width": null,
            "border": null,
            "align_items": null,
            "bottom": null,
            "_model_module": "@jupyter-widgets/base",
            "top": null,
            "grid_column": null,
            "overflow_y": null,
            "overflow_x": null,
            "grid_auto_flow": null,
            "grid_area": null,
            "grid_template_columns": null,
            "flex": null,
            "_model_name": "LayoutModel",
            "justify_items": null,
            "grid_row": null,
            "max_height": null,
            "align_content": null,
            "visibility": null,
            "align_self": null,
            "height": null,
            "min_height": null,
            "padding": null,
            "grid_auto_rows": null,
            "grid_gap": null,
            "max_width": null,
            "order": null,
            "_view_module_version": "1.2.0",
            "grid_template_areas": null,
            "object_position": null,
            "object_fit": null,
            "grid_auto_columns": null,
            "margin": null,
            "display": null,
            "left": null
          }
        },
        "c350c61e67944e2f99bbeace70a82ab7": {
          "model_module": "@jupyter-widgets/controls",
          "model_name": "DescriptionStyleModel",
          "state": {
            "_view_name": "StyleView",
            "_model_name": "DescriptionStyleModel",
            "description_width": "",
            "_view_module": "@jupyter-widgets/base",
            "_model_module_version": "1.5.0",
            "_view_count": null,
            "_view_module_version": "1.2.0",
            "_model_module": "@jupyter-widgets/controls"
          }
        },
        "ae07cc22076b4042a22f3845a090bbbc": {
          "model_module": "@jupyter-widgets/base",
          "model_name": "LayoutModel",
          "state": {
            "_view_name": "LayoutView",
            "grid_template_rows": null,
            "right": null,
            "justify_content": null,
            "_view_module": "@jupyter-widgets/base",
            "overflow": null,
            "_model_module_version": "1.2.0",
            "_view_count": null,
            "flex_flow": null,
            "width": null,
            "min_width": null,
            "border": null,
            "align_items": null,
            "bottom": null,
            "_model_module": "@jupyter-widgets/base",
            "top": null,
            "grid_column": null,
            "overflow_y": null,
            "overflow_x": null,
            "grid_auto_flow": null,
            "grid_area": null,
            "grid_template_columns": null,
            "flex": null,
            "_model_name": "LayoutModel",
            "justify_items": null,
            "grid_row": null,
            "max_height": null,
            "align_content": null,
            "visibility": null,
            "align_self": null,
            "height": null,
            "min_height": null,
            "padding": null,
            "grid_auto_rows": null,
            "grid_gap": null,
            "max_width": null,
            "order": null,
            "_view_module_version": "1.2.0",
            "grid_template_areas": null,
            "object_position": null,
            "object_fit": null,
            "grid_auto_columns": null,
            "margin": null,
            "display": null,
            "left": null
          }
        }
      }
    }
  },
  "cells": [
    {
      "cell_type": "code",
      "metadata": {
        "id": "ipaqQe60LeGC",
        "colab_type": "code",
        "colab": {}
      },
      "source": [
        "import numpy as np\n",
        "import pandas as pd\n",
        "import json\n",
        "\n",
        "from tqdm.auto import tqdm"
      ],
      "execution_count": null,
      "outputs": []
    },
    {
      "cell_type": "code",
      "metadata": {
        "id": "7Yy7-JPJPdMe",
        "colab_type": "code",
        "colab": {
          "base_uri": "https://localhost:8080/",
          "height": 51
        },
        "outputId": "0679ee2b-6c63-4dab-d666-e8e0955603af"
      },
      "source": [
        "from nltk.stem.snowball import ItalianStemmer\n",
        "from nltk import RegexpTokenizer\n",
        "import nltk\n",
        "nltk.download(\"stopwords\")\n",
        "stopwords = nltk.corpus.stopwords.words(\"italian\")\n",
        "stopwords.append(\"così\")\n",
        "\n",
        "def process_text(text):\n",
        "  tokenized = RegexpTokenizer(r\"\\w+\").tokenize(text)\n",
        "  to_return = \"\"\n",
        "  stem_word_dictionary = {}\n",
        "  for token in tokenized:\n",
        "    if (token in stopwords or len(token) < 4 or token.isnumeric()):\n",
        "      continue\n",
        "    stemmed = ItalianStemmer().stem(token)\n",
        "    stem_word_dictionary[stemmed] = token.lower()\n",
        "    to_return = to_return + stemmed + \" \"\n",
        "  return (to_return[:-1], stem_word_dictionary)"
      ],
      "execution_count": null,
      "outputs": [
        {
          "output_type": "stream",
          "text": [
            "[nltk_data] Downloading package stopwords to /root/nltk_data...\n",
            "[nltk_data]   Package stopwords is already up-to-date!\n"
          ],
          "name": "stdout"
        }
      ]
    },
    {
      "cell_type": "code",
      "metadata": {
        "id": "_jEXqufDPTrD",
        "colab_type": "code",
        "colab": {}
      },
      "source": [
        "data = pd.read_csv(\"Comments_Data_1.csv\", sep = \"\\t\", encoding = \"utf-8\", index_col = 0)\n",
        "\n",
        "for index in range(2, 9):\n",
        "  other_data = pd.read_csv(\"Comments_Data_\" + str(index) + \".csv\", sep = \"\\t\", encoding = \"utf-8\", index_col = 0)\n",
        "  data = pd.concat([data, other_data], ignore_index = True)\n",
        "\n",
        "del other_data"
      ],
      "execution_count": null,
      "outputs": []
    },
    {
      "cell_type": "code",
      "metadata": {
        "id": "31fj0xSmZIsn",
        "colab_type": "code",
        "colab": {
          "base_uri": "https://localhost:8080/",
          "height": 419
        },
        "outputId": "5c2d9629-fa3a-40e3-ef9a-c22ea792c753"
      },
      "source": [
        "data"
      ],
      "execution_count": null,
      "outputs": [
        {
          "output_type": "execute_result",
          "data": {
            "text/html": [
              "<div>\n",
              "<style scoped>\n",
              "    .dataframe tbody tr th:only-of-type {\n",
              "        vertical-align: middle;\n",
              "    }\n",
              "\n",
              "    .dataframe tbody tr th {\n",
              "        vertical-align: top;\n",
              "    }\n",
              "\n",
              "    .dataframe thead th {\n",
              "        text-align: right;\n",
              "    }\n",
              "</style>\n",
              "<table border=\"1\" class=\"dataframe\">\n",
              "  <thead>\n",
              "    <tr style=\"text-align: right;\">\n",
              "      <th></th>\n",
              "      <th>Author</th>\n",
              "      <th>Submission ID</th>\n",
              "      <th>Text</th>\n",
              "      <th>Hour</th>\n",
              "      <th>Minute</th>\n",
              "      <th>Second</th>\n",
              "      <th>ID</th>\n",
              "      <th>Top Level</th>\n",
              "      <th>Parent ID</th>\n",
              "      <th>#Upvotes</th>\n",
              "    </tr>\n",
              "  </thead>\n",
              "  <tbody>\n",
              "    <tr>\n",
              "      <th>0</th>\n",
              "      <td>Lord_TheJc</td>\n",
              "      <td>f7txjb</td>\n",
              "      <td>Chiudo il thread, andate su quello nuovo\\n\\n/r...</td>\n",
              "      <td>12</td>\n",
              "      <td>25</td>\n",
              "      <td>40</td>\n",
              "      <td>fijqzau</td>\n",
              "      <td>True</td>\n",
              "      <td>f7txjb</td>\n",
              "      <td>1</td>\n",
              "    </tr>\n",
              "    <tr>\n",
              "      <th>1</th>\n",
              "      <td>EMOSCAMBIO</td>\n",
              "      <td>f7txjb</td>\n",
              "      <td>&gt;Ore 19.30 - Il presunto «paziente 0» negativo...</td>\n",
              "      <td>18</td>\n",
              "      <td>52</td>\n",
              "      <td>58</td>\n",
              "      <td>figab7t</td>\n",
              "      <td>True</td>\n",
              "      <td>f7txjb</td>\n",
              "      <td>83</td>\n",
              "    </tr>\n",
              "    <tr>\n",
              "      <th>2</th>\n",
              "      <td>drstins_n</td>\n",
              "      <td>f7txjb</td>\n",
              "      <td>&gt; Si allontana da Codogno e torna ad Avellino:...</td>\n",
              "      <td>21</td>\n",
              "      <td>40</td>\n",
              "      <td>54</td>\n",
              "      <td>fih8gxg</td>\n",
              "      <td>True</td>\n",
              "      <td>f7txjb</td>\n",
              "      <td>77</td>\n",
              "    </tr>\n",
              "    <tr>\n",
              "      <th>3</th>\n",
              "      <td>IceTea666</td>\n",
              "      <td>f7txjb</td>\n",
              "      <td>Dogana slovenia/croazia. Il poliziotto croato ...</td>\n",
              "      <td>22</td>\n",
              "      <td>17</td>\n",
              "      <td>8</td>\n",
              "      <td>fihft9k</td>\n",
              "      <td>True</td>\n",
              "      <td>f7txjb</td>\n",
              "      <td>75</td>\n",
              "    </tr>\n",
              "    <tr>\n",
              "      <th>4</th>\n",
              "      <td>panoramegamix</td>\n",
              "      <td>f7txjb</td>\n",
              "      <td>ho dato una veloce occhiata sui social \\n\\nNor...</td>\n",
              "      <td>17</td>\n",
              "      <td>52</td>\n",
              "      <td>2</td>\n",
              "      <td>fifwfbh</td>\n",
              "      <td>True</td>\n",
              "      <td>f7txjb</td>\n",
              "      <td>122</td>\n",
              "    </tr>\n",
              "    <tr>\n",
              "      <th>...</th>\n",
              "      <td>...</td>\n",
              "      <td>...</td>\n",
              "      <td>...</td>\n",
              "      <td>...</td>\n",
              "      <td>...</td>\n",
              "      <td>...</td>\n",
              "      <td>...</td>\n",
              "      <td>...</td>\n",
              "      <td>...</td>\n",
              "      <td>...</td>\n",
              "    </tr>\n",
              "    <tr>\n",
              "      <th>154651</th>\n",
              "      <td>magicobito</td>\n",
              "      <td>ggqrld</td>\n",
              "      <td>Grazie dello sbattone :)</td>\n",
              "      <td>7</td>\n",
              "      <td>47</td>\n",
              "      <td>22</td>\n",
              "      <td>fq92i1z</td>\n",
              "      <td>False</td>\n",
              "      <td>fq7g6n9</td>\n",
              "      <td>1</td>\n",
              "    </tr>\n",
              "    <tr>\n",
              "      <th>154652</th>\n",
              "      <td>Jeremia19</td>\n",
              "      <td>ggqrld</td>\n",
              "      <td>Tamponi. Fonte: l’han fatto al padre di un mio...</td>\n",
              "      <td>16</td>\n",
              "      <td>41</td>\n",
              "      <td>53</td>\n",
              "      <td>fq6cl9k</td>\n",
              "      <td>False</td>\n",
              "      <td>fq6ci40</td>\n",
              "      <td>1</td>\n",
              "    </tr>\n",
              "    <tr>\n",
              "      <th>154653</th>\n",
              "      <td>frost_burg</td>\n",
              "      <td>ggqrld</td>\n",
              "      <td>Tamponi, mi dicono.</td>\n",
              "      <td>18</td>\n",
              "      <td>39</td>\n",
              "      <td>33</td>\n",
              "      <td>fq6pgpr</td>\n",
              "      <td>False</td>\n",
              "      <td>fq6ci40</td>\n",
              "      <td>1</td>\n",
              "    </tr>\n",
              "    <tr>\n",
              "      <th>154654</th>\n",
              "      <td>Jkal91</td>\n",
              "      <td>ggqrld</td>\n",
              "      <td>Ma sono le quattro del pomeriggio, che vai a d...</td>\n",
              "      <td>14</td>\n",
              "      <td>25</td>\n",
              "      <td>22</td>\n",
              "      <td>fq5ync4</td>\n",
              "      <td>False</td>\n",
              "      <td>fq5xxtp</td>\n",
              "      <td>4</td>\n",
              "    </tr>\n",
              "    <tr>\n",
              "      <th>154655</th>\n",
              "      <td>th4</td>\n",
              "      <td>ggqrld</td>\n",
              "      <td>Ahah ma no è che non avrebbe molto senso parti...</td>\n",
              "      <td>14</td>\n",
              "      <td>34</td>\n",
              "      <td>57</td>\n",
              "      <td>fq5zjmz</td>\n",
              "      <td>False</td>\n",
              "      <td>fq5ync4</td>\n",
              "      <td>2</td>\n",
              "    </tr>\n",
              "  </tbody>\n",
              "</table>\n",
              "<p>154656 rows × 10 columns</p>\n",
              "</div>"
            ],
            "text/plain": [
              "               Author Submission ID  ... Parent ID  #Upvotes\n",
              "0          Lord_TheJc        f7txjb  ...    f7txjb         1\n",
              "1          EMOSCAMBIO        f7txjb  ...    f7txjb        83\n",
              "2           drstins_n        f7txjb  ...    f7txjb        77\n",
              "3           IceTea666        f7txjb  ...    f7txjb        75\n",
              "4       panoramegamix        f7txjb  ...    f7txjb       122\n",
              "...               ...           ...  ...       ...       ...\n",
              "154651     magicobito        ggqrld  ...   fq7g6n9         1\n",
              "154652      Jeremia19        ggqrld  ...   fq6ci40         1\n",
              "154653     frost_burg        ggqrld  ...   fq6ci40         1\n",
              "154654         Jkal91        ggqrld  ...   fq5xxtp         4\n",
              "154655            th4        ggqrld  ...   fq5ync4         2\n",
              "\n",
              "[154656 rows x 10 columns]"
            ]
          },
          "metadata": {
            "tags": []
          },
          "execution_count": 5
        }
      ]
    },
    {
      "cell_type": "code",
      "metadata": {
        "id": "ldkr71ftbHhK",
        "colab_type": "code",
        "colab": {
          "base_uri": "https://localhost:8080/",
          "height": 66,
          "referenced_widgets": [
            "a1d59620129a4908836dff363cda5ea1",
            "d3a5194f9f6842bdb46fd2ab3688f70d",
            "30207af3997e42379a90232a3140b38b",
            "96b5bf4983e24b7b8e3ffa795197a3bd",
            "8cc3b4f36ed6454395c8eb31c23a96ea",
            "e508a985ead446098ce62bf546e9bc41",
            "db3f34fcd0024acdbef7d054de99e7e5",
            "cc4451b9e3e548ac94b5b9b1e7c2ac62"
          ]
        },
        "outputId": "f7578d79-fecb-4d6a-9730-daca70f91b25"
      },
      "source": [
        "tokenized_data = []\n",
        "stem_word_dictionary = {}\n",
        "\n",
        "for index in tqdm(range(len(data))):\n",
        "  text, dictionary = process_text(data.iloc[index][\"Text\"])\n",
        "  stem_word_dictionary.update(dictionary)\n",
        "  tokenized_data.append(text)"
      ],
      "execution_count": null,
      "outputs": [
        {
          "output_type": "display_data",
          "data": {
            "application/vnd.jupyter.widget-view+json": {
              "model_id": "a1d59620129a4908836dff363cda5ea1",
              "version_minor": 0,
              "version_major": 2
            },
            "text/plain": [
              "HBox(children=(FloatProgress(value=0.0, max=154656.0), HTML(value='')))"
            ]
          },
          "metadata": {
            "tags": []
          }
        },
        {
          "output_type": "stream",
          "text": [
            "\n"
          ],
          "name": "stdout"
        }
      ]
    },
    {
      "cell_type": "code",
      "metadata": {
        "id": "evGgemOEZLJF",
        "colab_type": "code",
        "colab": {
          "base_uri": "https://localhost:8080/",
          "height": 419
        },
        "outputId": "132982ec-a5d1-430a-b026-066419bc5b4c"
      },
      "source": [
        "data[\"Processed Text\"] = tokenized_data\n",
        "data"
      ],
      "execution_count": null,
      "outputs": [
        {
          "output_type": "execute_result",
          "data": {
            "text/html": [
              "<div>\n",
              "<style scoped>\n",
              "    .dataframe tbody tr th:only-of-type {\n",
              "        vertical-align: middle;\n",
              "    }\n",
              "\n",
              "    .dataframe tbody tr th {\n",
              "        vertical-align: top;\n",
              "    }\n",
              "\n",
              "    .dataframe thead th {\n",
              "        text-align: right;\n",
              "    }\n",
              "</style>\n",
              "<table border=\"1\" class=\"dataframe\">\n",
              "  <thead>\n",
              "    <tr style=\"text-align: right;\">\n",
              "      <th></th>\n",
              "      <th>Author</th>\n",
              "      <th>Submission ID</th>\n",
              "      <th>Text</th>\n",
              "      <th>Hour</th>\n",
              "      <th>Minute</th>\n",
              "      <th>Second</th>\n",
              "      <th>ID</th>\n",
              "      <th>Top Level</th>\n",
              "      <th>Parent ID</th>\n",
              "      <th>#Upvotes</th>\n",
              "      <th>Processed Text</th>\n",
              "    </tr>\n",
              "  </thead>\n",
              "  <tbody>\n",
              "    <tr>\n",
              "      <th>0</th>\n",
              "      <td>Lord_TheJc</td>\n",
              "      <td>f7txjb</td>\n",
              "      <td>Chiudo il thread, andate su quello nuovo\\n\\n/r...</td>\n",
              "      <td>12</td>\n",
              "      <td>25</td>\n",
              "      <td>40</td>\n",
              "      <td>fijqzau</td>\n",
              "      <td>True</td>\n",
              "      <td>f7txjb</td>\n",
              "      <td>1</td>\n",
              "      <td>chiud thread andat nuov italy comments f87rbo ...</td>\n",
              "    </tr>\n",
              "    <tr>\n",
              "      <th>1</th>\n",
              "      <td>EMOSCAMBIO</td>\n",
              "      <td>f7txjb</td>\n",
              "      <td>&gt;Ore 19.30 - Il presunto «paziente 0» negativo...</td>\n",
              "      <td>18</td>\n",
              "      <td>52</td>\n",
              "      <td>58</td>\n",
              "      <td>figab7t</td>\n",
              "      <td>True</td>\n",
              "      <td>f7txjb</td>\n",
              "      <td>83</td>\n",
              "      <td>presunt pazient negat test coronavirus presunt...</td>\n",
              "    </tr>\n",
              "    <tr>\n",
              "      <th>2</th>\n",
              "      <td>drstins_n</td>\n",
              "      <td>f7txjb</td>\n",
              "      <td>&gt; Si allontana da Codogno e torna ad Avellino:...</td>\n",
              "      <td>21</td>\n",
              "      <td>40</td>\n",
              "      <td>54</td>\n",
              "      <td>fih8gxg</td>\n",
              "      <td>True</td>\n",
              "      <td>f7txjb</td>\n",
              "      <td>77</td>\n",
              "      <td>allontan codogn torn avellin famigl quaranten ...</td>\n",
              "    </tr>\n",
              "    <tr>\n",
              "      <th>3</th>\n",
              "      <td>IceTea666</td>\n",
              "      <td>f7txjb</td>\n",
              "      <td>Dogana slovenia/croazia. Il poliziotto croato ...</td>\n",
              "      <td>22</td>\n",
              "      <td>17</td>\n",
              "      <td>8</td>\n",
              "      <td>fihft9k</td>\n",
              "      <td>True</td>\n",
              "      <td>f7txjb</td>\n",
              "      <td>75</td>\n",
              "      <td>dogan sloven croaz poliziott cro dov controll ...</td>\n",
              "    </tr>\n",
              "    <tr>\n",
              "      <th>4</th>\n",
              "      <td>panoramegamix</td>\n",
              "      <td>f7txjb</td>\n",
              "      <td>ho dato una veloce occhiata sui social \\n\\nNor...</td>\n",
              "      <td>17</td>\n",
              "      <td>52</td>\n",
              "      <td>2</td>\n",
              "      <td>fifwfbh</td>\n",
              "      <td>True</td>\n",
              "      <td>f7txjb</td>\n",
              "      <td>122</td>\n",
              "      <td>dat veloc occhi social nord mor centr mor aiut...</td>\n",
              "    </tr>\n",
              "    <tr>\n",
              "      <th>...</th>\n",
              "      <td>...</td>\n",
              "      <td>...</td>\n",
              "      <td>...</td>\n",
              "      <td>...</td>\n",
              "      <td>...</td>\n",
              "      <td>...</td>\n",
              "      <td>...</td>\n",
              "      <td>...</td>\n",
              "      <td>...</td>\n",
              "      <td>...</td>\n",
              "      <td>...</td>\n",
              "    </tr>\n",
              "    <tr>\n",
              "      <th>154651</th>\n",
              "      <td>magicobito</td>\n",
              "      <td>ggqrld</td>\n",
              "      <td>Grazie dello sbattone :)</td>\n",
              "      <td>7</td>\n",
              "      <td>47</td>\n",
              "      <td>22</td>\n",
              "      <td>fq92i1z</td>\n",
              "      <td>False</td>\n",
              "      <td>fq7g6n9</td>\n",
              "      <td>1</td>\n",
              "      <td>graz sbatton</td>\n",
              "    </tr>\n",
              "    <tr>\n",
              "      <th>154652</th>\n",
              "      <td>Jeremia19</td>\n",
              "      <td>ggqrld</td>\n",
              "      <td>Tamponi. Fonte: l’han fatto al padre di un mio...</td>\n",
              "      <td>16</td>\n",
              "      <td>41</td>\n",
              "      <td>53</td>\n",
              "      <td>fq6cl9k</td>\n",
              "      <td>False</td>\n",
              "      <td>fq6ci40</td>\n",
              "      <td>1</td>\n",
              "      <td>tampon font fatt padr amic stat rifer</td>\n",
              "    </tr>\n",
              "    <tr>\n",
              "      <th>154653</th>\n",
              "      <td>frost_burg</td>\n",
              "      <td>ggqrld</td>\n",
              "      <td>Tamponi, mi dicono.</td>\n",
              "      <td>18</td>\n",
              "      <td>39</td>\n",
              "      <td>33</td>\n",
              "      <td>fq6pgpr</td>\n",
              "      <td>False</td>\n",
              "      <td>fq6ci40</td>\n",
              "      <td>1</td>\n",
              "      <td>tampon dic</td>\n",
              "    </tr>\n",
              "    <tr>\n",
              "      <th>154654</th>\n",
              "      <td>Jkal91</td>\n",
              "      <td>ggqrld</td>\n",
              "      <td>Ma sono le quattro del pomeriggio, che vai a d...</td>\n",
              "      <td>14</td>\n",
              "      <td>25</td>\n",
              "      <td>22</td>\n",
              "      <td>fq5ync4</td>\n",
              "      <td>False</td>\n",
              "      <td>fq5xxtp</td>\n",
              "      <td>4</td>\n",
              "      <td>quattr pomerigg dorm ospedal</td>\n",
              "    </tr>\n",
              "    <tr>\n",
              "      <th>154655</th>\n",
              "      <td>th4</td>\n",
              "      <td>ggqrld</td>\n",
              "      <td>Ahah ma no è che non avrebbe molto senso parti...</td>\n",
              "      <td>14</td>\n",
              "      <td>34</td>\n",
              "      <td>57</td>\n",
              "      <td>fq5zjmz</td>\n",
              "      <td>False</td>\n",
              "      <td>fq5ync4</td>\n",
              "      <td>2</td>\n",
              "      <td>ahah molt sens part adess fars viagg dover tor...</td>\n",
              "    </tr>\n",
              "  </tbody>\n",
              "</table>\n",
              "<p>154656 rows × 11 columns</p>\n",
              "</div>"
            ],
            "text/plain": [
              "               Author  ...                                     Processed Text\n",
              "0          Lord_TheJc  ...  chiud thread andat nuov italy comments f87rbo ...\n",
              "1          EMOSCAMBIO  ...  presunt pazient negat test coronavirus presunt...\n",
              "2           drstins_n  ...  allontan codogn torn avellin famigl quaranten ...\n",
              "3           IceTea666  ...  dogan sloven croaz poliziott cro dov controll ...\n",
              "4       panoramegamix  ...  dat veloc occhi social nord mor centr mor aiut...\n",
              "...               ...  ...                                                ...\n",
              "154651     magicobito  ...                                       graz sbatton\n",
              "154652      Jeremia19  ...              tampon font fatt padr amic stat rifer\n",
              "154653     frost_burg  ...                                         tampon dic\n",
              "154654         Jkal91  ...                       quattr pomerigg dorm ospedal\n",
              "154655            th4  ...  ahah molt sens part adess fars viagg dover tor...\n",
              "\n",
              "[154656 rows x 11 columns]"
            ]
          },
          "metadata": {
            "tags": []
          },
          "execution_count": 7
        }
      ]
    },
    {
      "cell_type": "code",
      "metadata": {
        "id": "z2w1hFvMcLpQ",
        "colab_type": "code",
        "colab": {}
      },
      "source": [
        "data.to_csv(\"Comments_Data_Final.csv\", encoding = \"utf-8\", sep = \"\\t\")"
      ],
      "execution_count": null,
      "outputs": []
    },
    {
      "cell_type": "code",
      "metadata": {
        "id": "JciUxxFkaLwm",
        "colab_type": "code",
        "colab": {}
      },
      "source": [
        "with open(\"stem_word_dictionary.json\", \"w+\") as file:\n",
        "  json.dump(stem_word_dictionary, file)"
      ],
      "execution_count": null,
      "outputs": []
    },
    {
      "cell_type": "code",
      "metadata": {
        "id": "xpdFfzTX9nFc",
        "colab_type": "code",
        "colab": {}
      },
      "source": [
        "reduced_data = data[data[\"Processed Text\"].apply(lambda x : len(x.split(\" \"))) > 4]"
      ],
      "execution_count": null,
      "outputs": []
    },
    {
      "cell_type": "markdown",
      "metadata": {
        "id": "GRNriUyXrCVt",
        "colab_type": "text"
      },
      "source": [
        "# Latent Dirichlet Analysis"
      ]
    },
    {
      "cell_type": "code",
      "metadata": {
        "id": "E41rv_5drBzj",
        "colab_type": "code",
        "colab": {}
      },
      "source": [
        "from sklearn.feature_extraction.text import CountVectorizer\n",
        "from sklearn.decomposition import LatentDirichletAllocation\n",
        "from joblib import dump, load\n",
        "\n",
        "reduced_CT = CountVectorizer().fit(reduced_data[\"Processed Text\"])\n",
        "CT = CountVectorizer().fit(data[\"Processed Text\"])"
      ],
      "execution_count": null,
      "outputs": []
    },
    {
      "cell_type": "code",
      "metadata": {
        "id": "I27fG-7X-TyA",
        "colab_type": "code",
        "colab": {
          "base_uri": "https://localhost:8080/",
          "height": 34
        },
        "outputId": "7fc8d587-881a-462b-dd97-2975b8a6b79d"
      },
      "source": [
        "dump(reduced_CT, \"Reduced_Count_Vectorizer.joblib\")\n",
        "dump(CT, \"Count_Vectorizer.joblib\")"
      ],
      "execution_count": null,
      "outputs": [
        {
          "output_type": "execute_result",
          "data": {
            "text/plain": [
              "['Count_Vectorizer.joblib']"
            ]
          },
          "metadata": {
            "tags": []
          },
          "execution_count": 23
        }
      ]
    },
    {
      "cell_type": "code",
      "metadata": {
        "id": "kftZ3gr9-sO9",
        "colab_type": "code",
        "colab": {
          "base_uri": "https://localhost:8080/",
          "height": 66,
          "referenced_widgets": [
            "7dcf78c441f4433b93b910e4a840dbe1",
            "1e8be901959d4333b118c81e4bb43cbb",
            "ffa9aa79535a48a39bf9af2a9b54307f",
            "4436caaa350443f580f86246aad26075",
            "d7738c86bcdd40ef83c1a1570db90efa",
            "2559fa6e60c0475f8a079c141b182001",
            "c350c61e67944e2f99bbeace70a82ab7",
            "ae07cc22076b4042a22f3845a090bbbc"
          ]
        },
        "outputId": "f99f20c1-ed73-4d79-904b-43223831a81a"
      },
      "source": [
        "for n_topics in tqdm(range(2, 8)):\n",
        "  documents_words_matrix = reduced_CT.transform(reduced_data[\"Processed Text\"])\n",
        "  reduced_LDA = LatentDirichletAllocation(n_components = n_topics).fit(documents_words_matrix)\n",
        "  documents_words_matrix = CT.transform(data[\"Processed Text\"])\n",
        "  LDA = LatentDirichletAllocation(n_components = n_topics).fit(documents_words_matrix)\n",
        "  dump(reduced_LDA, \"Reduced_LDA_\" + str(n_topics) + \".joblib\")\n",
        "  dump(LDA, \"LDA_\" + str(n_topics) + \".joblib\")"
      ],
      "execution_count": null,
      "outputs": [
        {
          "output_type": "display_data",
          "data": {
            "application/vnd.jupyter.widget-view+json": {
              "model_id": "7dcf78c441f4433b93b910e4a840dbe1",
              "version_minor": 0,
              "version_major": 2
            },
            "text/plain": [
              "HBox(children=(FloatProgress(value=0.0, max=6.0), HTML(value='')))"
            ]
          },
          "metadata": {
            "tags": []
          }
        },
        {
          "output_type": "stream",
          "text": [
            "\n"
          ],
          "name": "stdout"
        }
      ]
    },
    {
      "cell_type": "markdown",
      "metadata": {
        "id": "12z6KlytvXqZ",
        "colab_type": "text"
      },
      "source": [
        "# Evaluation"
      ]
    },
    {
      "cell_type": "code",
      "metadata": {
        "id": "wYQ1AM3pBU1f",
        "colab_type": "code",
        "colab": {}
      },
      "source": [
        "import heapq\n",
        "import time\n",
        "import requests\n",
        "from bs4 import BeautifulSoup as BS\n",
        "import random"
      ],
      "execution_count": null,
      "outputs": []
    },
    {
      "cell_type": "code",
      "metadata": {
        "id": "7wy6aA5pv_1l",
        "colab_type": "code",
        "colab": {}
      },
      "source": [
        "with open(\"stem_word_dictionary.json\", \"r\") as file:\n",
        "    stem_word_dict = json.load(file)"
      ],
      "execution_count": null,
      "outputs": []
    },
    {
      "cell_type": "code",
      "metadata": {
        "id": "8RAUedySwEWm",
        "colab_type": "code",
        "colab": {}
      },
      "source": [
        "def get_top_words(lda_model, topic, N, inverse_vocab, stem_word_dict):\n",
        "    top_words_stemmed = []\n",
        "    for couple in heapq.nlargest(N, enumerate(lda_model.components_[topic]), lambda x : x[1]):\n",
        "        top_words_stemmed.append(inverse_vocab[couple[0]])\n",
        "    top_words_base = [stem_word_dict[x] for x in top_words_stemmed]\n",
        "    return(top_words_base, top_words_stemmed)"
      ],
      "execution_count": null,
      "outputs": []
    },
    {
      "cell_type": "code",
      "metadata": {
        "id": "UfqO5bv-wPD1",
        "colab_type": "code",
        "colab": {}
      },
      "source": [
        "def get_google_score(top_words_base, top_words_stemmed):\n",
        "    to_return = 0\n",
        "    query = \"+\" + \"+\".join(top_words_base)\n",
        "    for index in range(0, 210, 10):\n",
        "        page = requests.get(f\"https://google.com/search?q=\" + query + \"&start=\" + str(index))\n",
        "        parser = BS(page.content, \"html.parser\")\n",
        "        for title in parser.find_all(\"h3\"):\n",
        "            tokens = process_text(title.text)[0].split(\" \")\n",
        "            for word in top_words_stemmed:\n",
        "                if(word in tokens):\n",
        "                    to_return = to_return + 1\n",
        "        time.sleep(3)\n",
        "    return(to_return)"
      ],
      "execution_count": null,
      "outputs": []
    },
    {
      "cell_type": "code",
      "metadata": {
        "id": "il7RyuipwStD",
        "colab_type": "code",
        "colab": {}
      },
      "source": [
        "def get_scores(lda_model, N, inverse_vocab, stem_word_dict):\n",
        "    to_return = []\n",
        "    for topic in range(len(lda_model.components_)):\n",
        "        base, stemmed = get_top_words(lda_model, topic, N, inverse_vocab, stem_word_dict)\n",
        "        to_return.append(get_google_score(base, stemmed))\n",
        "    return(to_return)"
      ],
      "execution_count": null,
      "outputs": []
    },
    {
      "cell_type": "code",
      "metadata": {
        "id": "YBaAVM9twfST",
        "colab_type": "code",
        "colab": {}
      },
      "source": [
        "CT = load(\"Count_Vectorizer.joblib\")\n",
        "Reduced_CT = load(\"Reduced_Count_Vectorizer.joblib\")\n",
        "\n",
        "inverse_vocabulary = {value : key for key, value in CT.vocabulary_.items()}\n",
        "reduced_inverse_vocabulary = {value : key for key, value in Reduced_CT.vocabulary_.items()}"
      ],
      "execution_count": null,
      "outputs": []
    },
    {
      "cell_type": "code",
      "metadata": {
        "id": "_UzT_td-wVzr",
        "colab_type": "code",
        "colab": {}
      },
      "source": [
        "to_save = {}\n",
        "\n",
        "for index in tqdm(range(2, 8)):\n",
        "    LDA = load(\"Reduced_LDA_\" + str(index) + \".joblib\")\n",
        "    to_save[index] = get_scores(LDA, 10, inverse_vocabulary, stem_word_dict)\n",
        "    \n",
        "with open(\"TITLES_eval.json\", \"w+\") as file:\n",
        "    json.dump(to_save, file)"
      ],
      "execution_count": null,
      "outputs": []
    },
    {
      "cell_type": "code",
      "metadata": {
        "id": "KLJ1tEkPwZBY",
        "colab_type": "code",
        "colab": {}
      },
      "source": [
        "to_save = {}\n",
        "\n",
        "for index in tqdm(range(2, 8)):\n",
        "    LDA = load(\"LDA_\" + str(index) + \".joblib\")\n",
        "    to_save[index] = get_scores(LDA, 10, reduced_inverse_vocabulary, stem_word_dict)\n",
        "    \n",
        "with open(\"Reduced_TITLES_eval.json\", \"w+\") as file:\n",
        "    json.dump(to_save, file)"
      ],
      "execution_count": null,
      "outputs": []
    },
    {
      "cell_type": "code",
      "metadata": {
        "id": "gAAi__FvwwGC",
        "colab_type": "code",
        "colab": {}
      },
      "source": [
        "def get_quiz(lda_model, inverse_vocabulary, stem_to_word_dict, dictionary):\n",
        "  to_return = {}\n",
        "\n",
        "  for topic in range(len(lda_model.components_)):\n",
        "    top_words = get_top_words(lda_model, topic, 40, inverse_vocabulary, stem_to_word_dict)[0]\n",
        "    correct_choices = random.sample(top_words, 15)\n",
        "    wrong_choices = random.sample(dictionary, 3)\n",
        "    to_return[topic] = []\n",
        "    for index in range(3):\n",
        "      to_append = [(word, \"T\") for word in correct_choices[index * 5: 5 * (index + 1)]]\n",
        "      to_append.append((wrong_choices[index], \"F\"))\n",
        "      to_return[topic].append(to_append)\n",
        "  \n",
        "  return (to_return)"
      ],
      "execution_count": null,
      "outputs": []
    }
  ]
}